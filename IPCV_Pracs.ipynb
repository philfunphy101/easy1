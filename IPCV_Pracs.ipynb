{
  "nbformat": 4,
  "nbformat_minor": 0,
  "metadata": {
    "colab": {
      "provenance": []
    },
    "kernelspec": {
      "name": "python3",
      "display_name": "Python 3"
    },
    "language_info": {
      "name": "python"
    }
  },
  "cells": [
    {
      "cell_type": "code",
      "execution_count": null,
      "metadata": {
        "id": "08Lck28UNSew"
      },
      "outputs": [],
      "source": [
        "import pandas as pd\n",
        "import numpy as np\n",
        "import matplotlib.pyplot as plt"
      ]
    },
    {
      "cell_type": "code",
      "source": [
        "# import PIL\n",
        "# from PIL import Image\n",
        "# import pandas as pd\n",
        "# import numpy as np\n",
        "# import matplotlib.pyplot as plt\n",
        "# import random\n",
        "# import os\n",
        "\n",
        "# df=pd.read_csv('fashion-mnist_train.csv')\n",
        "# df.head()\n",
        "\n",
        "# rownum=100\n",
        "# if rownum>-1 and rownum<len(df):\n",
        "#     pixels=df.iloc[rownum][1:].values.reshape(28,28)\n",
        "#     array=np.array(pixels,dtype=np.uint8)\n",
        "#     img=Image.fromarray(array)\n",
        "#     img.save('1.jpg')\n",
        "# else:\n",
        "#     print('Row index out of bounds')\n",
        "\n",
        "# img=plt.imread('1.jpg')\n",
        "# plt.imshow(img,cmap='Greys_r')\n",
        "# plt.axis('off')\n",
        "# plt.show()\n",
        "\n",
        "\n",
        "# #flatten 734 pixels,\n",
        "# imgpath='river.jpg'\n",
        "# ima=Image.open(imgpath)\n",
        "# ima.show()\n",
        "\n",
        "# img = Image.open(image_path)\n",
        "\n",
        "# # Step 2: Define the cropping box (left, upper, right, lower)\n",
        "# # Example: Crop a region starting from (100, 100) to (400, 400)\n",
        "# crop_box = (100, 100, 400, 400)\n",
        "\n",
        "# # Step 3: Crop the image using the defined box\n",
        "# cropped_img = img.crop(crop_box)\n",
        "\n",
        "# # Step 4: Display the cropped image\n",
        "# plt.imshow(cropped_img)\n",
        "# plt.axis('off')\n",
        "# plt.show()"
      ],
      "metadata": {
        "id": "ycp2-ZflvUkz"
      },
      "execution_count": null,
      "outputs": []
    },
    {
      "cell_type": "markdown",
      "source": [
        "# Base Code for reading CSV as image (numpy array )"
      ],
      "metadata": {
        "id": "yobkh4tGpwaa"
      }
    },
    {
      "cell_type": "code",
      "source": [
        "df=pd.read_csv('https://raw.githubusercontent.com/ymattu/fashion-mnist-csv/refs/heads/master/fashion_train.csv')"
      ],
      "metadata": {
        "id": "CKr9UecUNY_z"
      },
      "execution_count": null,
      "outputs": []
    },
    {
      "cell_type": "code",
      "source": [
        "\n",
        "df.columns"
      ],
      "metadata": {
        "colab": {
          "base_uri": "https://localhost:8080/"
        },
        "id": "xFP1jSpnNt5H",
        "outputId": "cd3759e4-1b0d-4e16-a2c4-8150000e7daa"
      },
      "execution_count": null,
      "outputs": [
        {
          "output_type": "execute_result",
          "data": {
            "text/plain": [
              "Index(['V1', 'V2', 'V3', 'V4', 'V5', 'V6', 'V7', 'V8', 'V9', 'V10',\n",
              "       ...\n",
              "       'V776', 'V777', 'V778', 'V779', 'V780', 'V781', 'V782', 'V783', 'V784',\n",
              "       'y'],\n",
              "      dtype='object', length=785)"
            ]
          },
          "metadata": {},
          "execution_count": 3
        }
      ]
    },
    {
      "cell_type": "code",
      "source": [
        "df.drop(columns=['y'],inplace=True)"
      ],
      "metadata": {
        "id": "t8n-ndadNqeE"
      },
      "execution_count": null,
      "outputs": []
    },
    {
      "cell_type": "code",
      "source": [
        "df.head(1)"
      ],
      "metadata": {
        "colab": {
          "base_uri": "https://localhost:8080/",
          "height": 110
        },
        "id": "ri4aGCZ-Rlx3",
        "outputId": "b68715de-fe86-4b0d-92db-e34942a9877c"
      },
      "execution_count": null,
      "outputs": [
        {
          "output_type": "execute_result",
          "data": {
            "text/plain": [
              "   V1  V2  V3  V4  V5  V6  V7  V8  V9  V10  ...  V775  V776  V777  V778  V779  \\\n",
              "0   0   0   0   0   0   0   0   0   0   22  ...    49     0     0     1     0   \n",
              "\n",
              "   V780  V781  V782  V783  V784  \n",
              "0     0     3     0     0     0  \n",
              "\n",
              "[1 rows x 784 columns]"
            ],
            "text/html": [
              "\n",
              "  <div id=\"df-6803ac42-1398-4968-b48b-9561dcd10948\" class=\"colab-df-container\">\n",
              "    <div>\n",
              "<style scoped>\n",
              "    .dataframe tbody tr th:only-of-type {\n",
              "        vertical-align: middle;\n",
              "    }\n",
              "\n",
              "    .dataframe tbody tr th {\n",
              "        vertical-align: top;\n",
              "    }\n",
              "\n",
              "    .dataframe thead th {\n",
              "        text-align: right;\n",
              "    }\n",
              "</style>\n",
              "<table border=\"1\" class=\"dataframe\">\n",
              "  <thead>\n",
              "    <tr style=\"text-align: right;\">\n",
              "      <th></th>\n",
              "      <th>V1</th>\n",
              "      <th>V2</th>\n",
              "      <th>V3</th>\n",
              "      <th>V4</th>\n",
              "      <th>V5</th>\n",
              "      <th>V6</th>\n",
              "      <th>V7</th>\n",
              "      <th>V8</th>\n",
              "      <th>V9</th>\n",
              "      <th>V10</th>\n",
              "      <th>...</th>\n",
              "      <th>V775</th>\n",
              "      <th>V776</th>\n",
              "      <th>V777</th>\n",
              "      <th>V778</th>\n",
              "      <th>V779</th>\n",
              "      <th>V780</th>\n",
              "      <th>V781</th>\n",
              "      <th>V782</th>\n",
              "      <th>V783</th>\n",
              "      <th>V784</th>\n",
              "    </tr>\n",
              "  </thead>\n",
              "  <tbody>\n",
              "    <tr>\n",
              "      <th>0</th>\n",
              "      <td>0</td>\n",
              "      <td>0</td>\n",
              "      <td>0</td>\n",
              "      <td>0</td>\n",
              "      <td>0</td>\n",
              "      <td>0</td>\n",
              "      <td>0</td>\n",
              "      <td>0</td>\n",
              "      <td>0</td>\n",
              "      <td>22</td>\n",
              "      <td>...</td>\n",
              "      <td>49</td>\n",
              "      <td>0</td>\n",
              "      <td>0</td>\n",
              "      <td>1</td>\n",
              "      <td>0</td>\n",
              "      <td>0</td>\n",
              "      <td>3</td>\n",
              "      <td>0</td>\n",
              "      <td>0</td>\n",
              "      <td>0</td>\n",
              "    </tr>\n",
              "  </tbody>\n",
              "</table>\n",
              "<p>1 rows × 784 columns</p>\n",
              "</div>\n",
              "    <div class=\"colab-df-buttons\">\n",
              "\n",
              "  <div class=\"colab-df-container\">\n",
              "    <button class=\"colab-df-convert\" onclick=\"convertToInteractive('df-6803ac42-1398-4968-b48b-9561dcd10948')\"\n",
              "            title=\"Convert this dataframe to an interactive table.\"\n",
              "            style=\"display:none;\">\n",
              "\n",
              "  <svg xmlns=\"http://www.w3.org/2000/svg\" height=\"24px\" viewBox=\"0 -960 960 960\">\n",
              "    <path d=\"M120-120v-720h720v720H120Zm60-500h600v-160H180v160Zm220 220h160v-160H400v160Zm0 220h160v-160H400v160ZM180-400h160v-160H180v160Zm440 0h160v-160H620v160ZM180-180h160v-160H180v160Zm440 0h160v-160H620v160Z\"/>\n",
              "  </svg>\n",
              "    </button>\n",
              "\n",
              "  <style>\n",
              "    .colab-df-container {\n",
              "      display:flex;\n",
              "      gap: 12px;\n",
              "    }\n",
              "\n",
              "    .colab-df-convert {\n",
              "      background-color: #E8F0FE;\n",
              "      border: none;\n",
              "      border-radius: 50%;\n",
              "      cursor: pointer;\n",
              "      display: none;\n",
              "      fill: #1967D2;\n",
              "      height: 32px;\n",
              "      padding: 0 0 0 0;\n",
              "      width: 32px;\n",
              "    }\n",
              "\n",
              "    .colab-df-convert:hover {\n",
              "      background-color: #E2EBFA;\n",
              "      box-shadow: 0px 1px 2px rgba(60, 64, 67, 0.3), 0px 1px 3px 1px rgba(60, 64, 67, 0.15);\n",
              "      fill: #174EA6;\n",
              "    }\n",
              "\n",
              "    .colab-df-buttons div {\n",
              "      margin-bottom: 4px;\n",
              "    }\n",
              "\n",
              "    [theme=dark] .colab-df-convert {\n",
              "      background-color: #3B4455;\n",
              "      fill: #D2E3FC;\n",
              "    }\n",
              "\n",
              "    [theme=dark] .colab-df-convert:hover {\n",
              "      background-color: #434B5C;\n",
              "      box-shadow: 0px 1px 3px 1px rgba(0, 0, 0, 0.15);\n",
              "      filter: drop-shadow(0px 1px 2px rgba(0, 0, 0, 0.3));\n",
              "      fill: #FFFFFF;\n",
              "    }\n",
              "  </style>\n",
              "\n",
              "    <script>\n",
              "      const buttonEl =\n",
              "        document.querySelector('#df-6803ac42-1398-4968-b48b-9561dcd10948 button.colab-df-convert');\n",
              "      buttonEl.style.display =\n",
              "        google.colab.kernel.accessAllowed ? 'block' : 'none';\n",
              "\n",
              "      async function convertToInteractive(key) {\n",
              "        const element = document.querySelector('#df-6803ac42-1398-4968-b48b-9561dcd10948');\n",
              "        const dataTable =\n",
              "          await google.colab.kernel.invokeFunction('convertToInteractive',\n",
              "                                                    [key], {});\n",
              "        if (!dataTable) return;\n",
              "\n",
              "        const docLinkHtml = 'Like what you see? Visit the ' +\n",
              "          '<a target=\"_blank\" href=https://colab.research.google.com/notebooks/data_table.ipynb>data table notebook</a>'\n",
              "          + ' to learn more about interactive tables.';\n",
              "        element.innerHTML = '';\n",
              "        dataTable['output_type'] = 'display_data';\n",
              "        await google.colab.output.renderOutput(dataTable, element);\n",
              "        const docLink = document.createElement('div');\n",
              "        docLink.innerHTML = docLinkHtml;\n",
              "        element.appendChild(docLink);\n",
              "      }\n",
              "    </script>\n",
              "  </div>\n",
              "\n",
              "\n",
              "    </div>\n",
              "  </div>\n"
            ],
            "application/vnd.google.colaboratory.intrinsic+json": {
              "type": "dataframe",
              "variable_name": "df"
            }
          },
          "metadata": {},
          "execution_count": 50
        }
      ]
    },
    {
      "cell_type": "code",
      "source": [
        "\n",
        "import os\n",
        "os.makedirs('mnist_images')"
      ],
      "metadata": {
        "id": "kmUaX8e1N3QA"
      },
      "execution_count": null,
      "outputs": []
    },
    {
      "cell_type": "code",
      "source": [
        "images=[]\n",
        "for _,row in df.iterrows():\n",
        "    img = np.reshape(np.array(row),(28,28))\n",
        "    # plt.imsave(f'mnist_images/{_}.png',img)\n",
        "    images.append(img)"
      ],
      "metadata": {
        "id": "t428vr61NxBF"
      },
      "execution_count": null,
      "outputs": []
    },
    {
      "cell_type": "code",
      "source": [
        "images[0].shape"
      ],
      "metadata": {
        "colab": {
          "base_uri": "https://localhost:8080/"
        },
        "id": "aY6j18JmXQ24",
        "outputId": "796ee22a-2b3e-4466-9302-862be5384cd6"
      },
      "execution_count": null,
      "outputs": [
        {
          "output_type": "execute_result",
          "data": {
            "text/plain": [
              "(28, 28)"
            ]
          },
          "metadata": {},
          "execution_count": 54
        }
      ]
    },
    {
      "cell_type": "code",
      "source": [
        "plt.imshow(images[0],cmap='gray')"
      ],
      "metadata": {
        "colab": {
          "base_uri": "https://localhost:8080/",
          "height": 447
        },
        "id": "wsHDMRlmNxrV",
        "outputId": "581599cf-81ab-43c7-bf44-8a590e47de26"
      },
      "execution_count": null,
      "outputs": [
        {
          "output_type": "execute_result",
          "data": {
            "text/plain": [
              "<matplotlib.image.AxesImage at 0x7e718199e8f0>"
            ]
          },
          "metadata": {},
          "execution_count": 55
        },
        {
          "output_type": "display_data",
          "data": {
            "text/plain": [
              "<Figure size 640x480 with 1 Axes>"
            ],
            "image/png": "[encoded data removed]"
          },
          "metadata": {}
        }
      ]
    },
    {
      "cell_type": "code",
      "source": [
        "color_img=plt.imread('col.jpg')"
      ],
      "metadata": {
        "id": "j4sJv_MPOVKn"
      },
      "execution_count": null,
      "outputs": []
    },
    {
      "cell_type": "code",
      "source": [
        "gs_img = np.dot(color_img[...,:3], [1/3,1/3,1/3])"
      ],
      "metadata": {
        "id": "4sllWzsZig97"
      },
      "execution_count": null,
      "outputs": []
    },
    {
      "cell_type": "code",
      "source": [
        "gs_img.max()"
      ],
      "metadata": {
        "colab": {
          "base_uri": "https://localhost:8080/"
        },
        "id": "4yreWn3tjFSW",
        "outputId": "367eaa9e-82a9-44aa-a9a7-89dce7eb3ec4"
      },
      "execution_count": null,
      "outputs": [
        {
          "output_type": "execute_result",
          "data": {
            "text/plain": [
              "594"
            ]
          },
          "metadata": {},
          "execution_count": 420
        }
      ]
    },
    {
      "cell_type": "code",
      "source": [],
      "metadata": {
        "id": "GqIQ2EAPjSeU"
      },
      "execution_count": null,
      "outputs": []
    },
    {
      "cell_type": "markdown",
      "source": [],
      "metadata": {
        "id": "Bwpc5BJaPAA2"
      }
    },
    {
      "cell_type": "markdown",
      "source": [
        " - Convert to gray scale\n",
        " - Crop an image\n",
        " - Arithmetic Operations\n",
        "   - negative\n",
        "   - addition\n",
        "   - substraction\n",
        "   - XOR\n",
        " - Logical\n",
        "   - OR\n",
        "   - AND\n",
        "   - XOR"
      ],
      "metadata": {
        "id": "xdpLUG83ot-K"
      }
    },
    {
      "cell_type": "markdown",
      "source": [
        "Cropping"
      ],
      "metadata": {
        "id": "YzzSgsRJXhgw"
      }
    },
    {
      "cell_type": "code",
      "source": [
        "\n",
        "plt.imshow(images[1],cmap='gray')"
      ],
      "metadata": {
        "colab": {
          "base_uri": "https://localhost:8080/",
          "height": 447
        },
        "id": "48cctBKPPw__",
        "outputId": "0078017a-ad69-4531-bbd5-39d6e61ed437"
      },
      "execution_count": null,
      "outputs": [
        {
          "output_type": "execute_result",
          "data": {
            "text/plain": [
              "<matplotlib.image.AxesImage at 0x7e7180388b50>"
            ]
          },
          "metadata": {},
          "execution_count": 132
        },
        {
          "output_type": "display_data",
          "data": {
            "text/plain": [
              "<Figure size 640x480 with 1 Axes>"
            ],
            "image/png": "[encoded data removed]"
          },
          "metadata": {}
        }
      ]
    },
    {
      "cell_type": "code",
      "source": [
        "# added_img=np.clip(np.array(img)+np.array(img1),0,255).astype(np.uint8)\n",
        "\n",
        "# fig,axes=plt.subplots(1,3,figsize=(10,10))\n",
        "\n",
        "# axes[0].imshow(img,cmap='gray')\n",
        "# axes[0].set_title(\"first\")\n",
        "# axes[0].axis(\"off\")\n",
        "\n",
        "# axes[1].imshow(img1,cmap='gray')\n",
        "# axes[1].set_title(\"first\")\n",
        "# axes[1].axis(\"off\")\n",
        "\n",
        "# axes[2].imshow(added_img,cmap='gray')\n",
        "# axes[2].set_title(\"first\")\n",
        "# axes[2].axis(\"off\")\n",
        "\n",
        "# plt.tight_layout()\n",
        "# plt.show()\n",
        "\n",
        "# # left_shift_img = np.left_shift(np.array(img2), 1)\n",
        "# #divided_img = np.clip(np.array(img) / (np.array(img2) + 1), 0, 255).astype(np.uint8)\n",
        "\n",
        "# and_img= np.bitwise_and(np.array(img),np.array(img1))"
      ],
      "metadata": {
        "id": "JVTU7K7fvi1u"
      },
      "execution_count": null,
      "outputs": []
    },
    {
      "cell_type": "markdown",
      "source": [
        "Addition of images"
      ],
      "metadata": {
        "id": "OKURoHIoXjzo"
      }
    },
    {
      "cell_type": "code",
      "source": [
        "def add_images(img1,img2):\n",
        "  img3 = np.zeros_like(img1)\n",
        "  for i in range(28):\n",
        "    for j in range(28):\n",
        "      img3[i,j]=min(img1[i,j]+img2[i,j],255)\n",
        "  return img3\n",
        "\n",
        "plt.imshow(add_images(images[0],images[1]),cmap='gray')"
      ],
      "metadata": {
        "colab": {
          "base_uri": "https://localhost:8080/",
          "height": 447
        },
        "id": "QZzpnW7WQESG",
        "outputId": "c7949265-3be9-4b13-d563-96f454d1c079"
      },
      "execution_count": null,
      "outputs": [
        {
          "output_type": "execute_result",
          "data": {
            "text/plain": [
              "<matplotlib.image.AxesImage at 0x7e718168cca0>"
            ]
          },
          "metadata": {},
          "execution_count": 80
        },
        {
          "output_type": "display_data",
          "data": {
            "text/plain": [
              "<Figure size 640x480 with 1 Axes>"
            ],
            "image/png": "[encoded data removed]"
          },
          "metadata": {}
        }
      ]
    },
    {
      "cell_type": "code",
      "source": [
        "bool(123)"
      ],
      "metadata": {
        "colab": {
          "base_uri": "https://localhost:8080/"
        },
        "id": "uEe3xOjeX-4k",
        "outputId": "9aa1d03b-6d18-44f2-b873-e10899023c62"
      },
      "execution_count": null,
      "outputs": [
        {
          "output_type": "execute_result",
          "data": {
            "text/plain": [
              "True"
            ]
          },
          "metadata": {},
          "execution_count": 93
        }
      ]
    },
    {
      "cell_type": "code",
      "source": [
        "def sub_images(img1,img2):\n",
        "  img3 = np.zeros_like(img1)\n",
        "  for i in range(28):\n",
        "    for j in range(28):\n",
        "      img3[i,j]=max(img1[i,j]-img2[i,j],0)\n",
        "\n",
        "  return img3\n",
        "\n",
        "plt.imshow(sub_images(images[1],images[0]),cmap='gray')"
      ],
      "metadata": {
        "colab": {
          "base_uri": "https://localhost:8080/",
          "height": 447
        },
        "id": "TiQIRkGyREku",
        "outputId": "f690305a-3f62-4277-9c63-f3433872ebcd"
      },
      "execution_count": null,
      "outputs": [
        {
          "output_type": "execute_result",
          "data": {
            "text/plain": [
              "<matplotlib.image.AxesImage at 0x7e7180f3cc10>"
            ]
          },
          "metadata": {},
          "execution_count": 96
        },
        {
          "output_type": "display_data",
          "data": {
            "text/plain": [
              "<Figure size 640x480 with 1 Axes>"
            ],
            "image/png": "[encoded data removed]"
          },
          "metadata": {}
        }
      ]
    },
    {
      "cell_type": "code",
      "source": [
        "images"
      ],
      "metadata": {
        "id": "caJ6ny4cdNB4"
      },
      "execution_count": null,
      "outputs": []
    },
    {
      "cell_type": "code",
      "source": [
        "img1=images[0].copy()\n",
        "img2=images[2].copy()\n",
        "img = images[0].copy()"
      ],
      "metadata": {
        "id": "lbiKWuDKXxUa"
      },
      "execution_count": null,
      "outputs": []
    },
    {
      "cell_type": "code",
      "source": [
        "img.max()"
      ],
      "metadata": {
        "colab": {
          "base_uri": "https://localhost:8080/"
        },
        "id": "H9LLc20ocFMH",
        "outputId": "7153f24b-2402-47bf-a165-2f1567d79a18"
      },
      "execution_count": null,
      "outputs": [
        {
          "output_type": "execute_result",
          "data": {
            "text/plain": [
              "255"
            ]
          },
          "metadata": {},
          "execution_count": 102
        }
      ]
    },
    {
      "cell_type": "markdown",
      "source": [
        "Logical Operators"
      ],
      "metadata": {
        "id": "nEgp1aJKcg_P"
      }
    },
    {
      "cell_type": "code",
      "source": [
        "def bitand(img1,img2):\n",
        "  img3 = np.zeros_like(img1)\n",
        "  for i in range(28):\n",
        "    for j in range(28):\n",
        "      img3[i,j]=img1[i,j] & img2[i,j]\n",
        "  return img3\n",
        "\n",
        "plt.imshow(bitand(img1,img2),cmap='gray')"
      ],
      "metadata": {
        "colab": {
          "base_uri": "https://localhost:8080/",
          "height": 447
        },
        "id": "AJby2F8-cOec",
        "outputId": "01a340ba-75b4-4521-83a5-5dbea1848677"
      },
      "execution_count": null,
      "outputs": [
        {
          "output_type": "execute_result",
          "data": {
            "text/plain": [
              "<matplotlib.image.AxesImage at 0x7e718087d870>"
            ]
          },
          "metadata": {},
          "execution_count": 118
        },
        {
          "output_type": "display_data",
          "data": {
            "text/plain": [
              "<Figure size 640x480 with 1 Axes>"
            ],
            "image/png": "[encoded data removed]"
          },
          "metadata": {}
        }
      ]
    },
    {
      "cell_type": "code",
      "source": [
        "plt.imshow(images[2])"
      ],
      "metadata": {
        "colab": {
          "base_uri": "https://localhost:8080/",
          "height": 447
        },
        "id": "nr24q3R6dJIu",
        "outputId": "dea4960c-38f8-44d5-cc58-b9f724bb6ad9"
      },
      "execution_count": null,
      "outputs": [
        {
          "output_type": "execute_result",
          "data": {
            "text/plain": [
              "<matplotlib.image.AxesImage at 0x7e7180a8bfa0>"
            ]
          },
          "metadata": {},
          "execution_count": 115
        },
        {
          "output_type": "display_data",
          "data": {
            "text/plain": [
              "<Figure size 640x480 with 1 Axes>"
            ],
            "image/png": "[encoded data removed]"
          },
          "metadata": {}
        }
      ]
    },
    {
      "cell_type": "code",
      "source": [
        "def bitor(img1,img2):\n",
        "  img3 = np.zeros_like(img1)\n",
        "  for i in range(28):\n",
        "    for j in range(28):\n",
        "      img3[i,j]=img1[i,j] | img2[i,j]\n",
        "  return img3\n",
        "\n",
        "plt.imshow(bitor(img1,img2),cmap='gray')"
      ],
      "metadata": {
        "colab": {
          "base_uri": "https://localhost:8080/",
          "height": 447
        },
        "id": "8u8PSdiCcpZj",
        "outputId": "ad414cf5-1767-4535-bade-e7cd53b742ed"
      },
      "execution_count": null,
      "outputs": [
        {
          "output_type": "execute_result",
          "data": {
            "text/plain": [
              "<matplotlib.image.AxesImage at 0x7e7180a899f0>"
            ]
          },
          "metadata": {},
          "execution_count": 120
        },
        {
          "output_type": "display_data",
          "data": {
            "text/plain": [
              "<Figure size 640x480 with 1 Axes>"
            ],
            "image/png": "[encoded data removed]"
          },
          "metadata": {}
        }
      ]
    },
    {
      "cell_type": "code",
      "source": [
        "def bitnot(img1):\n",
        "  img3 = np.zeros_like(img1)\n",
        "  for i in range(28):\n",
        "    for j in range(28):\n",
        "      img3[i,j]=img1[i,j] > 255/2\n",
        "  return img3\n",
        "plt.imshow(bitnot(img1),cmap='gray')"
      ],
      "metadata": {
        "colab": {
          "base_uri": "https://localhost:8080/",
          "height": 447
        },
        "id": "hSUIEh_sct5h",
        "outputId": "ee88f217-22d1-43de-96c0-0a77c788b348"
      },
      "execution_count": null,
      "outputs": [
        {
          "output_type": "execute_result",
          "data": {
            "text/plain": [
              "<matplotlib.image.AxesImage at 0x7e71811bafe0>"
            ]
          },
          "metadata": {},
          "execution_count": 122
        },
        {
          "output_type": "display_data",
          "data": {
            "text/plain": [
              "<Figure size 640x480 with 1 Axes>"
            ],
            "image/png": "[encoded data removed]"
          },
          "metadata": {}
        }
      ]
    },
    {
      "cell_type": "code",
      "source": [
        "def bitxor(img1,img2):\n",
        "  img3 = np.zeros_like(img1)\n",
        "  for i in range(28):\n",
        "    for j in range(28):\n",
        "      img3[i,j]= 1 if bool(img1[i,j]) != bool(img2[i,j]) else 0\n",
        "  return img3\n",
        "plt.imshow(bitxor(img1,img2))"
      ],
      "metadata": {
        "colab": {
          "base_uri": "https://localhost:8080/",
          "height": 447
        },
        "id": "q2LT6NDbdZQa",
        "outputId": "23814413-5f76-4660-a935-cb26769a472b"
      },
      "execution_count": null,
      "outputs": [
        {
          "output_type": "execute_result",
          "data": {
            "text/plain": [
              "<matplotlib.image.AxesImage at 0x7e71806096c0>"
            ]
          },
          "metadata": {},
          "execution_count": 124
        },
        {
          "output_type": "display_data",
          "data": {
            "text/plain": [
              "<Figure size 640x480 with 1 Axes>"
            ],
            "image/png": "[encoded data removed]"
          },
          "metadata": {}
        }
      ]
    },
    {
      "cell_type": "markdown",
      "source": [
        "\n"
      ],
      "metadata": {
        "id": "9IxbiwYPiXeY"
      }
    },
    {
      "cell_type": "markdown",
      "source": [
        "- Thresholding\n",
        "- Gray Level Slicing with and without background\n"
      ],
      "metadata": {
        "id": "0cVos15aoxaA"
      }
    },
    {
      "cell_type": "markdown",
      "source": [
        "THreshold"
      ],
      "metadata": {
        "id": "DXAcVbYwd2Ih"
      }
    },
    {
      "cell_type": "code",
      "source": [],
      "metadata": {
        "id": "B5jSmc2beSe2"
      },
      "execution_count": null,
      "outputs": []
    },
    {
      "cell_type": "code",
      "source": [
        "thres_low= 100\n",
        "thres_high=200\n",
        "def threshold(img,low,high):\n",
        "  img3 = np.zeros_like(img)\n",
        "  for i in range(28):\n",
        "    for j in range(28):\n",
        "      if img[i,j] in range(low+1,high+1):\n",
        "        img3[i,j]=255\n",
        "      else:\n",
        "        img3[i,j]=0\n",
        "  return img3\n",
        "plt.imshow(threshold(img1,thres_low,thres_high),cmap='gray')"
      ],
      "metadata": {
        "colab": {
          "base_uri": "https://localhost:8080/",
          "height": 447
        },
        "id": "qV0LY4sydyOT",
        "outputId": "f9b865a6-d56d-466c-9120-cbdc482c955f"
      },
      "execution_count": null,
      "outputs": [
        {
          "output_type": "execute_result",
          "data": {
            "text/plain": [
              "<matplotlib.image.AxesImage at 0x7e71804c0d90>"
            ]
          },
          "metadata": {},
          "execution_count": 141
        },
        {
          "output_type": "display_data",
          "data": {
            "text/plain": [
              "<Figure size 640x480 with 1 Axes>"
            ],
            "image/png": "[encoded data removed]"
          },
          "metadata": {}
        }
      ]
    },
    {
      "cell_type": "code",
      "source": [
        "def threshold1(img,low,high):\n",
        "  img3 = np.zeros_like(img)\n",
        "  for i in range(28):\n",
        "    for j in range(28):\n",
        "      if img[i,j] in range(low+1,high+1):\n",
        "        img3[i,j]=img[i,j]\n",
        "      else:\n",
        "        img3[i,j]=0\n",
        "  return img3"
      ],
      "metadata": {
        "id": "dXNpynOAjl-M"
      },
      "execution_count": null,
      "outputs": []
    },
    {
      "cell_type": "code",
      "source": [
        "### Show wit subplots\n",
        "\n",
        "fig,axes=plt.subplots(4,3,figsize=(8,8))\n",
        "for i in range(4):\n",
        "  axes[i,0].imshow(images[i],cmap='gray')\n",
        "  axes[i,1].imshow(images[i+1],cmap='gray')\n",
        "  axes[i,2].imshow(bitxor(images[i],images[i+1]),cmap='gray')"
      ],
      "metadata": {
        "colab": {
          "base_uri": "https://localhost:8080/",
          "height": 679
        },
        "id": "iXVpZB79eJQ4",
        "outputId": "bf4cd780-96f7-4536-f718-534e8ad7b1dc"
      },
      "execution_count": null,
      "outputs": [
        {
          "output_type": "display_data",
          "data": {
            "text/plain": [
              "<Figure size 800x800 with 12 Axes>"
            ],
            "image/png": "[encoded data removed]"
          },
          "metadata": {}
        }
      ]
    },
    {
      "cell_type": "markdown",
      "source": [
        "### Gray Level Slicing with and without background"
      ],
      "metadata": {
        "id": "rbeAi3dAhFcA"
      }
    },
    {
      "cell_type": "code",
      "source": [
        "def gray_lvl_slice(img,low,high,bg=False):\n",
        "  img3 = np.zeros_like(img)\n",
        "  for i in range(28):\n",
        "    for j in range(28):\n",
        "      if img[i,j] in range(low+1,high+1):\n",
        "        img3[i,j] = 255\n",
        "      else:\n",
        "        img3[i,j] = img[i,j] if bg else 0\n",
        "  return img3\n",
        "\n",
        "plt.imshow(gray_lvl_slice(img1,20,50,bg=False),cmap='gray')"
      ],
      "metadata": {
        "colab": {
          "base_uri": "https://localhost:8080/",
          "height": 447
        },
        "id": "I5EXw_XvfW-Y",
        "outputId": "913d66d4-438d-417c-8658-c3b0d21175b8"
      },
      "execution_count": null,
      "outputs": [
        {
          "output_type": "execute_result",
          "data": {
            "text/plain": [
              "<matplotlib.image.AxesImage at 0x7e717fa025c0>"
            ]
          },
          "metadata": {},
          "execution_count": 154
        },
        {
          "output_type": "display_data",
          "data": {
            "text/plain": [
              "<Figure size 640x480 with 1 Axes>"
            ],
            "image/png": "[encoded data removed]"
          },
          "metadata": {}
        }
      ]
    },
    {
      "cell_type": "code",
      "source": [
        "#without bg\n",
        "#img_glswo=img.copy()\n",
        "# n=len(img)\n",
        "# threshold=5\n",
        "# for i in range(n):\n",
        "# for j in range(n):\n",
        "# if img_glswo[i][j]>threshold:\n",
        "# img_glswo[i][j]=255\n",
        "# else:\n",
        "# img_glswo[i][j]=0\n",
        "# plt.imshow(img_glswo, cmap='Greys_r')\n",
        "# plt.axis('off')\n",
        "# plt.show()\n",
        "\n",
        "#withbg\n",
        "# img_gls=img.copy()\n",
        "# n=len(img)\n",
        "# threshold1=50\n",
        "# threshold2=200\n",
        "# for i in range(n):\n",
        "# for j in range(n):\n",
        "# if threshold2>img_gls[i][j]>threshold1:\n",
        "# img_gls[i][j]=img_gls[i][j]\n",
        "# else:\n",
        "# img_gls[i][j]=0\n",
        "# plt.imshow(img_gls, cmap='Greys_r')\n",
        "# plt.axis('off')\n",
        "# plt.show()"
      ],
      "metadata": {
        "id": "zb_rOeeLosN-"
      },
      "execution_count": null,
      "outputs": []
    },
    {
      "cell_type": "code",
      "source": [
        "def img_negative(img):\n",
        "  img3 = np.zeros_like(img)\n",
        "  for i in range(28):\n",
        "    for j in range(28):\n",
        "      img3[i,j]=img.max()-img[i,j]\n",
        "  return img3\n",
        "\n",
        "plt.imshow(img_negative(img1),cmap='gray')"
      ],
      "metadata": {
        "colab": {
          "base_uri": "https://localhost:8080/",
          "height": 447
        },
        "id": "7k5kFf2chuqx",
        "outputId": "8cbcf719-a39a-4ea6-ff43-6632f9c827d2"
      },
      "execution_count": null,
      "outputs": [
        {
          "output_type": "execute_result",
          "data": {
            "text/plain": [
              "<matplotlib.image.AxesImage at 0x7e717f42c8e0>"
            ]
          },
          "metadata": {},
          "execution_count": 155
        },
        {
          "output_type": "display_data",
          "data": {
            "text/plain": [
              "<Figure size 640x480 with 1 Axes>"
            ],
            "image/png": "[encoded data removed]"
          },
          "metadata": {}
        }
      ]
    },
    {
      "cell_type": "markdown",
      "source": [
        "\n",
        "\n"
      ],
      "metadata": {
        "id": "WtX9rHMjifJk"
      }
    },
    {
      "cell_type": "markdown",
      "source": [
        " - Constrast Stretching\n",
        " - Log Transform\n",
        " - Power Log Transform\n",
        " - Contrast stretching with slope"
      ],
      "metadata": {
        "id": "yQptN55oo1QO"
      }
    },
    {
      "cell_type": "code",
      "source": [
        "def contrast_stretching(img):\n",
        "  img3 = np.zeros_like(img)\n",
        "  for i in range(28):\n",
        "    for j in range(28):\n",
        "      img3[i,j] = (img[i,j]-img.min())/(img.max()-img.min()) *255\n",
        "  return img3\n",
        "# plt.imshow(contrast_stretching(img1),cmap='gray')\n",
        "fig,axes=plt.subplots(1,3)\n",
        "axes[0].imshow(img1,cmap='gray')\n",
        "axes[1].imshow(threshold1(img1,80,190))\n",
        "axes[2].imshow(contrast_stretching(threshold1(img1,80,190)),cmap='gray')"
      ],
      "metadata": {
        "colab": {
          "base_uri": "https://localhost:8080/",
          "height": 226
        },
        "id": "_IS79lfpiLb4",
        "outputId": "501be344-6df1-450c-c520-158619a2c873"
      },
      "execution_count": null,
      "outputs": [
        {
          "output_type": "execute_result",
          "data": {
            "text/plain": [
              "<matplotlib.image.AxesImage at 0x7e717ca4de70>"
            ]
          },
          "metadata": {},
          "execution_count": 182
        },
        {
          "output_type": "display_data",
          "data": {
            "text/plain": [
              "<Figure size 640x480 with 3 Axes>"
            ],
            "image/png": "[encoded data removed]"
          },
          "metadata": {}
        }
      ]
    },
    {
      "cell_type": "code",
      "source": [
        "np.min(contrast_stretching(threshold1(img1,80,190)) == (threshold1(img1,80,190)))"
      ],
      "metadata": {
        "colab": {
          "base_uri": "https://localhost:8080/"
        },
        "id": "KA__4rPki67U",
        "outputId": "8955da3d-3f35-470a-d6fb-fa6bcc508a28"
      },
      "execution_count": null,
      "outputs": [
        {
          "output_type": "execute_result",
          "data": {
            "text/plain": [
              "False"
            ]
          },
          "metadata": {},
          "execution_count": 183
        }
      ]
    },
    {
      "cell_type": "code",
      "source": [
        "def log_transformation(img,c=1):\n",
        "  #handle zeros\n",
        "  img3 = c*np.log(img+0.001)\n",
        "  return img3\n",
        "plt.imshow(log_transformation(img1,c=0.5),cmap='gray')"
      ],
      "metadata": {
        "colab": {
          "base_uri": "https://localhost:8080/",
          "height": 447
        },
        "id": "31cFOBoTkwaG",
        "outputId": "569d1485-5df2-4a8c-e6ee-7982f2175115"
      },
      "execution_count": null,
      "outputs": [
        {
          "output_type": "execute_result",
          "data": {
            "text/plain": [
              "<matplotlib.image.AxesImage at 0x7e717c73db70>"
            ]
          },
          "metadata": {},
          "execution_count": 200
        },
        {
          "output_type": "display_data",
          "data": {
            "text/plain": [
              "<Figure size 640x480 with 1 Axes>"
            ],
            "image/png": "[encoded data removed]"
          },
          "metadata": {}
        }
      ]
    },
    {
      "cell_type": "code",
      "source": [
        "def plot2imgs(img1,img2):\n",
        "  fig,axes=plt.subplots(1,2)\n",
        "  axes[0].imshow(img1,cmap='gray')\n",
        "  axes[1].imshow(img2,cmap='gray')\n",
        "def plot3imgs(img1,img2,img3):\n",
        "  fig,axes=plt.subplots(1,3)\n",
        "  axes[0].imshow(img1,cmap='gray')\n",
        "  axes[1].imshow(img2,cmap='gray')\n",
        "  axes[2].imshow(img3,cmap='gray')"
      ],
      "metadata": {
        "id": "eGXEjUMmlVQI"
      },
      "execution_count": null,
      "outputs": []
    },
    {
      "cell_type": "code",
      "source": [
        "plot2imgs(img1,np.log(img1))"
      ],
      "metadata": {
        "colab": {
          "base_uri": "https://localhost:8080/",
          "height": 322
        },
        "id": "GPsow8oOlzBc",
        "outputId": "e4ca705e-e7e3-40f1-f892-3fbf32d76269"
      },
      "execution_count": null,
      "outputs": [
        {
          "output_type": "stream",
          "name": "stderr",
          "text": [
            "<ipython-input-190-5f2564fd4a99>:1: RuntimeWarning: divide by zero encountered in log\n",
            "  plot2imgs(img1,np.log(img1))\n"
          ]
        },
        {
          "output_type": "display_data",
          "data": {
            "text/plain": [
              "<Figure size 640x480 with 2 Axes>"
            ],
            "image/png": "[encoded data removed]"
          },
          "metadata": {}
        }
      ]
    },
    {
      "cell_type": "code",
      "source": [
        "def power_transformation(img,gamma=0.5):\n",
        "  img3 = np.power(img,gamma)\n",
        "  return img3\n",
        "plot3imgs(img1,contrast_stretching(power_transformation(img1,7)),contrast_stretching(power_transformation(img1)))"
      ],
      "metadata": {
        "colab": {
          "base_uri": "https://localhost:8080/",
          "height": 209
        },
        "id": "pmnG7zNal1mw",
        "outputId": "9414eb01-8823-4433-ff54-dd9197f2e9ef"
      },
      "execution_count": null,
      "outputs": [
        {
          "output_type": "display_data",
          "data": {
            "text/plain": [
              "<Figure size 640x480 with 3 Axes>"
            ],
            "image/png": "[encoded data removed]"
          },
          "metadata": {}
        }
      ]
    },
    {
      "cell_type": "code",
      "source": [
        "def contrast_str_slope(img,r1,s1,r2,s2):\n",
        "  img3 = np.zeros_like(img)\n",
        "  for i in range(28):\n",
        "    for j in range(28):\n",
        "      if img[i,j]<r1:\n",
        "        img3[i,j]=(s1/r1)*img[i,j]\n",
        "      elif img[i,j]<=r2:\n",
        "        img3[i,j]=((s2-s1)/(r2-r1))*(img[i,j]-r1)+s1\n",
        "      else:\n",
        "        img3[i,j]=((255-s2)/(255-r2))*(img[i,j]-r2)+s2\n",
        "  return img3\n",
        "### Limits = ((shigh-slow)/(rhigh-rlow))* (I-rlow) +slow"
      ],
      "metadata": {
        "id": "HPzmUW-dmnGd"
      },
      "execution_count": null,
      "outputs": []
    },
    {
      "cell_type": "code",
      "source": [
        "def percenti"
      ],
      "metadata": {
        "id": "VIizsb_gn1Cl"
      },
      "execution_count": null,
      "outputs": []
    },
    {
      "cell_type": "markdown",
      "source": [
        "# Experiment 5"
      ],
      "metadata": {
        "id": "GqRWJMG1o5WI"
      }
    },
    {
      "cell_type": "markdown",
      "source": [
        " - Adding Gauss Noise\n",
        " - ADding Salt and pepper\n",
        " - Averaging Filters\n",
        " - Median Filters\n",
        " - List of kernels/filters\n",
        " - **Convolve**: Base Code for kernels\n",
        "\n"
      ],
      "metadata": {
        "id": "GKRTD43_o7A_"
      }
    },
    {
      "cell_type": "code",
      "source": [
        "def add_gauss_noise(img,mean=0,std=20):\n",
        "  img3 = np.zeros_like(img)\n",
        "  img3 = img + np.random.normal(mean,std,img.shape)\n",
        "  return img3\n",
        "plot2imgs(img1,add_gauss_noise(img1))"
      ],
      "metadata": {
        "colab": {
          "base_uri": "https://localhost:8080/",
          "height": 287
        },
        "id": "J6CXZUEco6kh",
        "outputId": "4840e1fa-bfda-41d3-a4c3-983df690e3a1"
      },
      "execution_count": null,
      "outputs": [
        {
          "output_type": "display_data",
          "data": {
            "text/plain": [
              "<Figure size 640x480 with 2 Axes>"
            ],
            "image/png": "[encoded data removed]"
          },
          "metadata": {}
        }
      ]
    },
    {
      "cell_type": "code",
      "source": [
        "def add_salt_and_pepper(img, salt_prob, pepper_prob):\n",
        "  num_pixels = np.prod(img.shape)\n",
        "  num_salt = salt_prob*num_pixels\n",
        "  num_pepper = pepper_prob*num_pixels\n",
        "  img3 = img.copy()\n",
        "  for i in range(int(num_salt)):\n",
        "    x = np.random.randint(0, img.shape[0])\n",
        "    y = np.random.randint(0,img.shape[1])\n",
        "    img3[x,y] = 255\n",
        "  for i in range(int(num_pepper)):\n",
        "    x = np.random.randint(0, img.shape[0])\n",
        "    y = np.random.randint(0,img.shape[1])\n",
        "    img3[x,y] = 0\n",
        "  return img3\n",
        "plot2imgs(img1,add_salt_and_pepper(img1,0.1,0.1))"
      ],
      "metadata": {
        "colab": {
          "base_uri": "https://localhost:8080/",
          "height": 287
        },
        "id": "9jNZanCLpbmE",
        "outputId": "678d9a1c-0383-4c1f-c7b9-800d834f7f80"
      },
      "execution_count": null,
      "outputs": [
        {
          "output_type": "display_data",
          "data": {
            "text/plain": [
              "<Figure size 640x480 with 2 Axes>"
            ],
            "image/png": "[encoded data removed]"
          },
          "metadata": {}
        }
      ]
    },
    {
      "cell_type": "code",
      "source": [
        "def avg_filter(img):\n",
        "  img3 = np.zeros_like(img)\n",
        "  for i in range(1,img.shape[0]-1):\n",
        "    for j in range(1,img.shape[1]-1):\n",
        "      img3[i,j] = np.mean(img[i-1:i+2,j-1:j+2])\n",
        "  return img3\n",
        "plot3imgs(img1,add_gauss_noise(img1),avg_filter(add_gauss_noise(img1)))\n",
        "snp_nois_im=add_salt_and_pepper(img1,0.1,0.1)\n",
        "plot3imgs(img1,snp_nois_im,avg_filter(snp_nois_im))"
      ],
      "metadata": {
        "colab": {
          "base_uri": "https://localhost:8080/",
          "height": 401
        },
        "id": "GlRb4AfUwUP5",
        "outputId": "b7ab1055-cab4-4bce-fe7c-9165bb474415"
      },
      "execution_count": null,
      "outputs": [
        {
          "output_type": "display_data",
          "data": {
            "text/plain": [
              "<Figure size 640x480 with 3 Axes>"
            ],
            "image/png": "[encoded data removed]"
          },
          "metadata": {}
        },
        {
          "output_type": "display_data",
          "data": {
            "text/plain": [
              "<Figure size 640x480 with 3 Axes>"
            ],
            "image/png": "[encoded data removed]"
          },
          "metadata": {}
        }
      ]
    },
    {
      "cell_type": "code",
      "source": [
        "def median_filter(img):\n",
        "  img3 = np.zeros_like(img)\n",
        "  for i in range(1,img.shape[0]-1):\n",
        "    for j in range(1,img.shape[1]-1):\n",
        "      img3[i,j] = np.median(img[i-1:i+2,j-1:j+2])\n",
        "  return img3"
      ],
      "metadata": {
        "id": "7rrhTPpvw6Bd"
      },
      "execution_count": null,
      "outputs": []
    },
    {
      "cell_type": "code",
      "source": [
        "plot3imgs(img1,add_gauss_noise(img1),median_filter(add_gauss_noise(img1)))\n",
        "snp_nois_im=add_salt_and_pepper(img1,0.1,0.1)\n",
        "plot3imgs(img1,snp_nois_im,median_filter(snp_nois_im))"
      ],
      "metadata": {
        "colab": {
          "base_uri": "https://localhost:8080/",
          "height": 401
        },
        "id": "I4X617vnxEyx",
        "outputId": "102c8c22-0825-4076-d18e-eb18c933c6ba"
      },
      "execution_count": null,
      "outputs": [
        {
          "output_type": "display_data",
          "data": {
            "text/plain": [
              "<Figure size 640x480 with 3 Axes>"
            ],
            "image/png": "[encoded data removed]"
          },
          "metadata": {}
        },
        {
          "output_type": "display_data",
          "data": {
            "text/plain": [
              "<Figure size 640x480 with 3 Axes>"
            ],
            "image/png": "[encoded data removed]"
          },
          "metadata": {}
        }
      ]
    },
    {
      "cell_type": "markdown",
      "source": [
        "Kernel"
      ],
      "metadata": {
        "id": "nRSCXJRmxvp_"
      }
    },
    {
      "cell_type": "code",
      "source": [
        "gauss_filter=np.array(\n",
        "    [\n",
        "     [1,2,1],\n",
        "     [2,4,2],\n",
        "     [1,2,1]\n",
        "\n",
        "    ]\n",
        "\n",
        "          )/16\n",
        "\n",
        "sobel_filter=np.array(\n",
        "    [\n",
        "     [1,0,-1],\n",
        "     [2,0,-2],\n",
        "     [1,0,-1]\n",
        "\n",
        "    ]\n",
        "\n",
        "          )\n",
        "\n",
        "laplacian_filter=np.array(\n",
        "    [\n",
        "     [0,1,0],\n",
        "     [1,-4,1],\n",
        "     [0,1,0]\n",
        "\n",
        "    ]\n",
        "\n",
        "          )\n",
        "sharpen_filter=np.array(\n",
        "    [\n",
        "     [0,-1,0],\n",
        "     [-1,5,-1],\n",
        "     [0,-1,0]\n",
        "\n",
        "    ]\n",
        "\n",
        "          )\n",
        "edge_filter=np.array(\n",
        "    [\n",
        "     [-1,-1,-1],\n",
        "     [-1,8,-1],\n",
        "     [-1,-1,-1]\n",
        "\n",
        "    ]\n",
        "\n",
        "          )\n",
        "\n",
        "filters=[gauss_filter,sobel_filter,laplacian_filter,sharpen_filter,edge_filter]\n"
      ],
      "metadata": {
        "id": "iKwuXIa1xu1M"
      },
      "execution_count": null,
      "outputs": []
    },
    {
      "cell_type": "code",
      "source": [
        "def convolve(img,kernel):\n",
        "  img3 = np.zeros_like(img)\n",
        "  for i in range(1,img.shape[0]-1):\n",
        "    for j in range(1,img.shape[1]-1):\n",
        "      img3[i,j] = np.sum(img[i-1:i+2,j-1:j+2]*kernel)\n",
        "  return img3\n",
        "# plt.imshow(convolve(img1,np.ones((3,3))),cmap='gray')\n",
        "for kernel in filters:\n",
        "  plot3imgs(img1,kernel,convolve(img1,kernel))"
      ],
      "metadata": {
        "colab": {
          "base_uri": "https://localhost:8080/",
          "height": 977
        },
        "id": "Mcusv13XvPXT",
        "outputId": "85fef2d9-2649-49c0-9755-30e873df48ca"
      },
      "execution_count": null,
      "outputs": [
        {
          "output_type": "display_data",
          "data": {
            "text/plain": [
              "<Figure size 640x480 with 3 Axes>"
            ],
            "image/png": "[encoded data removed]"
          },
          "metadata": {}
        },
        {
          "output_type": "display_data",
          "data": {
            "text/plain": [
              "<Figure size 640x480 with 3 Axes>"
            ],
            "image/png": "[encoded data removed]"
          },
          "metadata": {}
        },
        {
          "output_type": "display_data",
          "data": {
            "text/plain": [
              "<Figure size 640x480 with 3 Axes>"
            ],
            "image/png": "[encoded data removed]"
          },
          "metadata": {}
        },
        {
          "output_type": "display_data",
          "data": {
            "text/plain": [
              "<Figure size 640x480 with 3 Axes>"
            ],
            "image/png": "[encoded data removed]"
          },
          "metadata": {}
        },
        {
          "output_type": "display_data",
          "data": {
            "text/plain": [
              "<Figure size 640x480 with 3 Axes>"
            ],
            "image/png": "[encoded data removed]"
          },
          "metadata": {}
        }
      ]
    },
    {
      "cell_type": "code",
      "source": [
        "#random 10 images\n",
        "import pandas as pd\n",
        "import numpy as np\n",
        "import matplotlib.pyplot as plt\n",
        "\n",
        "# Function to apply convolution\n",
        "def convolve(img, kernel):\n",
        "    img3 = np.zeros_like(img)\n",
        "    for i in range(1, img.shape[0] - 1):\n",
        "        for j in range(1, img.shape[1] - 1):\n",
        "            img3[i, j] = np.sum(img[i-1:i+2, j-1:j+2] * kernel)\n",
        "    return img3\n",
        "\n",
        "# Function to plot three images side by side\n",
        "def plot3imgs(img1, kernel, img3):\n",
        "    plt.figure(figsize=(15, 5))\n",
        "    plt.subplot(1, 3, 1)\n",
        "    plt.title(\"Original Image\")\n",
        "    plt.imshow(img1, cmap='gray')\n",
        "    plt.axis('off')\n",
        "\n",
        "    plt.subplot(1, 3, 2)\n",
        "    plt.title(\"Kernel\")\n",
        "    plt.imshow(kernel, cmap='gray')\n",
        "    plt.axis('off')\n",
        "\n",
        "    plt.subplot(1, 3, 3)\n",
        "    plt.title(\"Filtered Image\")\n",
        "    plt.imshow(img3, cmap='gray')\n",
        "    plt.axis('off')\n",
        "    plt.show()\n",
        "\n",
        "\n",
        "\n",
        "# Randomly sample 10 rows\n",
        "sampled_data = df.sample(10, random_state=42)\n",
        "\n",
        "# Define filters\n",
        "filters = [\n",
        "    np.array([[1, 1, 1], [1, -8, 1], [1, 1, 1]]),  # Edge detection\n",
        "    np.array([[0, -1, 0], [-1, 4, -1], [0, -1, 0]]),  # Laplacian filter\n",
        "    np.array([[1, 2, 1], [0, 0, 0], [-1, -2, -1]]),  # Sobel filter (horizontal)\n",
        "]\n",
        "\n",
        "# Process each sampled image\n",
        "for index, row in sampled_data.iterrows():\n",
        "    # Extract label and pixels\n",
        "    label = row[0]  # Assuming the first column is the label\n",
        "    pixels = row[1:].values.reshape(28, 28)  # Assuming 28x28 image size\n",
        "\n",
        "    print(f\"Applying filters to image with label: {label}\")\n",
        "    for kernel in filters:\n",
        "        filtered_img = convolve(pixels, kernel)\n",
        "        plot3imgs(pixels, kernel, filtered_img)"
      ],
      "metadata": {
        "id": "VLUzymBEv2oA"
      },
      "execution_count": null,
      "outputs": []
    },
    {
      "cell_type": "code",
      "source": [
        "gauss_filter=np.array(\n",
        "    [\n",
        "     [1,2,1],\n",
        "     [2,4,2],\n",
        "     [1,2,1]\n",
        "\n",
        "    ]\n",
        "\n",
        "          )/16\n",
        "\n",
        "sobel_filter=np.array(\n",
        "    [\n",
        "     [1,0,-1],\n",
        "     [2,0,-2],\n",
        "     [1,0,-1]\n",
        "\n",
        "    ]\n",
        "\n",
        "          )\n",
        "\n",
        "laplacian_filter=np.array(\n",
        "    [\n",
        "     [0,1,0],\n",
        "     [1,-4,1],\n",
        "     [0,1,0]\n",
        "\n",
        "    ]\n",
        "\n",
        "          )\n",
        "sharpen_filter=np.array(\n",
        "    [\n",
        "     [0,-1,0],\n",
        "     [-1,5,-1],\n",
        "     [0,-1,0]\n",
        "\n",
        "    ]\n",
        "\n",
        "          )\n",
        "edge_filter=np.array(\n",
        "    [\n",
        "     [-1,-1,-1],\n",
        "     [-1,8,-1],\n",
        "     [-1,-1,-1]\n",
        "\n",
        "    ]\n",
        "\n",
        "          )\n",
        "\n",
        "filters=[gauss_filter,sobel_filter,laplacian_filter,sharpen_filter,edge_filter]\n",
        "\n",
        "\n",
        "plot_images([img1]+[convolve(img1,kernel) for kernel in filters])\n",
        "for kernel in filters:\n",
        "  plot_images([img1,kernel,convolve(img1,kernel)])"
      ],
      "metadata": {
        "id": "nuBnhz-vQW2F"
      },
      "execution_count": null,
      "outputs": []
    },
    {
      "cell_type": "markdown",
      "source": [
        "- Histogram Equalization\n",
        "- Histogram stretching"
      ],
      "metadata": {
        "id": "H8PaZKrDyuWg"
      }
    },
    {
      "cell_type": "code",
      "source": [
        "def get_pixel_frequency(img):\n",
        "  freq=np.zeros(256)\n",
        "  for i in range(img.shape[0]):\n",
        "    for j in range(img.shape[1]):\n",
        "      freq[img[i,j]]+=1\n",
        "  return freq\n",
        "plt.plot(get_pixel_frequency(img1))"
      ],
      "metadata": {
        "colab": {
          "base_uri": "https://localhost:8080/",
          "height": 447
        },
        "id": "nlFZ1OLDysJ8",
        "outputId": "1f086d24-92ae-486d-a81c-9ecc8b957f4d"
      },
      "execution_count": null,
      "outputs": [
        {
          "output_type": "execute_result",
          "data": {
            "text/plain": [
              "[<matplotlib.lines.Line2D at 0x7e717c49e890>]"
            ]
          },
          "metadata": {},
          "execution_count": 231
        },
        {
          "output_type": "display_data",
          "data": {
            "text/plain": [
              "<Figure size 640x480 with 1 Axes>"
            ],
            "image/png": "[encoded data removed]"
          },
          "metadata": {}
        }
      ]
    },
    {
      "cell_type": "code",
      "source": [
        "def get_px_map(img):\n",
        "  freq=get_pixel_frequency(img)\n",
        "  px_pdf= freq/np.sum(freq)\n",
        "  px_cdf = np.cumsum(px_pdf)\n",
        "  bits_cumsum = img.max()*px_cdf\n",
        "  px_map = np.fix(bits_cumsum)\n",
        "  return px_map\n",
        "\n",
        "plt.plot(get_px_map(img1))"
      ],
      "metadata": {
        "colab": {
          "base_uri": "https://localhost:8080/",
          "height": 447
        },
        "id": "vh22qRCby72C",
        "outputId": "9cebc5e0-2739-46a2-bf72-29eb82c52046"
      },
      "execution_count": null,
      "outputs": [
        {
          "output_type": "execute_result",
          "data": {
            "text/plain": [
              "[<matplotlib.lines.Line2D at 0x7e717cb55a50>]"
            ]
          },
          "metadata": {},
          "execution_count": 236
        },
        {
          "output_type": "display_data",
          "data": {
            "text/plain": [
              "<Figure size 640x480 with 1 Axes>"
            ],
            "image/png": "[encoded data removed]"
          },
          "metadata": {}
        }
      ]
    },
    {
      "cell_type": "code",
      "source": [
        "def hist_eq(img):\n",
        "  img3 = np.zeros_like(img)\n",
        "  px_map=get_px_map(img)\n",
        "  for i in range(img.shape[0]):\n",
        "    for j in range(img.shape[1]):\n",
        "      img3[i,j] = px_map[img[i,j]]\n",
        "  return img3\n",
        "plot3imgs(img1,contrast_stretching(img1),hist_eq(img1))"
      ],
      "metadata": {
        "colab": {
          "base_uri": "https://localhost:8080/",
          "height": 209
        },
        "id": "G2cPQNvpzH90",
        "outputId": "98802a41-82fa-4781-ac91-f74b02cb31af"
      },
      "execution_count": null,
      "outputs": [
        {
          "output_type": "display_data",
          "data": {
            "text/plain": [
              "<Figure size 640x480 with 3 Axes>"
            ],
            "image/png": "[encoded data removed]"
          },
          "metadata": {}
        }
      ]
    },
    {
      "cell_type": "code",
      "source": [
        "def histograme_matching(img1,img2):\n",
        "  img3=np.zeros_like(img1)\n",
        "  pxl_map1=get_pxl_map(img2)\n",
        "\n",
        "  for i in range(img1.shape[0]):\n",
        "    for j in range(img1.shape[1]):\n",
        "      img3[i,j]=pxl_map1[img1[i,j]]\n",
        "  return img3\n",
        "plot_images([img1,img2,histograme_matching(img1,img2)])"
      ],
      "metadata": {
        "id": "LcBsKj0vz6Hp"
      },
      "execution_count": null,
      "outputs": []
    },
    {
      "cell_type": "markdown",
      "source": [
        "# Experiment 6"
      ],
      "metadata": {
        "id": "fyxfTzggz_up"
      }
    },
    {
      "cell_type": "markdown",
      "source": [
        " - High Pass Filtering\n",
        " - Low Pass Filtering\n",
        " - High Boost Filtering"
      ],
      "metadata": {
        "id": "ZiGAf1BI0BmW"
      }
    },
    {
      "cell_type": "code",
      "source": [
        "lowPassKernel = np.array([\n",
        "    [1,1,1],[1,1,1],[1,1,1]\n",
        "])/9\n",
        "\n",
        "highPassKernel = np.array([\n",
        "    [-1,-1,-1],[-1,8,-1],[-1,-1,-1]\n",
        "])\n",
        "\n",
        "\n",
        "def high_boost(img,alpha):\n",
        "  img3 = np.zeros_like(img)\n",
        "  lowPassedImage = convolve(img,lowPassKernel)\n",
        "\n",
        "  img3 = img + alpha*(img-lowPassedImage)\n",
        "  return np.clip(img3,0,255).astype(int)\n",
        "\n",
        "\n",
        "\n",
        "plot2imgs(img1,convolve(img1,lowPassKernel))\n",
        "plot2imgs(img1,convolve(img1,highPassKernel))\n",
        "plot2imgs(img1,high_boost(img1,1.5))"
      ],
      "metadata": {
        "colab": {
          "base_uri": "https://localhost:8080/",
          "height": 827
        },
        "id": "jCulfyDG0BQC",
        "outputId": "3c431b13-7d07-4138-e32f-3eb727809f01"
      },
      "execution_count": null,
      "outputs": [
        {
          "output_type": "display_data",
          "data": {
            "text/plain": [
              "<Figure size 640x480 with 2 Axes>"
            ],
            "image/png": "[encoded data removed]"
          },
          "metadata": {}
        },
        {
          "output_type": "display_data",
          "data": {
            "text/plain": [
              "<Figure size 640x480 with 2 Axes>"
            ],
            "image/png": "[encoded data removed]"
          },
          "metadata": {}
        },
        {
          "output_type": "display_data",
          "data": {
            "text/plain": [
              "<Figure size 640x480 with 2 Axes>"
            ],
            "image/png": "[encoded data removed]"
          },
          "metadata": {}
        }
      ]
    },
    {
      "cell_type": "code",
      "source": [],
      "metadata": {
        "id": "I--lx7gP1jWe"
      },
      "execution_count": null,
      "outputs": []
    },
    {
      "cell_type": "markdown",
      "source": [
        "#Experiment 7"
      ],
      "metadata": {
        "id": "82bZjhkx2bqy"
      }
    },
    {
      "cell_type": "markdown",
      "source": [
        " - Logic for running structuring element\n",
        " - erosion\n",
        " - dilation\n",
        " - opening\n",
        " - closing\n",
        " - hit_or_miss"
      ],
      "metadata": {
        "id": "vo8Lc0WA2h1-"
      }
    },
    {
      "cell_type": "code",
      "source": [
        "def convolve_se(img,se):\n",
        "  # Create a padded image\n",
        "  img_pad = np.pad(img,1,mode='constant',constant_values=0)\n",
        "  # Replicate\n",
        "  img3 = np.zeros_like(img)\n",
        "\n",
        "  # Double for loop (from 1 to imageshape+1)\n",
        "  for i in range(1,img.shape[0]+1):\n",
        "    for j in range(1,img.shape[1]+1):\n",
        "      score= np.sum(img_pad[i-1:i+2,j-1:j+2]*se)  # Dot product of SE with region\n",
        "\n",
        "      ## If dot product ==  num of 1s in SE Fit\n",
        "      if score >= se.sum():\n",
        "        img3[i-1,j-1]=255\n",
        "\n",
        "      ## If none match then miss\n",
        "      elif score ==0:\n",
        "\n",
        "        img3[i-1,j-1]=0\n",
        "\n",
        "      ## ELse HIt (dot product between 0 and number of 1s )\n",
        "      else:\n",
        "        img3[i-1,j-1]=127\n",
        "\n",
        "  return img3"
      ],
      "metadata": {
        "id": "cPZI9VT43ji5"
      },
      "execution_count": null,
      "outputs": []
    },
    {
      "cell_type": "code",
      "source": [
        "SE=np.array([\n",
        "    [0,1,0],\n",
        "    [0,1,0],\n",
        "    [0,1,0]\n",
        "])\n",
        "\n",
        "# SE =\n",
        "\n",
        "img_bin=threshold(img1,127,256)\n",
        "\n",
        "#replace 255 with 1\n",
        "img_bin[img_bin>0]=1\n",
        "\n",
        "plot3imgs(img_bin,SE,convolve_se(img_bin,SE))"
      ],
      "metadata": {
        "id": "SdZPgCv-2dI2",
        "colab": {
          "base_uri": "https://localhost:8080/",
          "height": 209
        },
        "outputId": "50c589b5-2c58-4106-dbc2-1635a55567a5"
      },
      "execution_count": null,
      "outputs": [
        {
          "output_type": "display_data",
          "data": {
            "text/plain": [
              "<Figure size 640x480 with 3 Axes>"
            ],
            "image/png": "[encoded data removed]"
          },
          "metadata": {}
        }
      ]
    },
    {
      "cell_type": "code",
      "source": [
        "convolve_se(img_bin,SE).max()"
      ],
      "metadata": {
        "colab": {
          "base_uri": "https://localhost:8080/"
        },
        "id": "u-2P2WhF_AXk",
        "outputId": "4dcab041-078a-4abc-80a0-d1f05b26b92d"
      },
      "execution_count": null,
      "outputs": [
        {
          "output_type": "execute_result",
          "data": {
            "text/plain": [
              "255"
            ]
          },
          "metadata": {},
          "execution_count": 336
        }
      ]
    },
    {
      "cell_type": "code",
      "source": [
        "img_morph=np.array([\n",
        "    [0, 0, 1, 0, 0],\n",
        "    [0, 1, 1, 1, 0],\n",
        "    [0, 1, 1, 1, 0],\n",
        "    [0, 0, 1, 0, 0],\n",
        "    [0, 0, 0, 0, 0]\n",
        "])\n",
        "\n",
        "\n",
        "\n",
        "se=np.array([\n",
        "    [0,1,0],\n",
        "    [1,1,1],\n",
        "    [0,1,0]\n",
        "])\n",
        "\n",
        "plot3imgs(img_morph,SE,convolve_se(img_morph,SE))"
      ],
      "metadata": {
        "colab": {
          "base_uri": "https://localhost:8080/",
          "height": 206
        },
        "id": "DMNEwSWLErdW",
        "outputId": "65b2dc9b-13ad-471c-fae7-5a1c51393fb1"
      },
      "execution_count": null,
      "outputs": [
        {
          "output_type": "display_data",
          "data": {
            "text/plain": [
              "<Figure size 640x480 with 3 Axes>"
            ],
            "image/png": "[encoded data removed]"
          },
          "metadata": {}
        }
      ]
    },
    {
      "cell_type": "code",
      "source": [
        "#Erosion"
      ],
      "metadata": {
        "id": "tr9TuqVaE1s0"
      },
      "execution_count": null,
      "outputs": []
    },
    {
      "cell_type": "code",
      "source": [
        "def erosion(img, se):\n",
        "  img3 = np.zeros_like(img)\n",
        "  img_temp=convolve_se(img,se)    ### Convolve\n",
        "  for i in range(img.shape[0]):\n",
        "    for j in range(img.shape[1]):\n",
        "      img3[i,j] = 1 if img_temp[i,j] == 255  else 0  ## Allow only 255\n",
        "  return img3\n",
        "\n",
        "def dilation(img, se):\n",
        "  img3 = np.zeros_like(img)\n",
        "  img_temp=convolve_se(img,se)    ### Convolve\n",
        "  for i in range(img.shape[0]):\n",
        "    for j in range(img.shape[1]):\n",
        "      img3[i,j] = 1 if img_temp[i,j] >0   else 0 ## Allow above 127\n",
        "  return img3\n",
        "\n"
      ],
      "metadata": {
        "id": "qahb4ZybBFd3"
      },
      "execution_count": null,
      "outputs": []
    },
    {
      "cell_type": "code",
      "source": [
        "def opening(img,se):\n",
        "  #o-e-d\n",
        "  return dilation(erosion(img,se),se)\n",
        "\n",
        "def closing(img,se):\n",
        "  #c-d-e\n",
        "  return erosion(dilation(img,se),se)\n",
        "def reverse_se(se):\n",
        "  return np.abs(se-np.ones_like(se) )\n",
        "\n",
        "def hitOrMiss(img,se):\n",
        "  img3 = np.zeros_like(img)\n",
        "\n",
        "  img_temp=erosion(img,se)    ### Convolve\n",
        "  nimg_temp = erosion(img,reverse_se(se))\n",
        "  img3 = img_temp & nimg_temp\n",
        "  return img3"
      ],
      "metadata": {
        "id": "mhfUU7ybDhJ6"
      },
      "execution_count": null,
      "outputs": []
    },
    {
      "cell_type": "code",
      "source": [
        "plot3imgs(img_morph,SE,convolve_se(img_morph,SE))\n",
        "plot3imgs(img_morph,SE,erosion(img_morph,SE))\n",
        "plot3imgs(img_morph,SE,dilation(img_morph,SE))\n",
        "plot3imgs(img_morph,SE,opening(img_morph,SE))\n",
        "plot3imgs(img_morph,SE,closing(img_morph,SE))\n",
        "plot3imgs(img_morph,SE,hitOrMiss(img_morph,SE))\n",
        "plot3imgs(img_morph,SE,erosion(img_morph,reverse_se(SE)))"
      ],
      "metadata": {
        "colab": {
          "base_uri": "https://localhost:8080/",
          "height": 1000
        },
        "id": "5epn_4dxGhmK",
        "outputId": "aa0f8504-f80d-4135-eaa2-4688cbd77051"
      },
      "execution_count": null,
      "outputs": [
        {
          "output_type": "display_data",
          "data": {
            "text/plain": [
              "<Figure size 640x480 with 3 Axes>"
            ],
            "image/png": "[encoded data removed]"
          },
          "metadata": {}
        },
        {
          "output_type": "display_data",
          "data": {
            "text/plain": [
              "<Figure size 640x480 with 3 Axes>"
            ],
            "image/png": "[encoded data removed]"
          },
          "metadata": {}
        },
        {
          "output_type": "display_data",
          "data": {
            "text/plain": [
              "<Figure size 640x480 with 3 Axes>"
            ],
            "image/png": "[encoded data removed]"
          },
          "metadata": {}
        },
        {
          "output_type": "display_data",
          "data": {
            "text/plain": [
              "<Figure size 640x480 with 3 Axes>"
            ],
            "image/png": "[encoded data removed]"
          },
          "metadata": {}
        },
        {
          "output_type": "display_data",
          "data": {
            "text/plain": [
              "<Figure size 640x480 with 3 Axes>"
            ],
            "image/png": "[encoded data removed]"
          },
          "metadata": {}
        },
        {
          "output_type": "display_data",
          "data": {
            "text/plain": [
              "<Figure size 640x480 with 3 Axes>"
            ],
            "image/png": "[encoded data removed]"
          },
          "metadata": {}
        },
        {
          "output_type": "display_data",
          "data": {
            "text/plain": [
              "<Figure size 640x480 with 3 Axes>"
            ],
            "image/png": "[encoded data removed]"
          },
          "metadata": {}
        }
      ]
    },
    {
      "cell_type": "code",
      "source": [
        "plot3imgs(img_bin,SE,convolve_se(img_bin,SE))\n",
        "plot3imgs(img_bin,SE,erosion(img_bin,SE))\n",
        "plot3imgs(img_bin,SE,dilation(img_bin,SE))\n",
        "plot3imgs(img_bin,SE,opening(img_bin,SE))\n",
        "plot3imgs(img_bin,SE,closing(img_bin,SE))\n",
        "plot3imgs(img_bin,SE,hitOrMiss(img_bin,SE))\n",
        "plot3imgs(img_bin,SE,convolve_se(img_bin,reverse_se(SE)))"
      ],
      "metadata": {
        "colab": {
          "base_uri": "https://localhost:8080/",
          "height": 1000
        },
        "id": "0lGQuu2SGpVi",
        "outputId": "f9b8c1f6-e31c-4c6d-9e46-79db5112e696"
      },
      "execution_count": null,
      "outputs": [
        {
          "output_type": "display_data",
          "data": {
            "text/plain": [
              "<Figure size 640x480 with 3 Axes>"
            ],
            "image/png": "[encoded data removed]"
          },
          "metadata": {}
        },
        {
          "output_type": "display_data",
          "data": {
            "text/plain": [
              "<Figure size 640x480 with 3 Axes>"
            ],
            "image/png": "[encoded data removed]"
          },
          "metadata": {}
        },
        {
          "output_type": "display_data",
          "data": {
            "text/plain": [
              "<Figure size 640x480 with 3 Axes>"
            ],
            "image/png": "[encoded data removed]"
          },
          "metadata": {}
        },
        {
          "output_type": "display_data",
          "data": {
            "text/plain": [
              "<Figure size 640x480 with 3 Axes>"
            ],
            "image/png": "[encoded data removed]"
          },
          "metadata": {}
        },
        {
          "output_type": "display_data",
          "data": {
            "text/plain": [
              "<Figure size 640x480 with 3 Axes>"
            ],
            "image/png": "[encoded data removed]"
          },
          "metadata": {}
        },
        {
          "output_type": "display_data",
          "data": {
            "text/plain": [
              "<Figure size 640x480 with 3 Axes>"
            ],
            "image/png": "[encoded data removed]"
          },
          "metadata": {}
        },
        {
          "output_type": "display_data",
          "data": {
            "text/plain": [
              "<Figure size 640x480 with 3 Axes>"
            ],
            "image/png": "[encoded data removed]"
          },
          "metadata": {}
        }
      ]
    },
    {
      "cell_type": "code",
      "source": [],
      "metadata": {
        "id": "_wo0gzJgHIfj"
      },
      "execution_count": null,
      "outputs": []
    },
    {
      "cell_type": "markdown",
      "source": [
        "# Experiment 8  - Incomplete"
      ],
      "metadata": {
        "id": "ohvyvCbkKo44"
      }
    },
    {
      "cell_type": "code",
      "source": [
        "def fourier_trans(img):\n",
        "  return np.fft.fft2(img)\n",
        "\n",
        "def inv_fourier_trans(img):\n",
        "  return np.fft.ifft2(img)\n",
        "\n",
        "def run_func_in_freq_domain(img,func):\n",
        "\n",
        "  return np.abs(inv_fourier_trans(np.fft.ifftshift(   func(    np.abs(np.fft.fftshift(fourier_trans(img))))           )))\n",
        "\n",
        "\n",
        "\n",
        "\n",
        "plot3imgs(img1,run_func_in_freq_domain(img1,log_transformation),log_transformation(img1))\n",
        "plot3imgs(img1,run_func_in_freq_domain(img1,power_transformation),power_transformation(img1))"
      ],
      "metadata": {
        "colab": {
          "base_uri": "https://localhost:8080/",
          "height": 421
        },
        "id": "DQL4jG8fKyGo",
        "outputId": "684bef24-a7a6-4a54-bfee-4b2ed378ae29"
      },
      "execution_count": null,
      "outputs": [
        {
          "output_type": "display_data",
          "data": {
            "text/plain": [
              "<Figure size 640x480 with 3 Axes>"
            ],
            "image/png": "[encoded data removed]"
          },
          "metadata": {}
        },
        {
          "output_type": "display_data",
          "data": {
            "text/plain": [
              "<Figure size 640x480 with 3 Axes>"
            ],
            "image/png": "[encoded data removed]"
          },
          "metadata": {}
        }
      ]
    },
    {
      "cell_type": "markdown",
      "source": [
        "#Experiment 9"
      ],
      "metadata": {
        "id": "NJujMwdzKqiu"
      }
    },
    {
      "cell_type": "markdown",
      "source": [
        "Region based segmentation\n",
        " - region growing\n",
        " - region splitting and merging"
      ],
      "metadata": {
        "id": "cCHkHpmkO9in"
      }
    },
    {
      "cell_type": "code",
      "source": [
        "#fft\n",
        "import numpy as np\n",
        "import matplotlib.pyplot as plt\n",
        "\n",
        "def fourier_transform(img):\n",
        "\n",
        "    f_transform = np.fft.fft2(img)  # 2D Fourier Transform\n",
        "    f_shift = np.fft.fftshift(f_transform)  # Shift low frequencies to the center\n",
        "    return f_shift\n",
        "\n",
        "def inverse_fourier_transform(f_transform):\n",
        "    f_ishift = np.fft.ifftshift(f_transform)  # Shift frequencies back\n",
        "    img_reconstructed = np.abs(np.fft.ifft2(f_ishift))  # Inverse 2D Fourier Transform\n",
        "    return img_reconstructed\n",
        "\n",
        "def gaussian_filter(shape, sigma, high_pass=False):\n",
        "    h, w = shape\n",
        "    y, x = np.meshgrid(np.linspace(-h//2, h//2, h), np.linspace(-w//2, w//2, w), indexing=\"ij\")\n",
        "    d2 = x**2 + y**2\n",
        "    gaussian = np.exp(-d2 / (2 * sigma**2))\n",
        "    if high_pass:\n",
        "        return 1 - gaussian\n",
        "    return gaussian\n",
        "\n",
        "def apply_filter_in_freq_domain(img, filter_function, **filter_params):\n",
        "\n",
        "    f_transform = fourier_transform(img)\n",
        "\n",
        "    filter_mask = filter_function(img.shape, **filter_params)\n",
        "\n",
        "    filtered_transform = f_transform * filter_mask\n",
        "\n",
        "    return inverse_fourier_transform(filtered_transform), filter_mask\n",
        "\n",
        "\n",
        "\n",
        "\n",
        "filtered_low, low_pass_filter = apply_filter_in_freq_domain(img1, gaussian_filter, sigma=20, high_pass=False)\n",
        "\n",
        "filtered_high, high_pass_filter = apply_filter_in_freq_domain(img1, gaussian_filter, sigma=20, high_pass=True)\n",
        "\n",
        "plot_images(\n",
        "    [img1, low_pass_filter, filtered_low, high_pass_filter, filtered_high],\n",
        ")\n"
      ],
      "metadata": {
        "id": "his5pvOIRa-j"
      },
      "execution_count": null,
      "outputs": []
    },
    {
      "cell_type": "code",
      "source": [
        "from queue import Queue\n",
        "\n",
        "\n",
        "def my_region_growing(img,seed_point,threshold):\n",
        "  img3=np.zeros_like(img)\n",
        "  queue=Queue()\n",
        "  visited=np.zeros_like(img)\n",
        "  queue.put(seed_point)\n",
        "  visited[seed_point]=1\n",
        "  img3[seed_point]=255\n",
        "  neighbours=[\n",
        "\n",
        "              (-1,0),(1,0),(0,1),(0,-1),(-1,-1),(1,1),(-1,1),(1,-1)\n",
        "  ]\n",
        "\n",
        "\n",
        "\n",
        "\n",
        "  while not queue.empty():\n",
        "\n",
        "    pxl=queue.get()\n",
        "    # print(pxl)\n",
        "    i,j=pxl\n",
        "    for dx,dy in neighbours:\n",
        "      if i+dx in range(img.shape[0]) and j+dy in range(img.shape[1]):\n",
        "        if np.abs(img[i+dx,j+dy]-img[i,j])<=threshold and visited[i+dx,j+dy]==0:\n",
        "\n",
        "          visited[i+dx,j+dy]=1\n",
        "          img3[i+dx,j+dy]=255\n",
        "          queue.put((i+dx,j+dy))\n",
        "  return img3\n",
        "\n",
        "seg_img=my_region_growing(median_filter(img1),(15,12),12)\n",
        "\n",
        "plot2imgs(img1,seg_img)\n",
        "\n",
        "\n",
        "\n",
        "\n",
        "plot2imgs(images[120],np.minimum(seg_img,images[120]))\n"
      ],
      "metadata": {
        "colab": {
          "base_uri": "https://localhost:8080/",
          "height": 557
        },
        "id": "UjdrkHufWMPI",
        "outputId": "19d29a14-6841-4a24-ccfb-b759a8a00295"
      },
      "execution_count": null,
      "outputs": [
        {
          "output_type": "display_data",
          "data": {
            "text/plain": [
              "<Figure size 640x480 with 2 Axes>"
            ],
            "image/png": "[encoded data removed]"
          },
          "metadata": {}
        },
        {
          "output_type": "display_data",
          "data": {
            "text/plain": [
              "<Figure size 640x480 with 2 Axes>"
            ],
            "image/png": "[encoded data removed]"
          },
          "metadata": {}
        }
      ]
    },
    {
      "cell_type": "code",
      "source": [],
      "metadata": {
        "id": "HdPUX-nUY3xa"
      },
      "execution_count": null,
      "outputs": []
    },
    {
      "cell_type": "code",
      "source": [
        "import numpy as np\n",
        "import matplotlib.pyplot as plt\n",
        "from queue import Queue\n",
        "\n",
        "def region_growing(img, seed_points, threshold):\n",
        "\n",
        "    rows,cols = img.shape\n",
        "    segmented_img = np.zeros((rows,cols), dtype=np.uint8)\n",
        "    queue = Queue()\n",
        "    visited=np.zeros((rows,cols), dtype=np.uint8)\n",
        "    for seedpt in seed_points:\n",
        "        queue.put(seedpt)\n",
        "        segmented_img[seedpt] = 255\n",
        "        visited[seedpt] = 1\n",
        "    while not queue.empty():\n",
        "        current_pixel = queue.get()\n",
        "        i,j = current_pixel\n",
        "        for x,y in [(i-1,j), (i+1,j), (i,j-1), (i,j+1)]:\n",
        "          if x in range(rows) and y in range(cols):\n",
        "            if np.abs(img[i,j]-img[x,y]) <= threshold and visited[x,y]==0:\n",
        "              queue.put((x,y))\n",
        "              segmented_img[x,y] = 255\n",
        "              visited[x,y] = 1\n",
        "    return segmented_img\n",
        "\n",
        "\n",
        "# Define seed point and intensity threshold\n",
        "seed_points = [(12, 12),(13,10)]  # Seed pixel in the region of interest\n",
        "threshold = 20       # Intensity similarity threshold\n",
        "\n",
        "# Perform region growing segmentation\n",
        "segmented_img = region_growing(img, seed_points, threshold)\n",
        "\n"
      ],
      "metadata": {
        "id": "GzjanH54OhDI"
      },
      "execution_count": null,
      "outputs": []
    },
    {
      "cell_type": "code",
      "source": [
        "def split_and_merge(img, threshold):\n",
        "\n",
        "    rows, cols = img.shape\n",
        "\n",
        "    segmented = np.zeros_like(img, dtype=np.uint8)\n",
        "\n",
        "    def split(region, x, y, width, height):\n",
        "        sub_region = region[y:y+height, x:x+width]\n",
        "\n",
        "        variance = np.var(sub_region)\n",
        "        if variance < threshold or width <= 1 or height <= 1:\n",
        "            # Mark the region as homogeneous\n",
        "            mean_value = np.mean(sub_region)\n",
        "            segmented[y:y+height, x:x+width] = mean_value\n",
        "            return\n",
        "\n",
        "        # Split the region into four quadrants\n",
        "        half_width = width // 2\n",
        "        half_height = height // 2\n",
        "        split(region, x, y, half_width, half_height)                # Top-left\n",
        "        split(region, x + half_width, y, width - half_width, half_height)  # Top-right\n",
        "        split(region, x, y + half_height, half_width, height - half_height)  # Bottom-left\n",
        "        split(region, x + half_width, y + half_height, width - half_width, height - half_height)  # Bottom-right\n",
        "\n",
        "    # Merge adjacent homogeneous regions\n",
        "    def merge():\n",
        "        \"\"\"\n",
        "        Merge adjacent regions if they satisfy the homogeneity condition.\n",
        "        \"\"\"\n",
        "        for y in range(1, rows - 1):\n",
        "            for x in range(1, cols - 1):\n",
        "                # Check neighbors for merging\n",
        "                neighbors = [\n",
        "                    segmented[y-1, x], segmented[y+1, x],\n",
        "                    segmented[y, x-1], segmented[y, x+1]\n",
        "                ]\n",
        "                mean_neighbors = np.mean(neighbors)\n",
        "                if np.abs(segmented[y, x] - mean_neighbors) < threshold:\n",
        "                    segmented[y, x] = mean_neighbors\n",
        "\n",
        "    # Perform the initial splitting\n",
        "    split(img, 0, 0, cols, rows)\n",
        "\n",
        "    # Perform merging\n",
        "    merge()\n",
        "\n",
        "    return segmented\n",
        "\n",
        "\n",
        "plot2imgs(img1,split_and_merge(img1,10))"
      ],
      "metadata": {
        "colab": {
          "base_uri": "https://localhost:8080/",
          "height": 287
        },
        "id": "DYN11GR2Qr-3",
        "outputId": "21fadbc1-59b9-499e-cc03-e1018a1e6cb0"
      },
      "execution_count": null,
      "outputs": [
        {
          "output_type": "display_data",
          "data": {
            "text/plain": [
              "<Figure size 640x480 with 2 Axes>"
            ],
            "image/png": "[encoded data removed]"
          },
          "metadata": {}
        }
      ]
    },
    {
      "cell_type": "code",
      "source": [
        "def region_split_merge(img, intensity_threshold):\n",
        "    def recursive_divide_merge(sub):\n",
        "        h, w = sub.shape\n",
        "        if h<=2 or w<=2:\n",
        "            return sub\n",
        "        if np.max(sub) - np.min(sub) <= intensity_threshold:\n",
        "            return np.full(sub.shape, 128, dtype=np.uint8)\n",
        "        mid_h, mid_w = h//2, w//2\n",
        "        top_left_part = recursive_divide_merge(sub[:mid_h, :mid_w])\n",
        "        top_right_part = recursive_divide_merge(sub[:mid_h, mid_w:])\n",
        "        bottom_left_part = recursive_divide_merge(sub[mid_h:, :mid_w])\n",
        "        bottom_right_part = recursive_divide_merge(sub[mid_h:, mid_w:])\n",
        "        return np.vstack(\n",
        "            (np.hstack((top_left_part, top_right_part)),\n",
        "            np.hstack((bottom_left_part, bottom_right_part))),\n",
        "        )\n",
        "    return recursive_divide_merge(img)\n",
        "threshold = 25\n",
        "merged_img = region_split_merge(img_array1, threshold)\n",
        "display_2_images(img_array1, merged_img)"
      ],
      "metadata": {
        "id": "6nrD8WhfYc_H"
      },
      "execution_count": null,
      "outputs": []
    },
    {
      "cell_type": "code",
      "source": [
        "def quadtree_split_merge(img, threshold):\n",
        "\n",
        "    rows, cols = img.shape\n",
        "    segmentation = np.zeros_like(img, dtype=np.uint8)  # Segmentation mask\n",
        "    label = 1  # Region label counter\n",
        "\n",
        "    # Define the predicate Q(R)\n",
        "    def is_homogeneous(region):\n",
        "        return np.var(region) < threshold\n",
        "\n",
        "    # Recursive splitting function\n",
        "    def split(region, x, y, width, height):\n",
        "        nonlocal label\n",
        "        sub_region = region[y:y + height, x:x + width]\n",
        "\n",
        "        # Check if the region satisfies homogeneity\n",
        "        if is_homogeneous(sub_region) or width <= 1 or height <= 1:\n",
        "            segmentation[y:y + height, x:x + width] = label\n",
        "            label += 1\n",
        "            return\n",
        "\n",
        "        # Split into four quadrants\n",
        "        half_width = width // 2\n",
        "        half_height = height // 2\n",
        "        split(region, x, y, half_width, half_height)  # Top-left\n",
        "        split(region, x + half_width, y, width - half_width, half_height)  # Top-right\n",
        "        split(region, x, y + half_height, half_width, height - half_height)  # Bottom-left\n",
        "        split(region, x + half_width, y + half_height, width - half_width, height - half_height)  # Bottom-right\n",
        "\n",
        "    # Splitting\n",
        "    split(img, 0, 0, cols, rows)\n",
        "\n",
        "    # Merging function\n",
        "    def merge():\n",
        "\n",
        "        for y in range(1, rows - 1):\n",
        "            for x in range(1, cols - 1):\n",
        "                neighbors = [\n",
        "                    segmentation[y - 1, x], segmentation[y + 1, x],\n",
        "                    segmentation[y, x - 1], segmentation[y, x + 1]\n",
        "                ]\n",
        "                current_label = segmentation[y, x]\n",
        "                mean_neighbors = np.mean([img[segmentation == n] for n in neighbors if n != current_label])\n",
        "                if np.abs(img[segmentation == current_label] - mean_neighbors) < threshold:\n",
        "                    segmentation[segmentation == current_label] = np.mean(neighbors)\n",
        "\n",
        "    merge()\n",
        "    return segmentation"
      ],
      "metadata": {
        "id": "r6ik85NTqJGC"
      },
      "execution_count": null,
      "outputs": []
    },
    {
      "cell_type": "code",
      "source": [
        "img1,quadtree_split_merge(img1,10)"
      ],
      "metadata": {
        "colab": {
          "base_uri": "https://localhost:8080/",
          "height": 1000
        },
        "id": "EEGfVUUoqMmD",
        "outputId": "905a858e-ca68-4db7-bdc4-7181ba945baf"
      },
      "execution_count": null,
      "outputs": [
        {
          "output_type": "stream",
          "name": "stderr",
          "text": [
            "<ipython-input-423-72c3c6abeb3a>:18: DeprecationWarning: NumPy will stop allowing conversion of out-of-bound Python integers to integer arrays.  The conversion of 256 to uint8 will fail in the future.\n",
            "For the old behavior, usually:\n",
            "    np.array(value).astype(dtype)\n",
            "will give the desired result (the cast overflows).\n",
            "  segmentation[y:y + height, x:x + width] = label\n",
            "<ipython-input-423-72c3c6abeb3a>:18: DeprecationWarning: NumPy will stop allowing conversion of out-of-bound Python integers to integer arrays.  The conversion of 257 to uint8 will fail in the future.\n",
            "For the old behavior, usually:\n",
            "    np.array(value).astype(dtype)\n",
            "will give the desired result (the cast overflows).\n",
            "  segmentation[y:y + height, x:x + width] = label\n",
            "<ipython-input-423-72c3c6abeb3a>:18: DeprecationWarning: NumPy will stop allowing conversion of out-of-bound Python integers to integer arrays.  The conversion of 258 to uint8 will fail in the future.\n",
            "For the old behavior, usually:\n",
            "    np.array(value).astype(dtype)\n",
            "will give the desired result (the cast overflows).\n",
            "  segmentation[y:y + height, x:x + width] = label\n",
            "<ipython-input-423-72c3c6abeb3a>:18: DeprecationWarning: NumPy will stop allowing conversion of out-of-bound Python integers to integer arrays.  The conversion of 259 to uint8 will fail in the future.\n",
            "For the old behavior, usually:\n",
            "    np.array(value).astype(dtype)\n",
            "will give the desired result (the cast overflows).\n",
            "  segmentation[y:y + height, x:x + width] = label\n",
            "<ipython-input-423-72c3c6abeb3a>:18: DeprecationWarning: NumPy will stop allowing conversion of out-of-bound Python integers to integer arrays.  The conversion of 260 to uint8 will fail in the future.\n",
            "For the old behavior, usually:\n",
            "    np.array(value).astype(dtype)\n",
            "will give the desired result (the cast overflows).\n",
            "  segmentation[y:y + height, x:x + width] = label\n",
            "<ipython-input-423-72c3c6abeb3a>:18: DeprecationWarning: NumPy will stop allowing conversion of out-of-bound Python integers to integer arrays.  The conversion of 261 to uint8 will fail in the future.\n",
            "For the old behavior, usually:\n",
            "    np.array(value).astype(dtype)\n",
            "will give the desired result (the cast overflows).\n",
            "  segmentation[y:y + height, x:x + width] = label\n",
            "<ipython-input-423-72c3c6abeb3a>:18: DeprecationWarning: NumPy will stop allowing conversion of out-of-bound Python integers to integer arrays.  The conversion of 262 to uint8 will fail in the future.\n",
            "For the old behavior, usually:\n",
            "    np.array(value).astype(dtype)\n",
            "will give the desired result (the cast overflows).\n",
            "  segmentation[y:y + height, x:x + width] = label\n",
            "<ipython-input-423-72c3c6abeb3a>:18: DeprecationWarning: NumPy will stop allowing conversion of out-of-bound Python integers to integer arrays.  The conversion of 263 to uint8 will fail in the future.\n",
            "For the old behavior, usually:\n",
            "    np.array(value).astype(dtype)\n",
            "will give the desired result (the cast overflows).\n",
            "  segmentation[y:y + height, x:x + width] = label\n",
            "<ipython-input-423-72c3c6abeb3a>:18: DeprecationWarning: NumPy will stop allowing conversion of out-of-bound Python integers to integer arrays.  The conversion of 264 to uint8 will fail in the future.\n",
            "For the old behavior, usually:\n",
            "    np.array(value).astype(dtype)\n",
            "will give the desired result (the cast overflows).\n",
            "  segmentation[y:y + height, x:x + width] = label\n",
            "<ipython-input-423-72c3c6abeb3a>:18: DeprecationWarning: NumPy will stop allowing conversion of out-of-bound Python integers to integer arrays.  The conversion of 265 to uint8 will fail in the future.\n",
            "For the old behavior, usually:\n",
            "    np.array(value).astype(dtype)\n",
            "will give the desired result (the cast overflows).\n",
            "  segmentation[y:y + height, x:x + width] = label\n",
            "<ipython-input-423-72c3c6abeb3a>:18: DeprecationWarning: NumPy will stop allowing conversion of out-of-bound Python integers to integer arrays.  The conversion of 266 to uint8 will fail in the future.\n",
            "For the old behavior, usually:\n",
            "    np.array(value).astype(dtype)\n",
            "will give the desired result (the cast overflows).\n",
            "  segmentation[y:y + height, x:x + width] = label\n",
            "<ipython-input-423-72c3c6abeb3a>:18: DeprecationWarning: NumPy will stop allowing conversion of out-of-bound Python integers to integer arrays.  The conversion of 267 to uint8 will fail in the future.\n",
            "For the old behavior, usually:\n",
            "    np.array(value).astype(dtype)\n",
            "will give the desired result (the cast overflows).\n",
            "  segmentation[y:y + height, x:x + width] = label\n",
            "<ipython-input-423-72c3c6abeb3a>:18: DeprecationWarning: NumPy will stop allowing conversion of out-of-bound Python integers to integer arrays.  The conversion of 268 to uint8 will fail in the future.\n",
            "For the old behavior, usually:\n",
            "    np.array(value).astype(dtype)\n",
            "will give the desired result (the cast overflows).\n",
            "  segmentation[y:y + height, x:x + width] = label\n",
            "<ipython-input-423-72c3c6abeb3a>:18: DeprecationWarning: NumPy will stop allowing conversion of out-of-bound Python integers to integer arrays.  The conversion of 269 to uint8 will fail in the future.\n",
            "For the old behavior, usually:\n",
            "    np.array(value).astype(dtype)\n",
            "will give the desired result (the cast overflows).\n",
            "  segmentation[y:y + height, x:x + width] = label\n",
            "<ipython-input-423-72c3c6abeb3a>:18: DeprecationWarning: NumPy will stop allowing conversion of out-of-bound Python integers to integer arrays.  The conversion of 270 to uint8 will fail in the future.\n",
            "For the old behavior, usually:\n",
            "    np.array(value).astype(dtype)\n",
            "will give the desired result (the cast overflows).\n",
            "  segmentation[y:y + height, x:x + width] = label\n",
            "<ipython-input-423-72c3c6abeb3a>:18: DeprecationWarning: NumPy will stop allowing conversion of out-of-bound Python integers to integer arrays.  The conversion of 271 to uint8 will fail in the future.\n",
            "For the old behavior, usually:\n",
            "    np.array(value).astype(dtype)\n",
            "will give the desired result (the cast overflows).\n",
            "  segmentation[y:y + height, x:x + width] = label\n",
            "<ipython-input-423-72c3c6abeb3a>:18: DeprecationWarning: NumPy will stop allowing conversion of out-of-bound Python integers to integer arrays.  The conversion of 272 to uint8 will fail in the future.\n",
            "For the old behavior, usually:\n",
            "    np.array(value).astype(dtype)\n",
            "will give the desired result (the cast overflows).\n",
            "  segmentation[y:y + height, x:x + width] = label\n",
            "<ipython-input-423-72c3c6abeb3a>:18: DeprecationWarning: NumPy will stop allowing conversion of out-of-bound Python integers to integer arrays.  The conversion of 273 to uint8 will fail in the future.\n",
            "For the old behavior, usually:\n",
            "    np.array(value).astype(dtype)\n",
            "will give the desired result (the cast overflows).\n",
            "  segmentation[y:y + height, x:x + width] = label\n",
            "<ipython-input-423-72c3c6abeb3a>:18: DeprecationWarning: NumPy will stop allowing conversion of out-of-bound Python integers to integer arrays.  The conversion of 274 to uint8 will fail in the future.\n",
            "For the old behavior, usually:\n",
            "    np.array(value).astype(dtype)\n",
            "will give the desired result (the cast overflows).\n",
            "  segmentation[y:y + height, x:x + width] = label\n",
            "<ipython-input-423-72c3c6abeb3a>:18: DeprecationWarning: NumPy will stop allowing conversion of out-of-bound Python integers to integer arrays.  The conversion of 275 to uint8 will fail in the future.\n",
            "For the old behavior, usually:\n",
            "    np.array(value).astype(dtype)\n",
            "will give the desired result (the cast overflows).\n",
            "  segmentation[y:y + height, x:x + width] = label\n",
            "<ipython-input-423-72c3c6abeb3a>:18: DeprecationWarning: NumPy will stop allowing conversion of out-of-bound Python integers to integer arrays.  The conversion of 276 to uint8 will fail in the future.\n",
            "For the old behavior, usually:\n",
            "    np.array(value).astype(dtype)\n",
            "will give the desired result (the cast overflows).\n",
            "  segmentation[y:y + height, x:x + width] = label\n",
            "<ipython-input-423-72c3c6abeb3a>:18: DeprecationWarning: NumPy will stop allowing conversion of out-of-bound Python integers to integer arrays.  The conversion of 277 to uint8 will fail in the future.\n",
            "For the old behavior, usually:\n",
            "    np.array(value).astype(dtype)\n",
            "will give the desired result (the cast overflows).\n",
            "  segmentation[y:y + height, x:x + width] = label\n",
            "<ipython-input-423-72c3c6abeb3a>:18: DeprecationWarning: NumPy will stop allowing conversion of out-of-bound Python integers to integer arrays.  The conversion of 278 to uint8 will fail in the future.\n",
            "For the old behavior, usually:\n",
            "    np.array(value).astype(dtype)\n",
            "will give the desired result (the cast overflows).\n",
            "  segmentation[y:y + height, x:x + width] = label\n",
            "<ipython-input-423-72c3c6abeb3a>:18: DeprecationWarning: NumPy will stop allowing conversion of out-of-bound Python integers to integer arrays.  The conversion of 279 to uint8 will fail in the future.\n",
            "For the old behavior, usually:\n",
            "    np.array(value).astype(dtype)\n",
            "will give the desired result (the cast overflows).\n",
            "  segmentation[y:y + height, x:x + width] = label\n",
            "<ipython-input-423-72c3c6abeb3a>:18: DeprecationWarning: NumPy will stop allowing conversion of out-of-bound Python integers to integer arrays.  The conversion of 280 to uint8 will fail in the future.\n",
            "For the old behavior, usually:\n",
            "    np.array(value).astype(dtype)\n",
            "will give the desired result (the cast overflows).\n",
            "  segmentation[y:y + height, x:x + width] = label\n",
            "<ipython-input-423-72c3c6abeb3a>:18: DeprecationWarning: NumPy will stop allowing conversion of out-of-bound Python integers to integer arrays.  The conversion of 281 to uint8 will fail in the future.\n",
            "For the old behavior, usually:\n",
            "    np.array(value).astype(dtype)\n",
            "will give the desired result (the cast overflows).\n",
            "  segmentation[y:y + height, x:x + width] = label\n",
            "<ipython-input-423-72c3c6abeb3a>:18: DeprecationWarning: NumPy will stop allowing conversion of out-of-bound Python integers to integer arrays.  The conversion of 282 to uint8 will fail in the future.\n",
            "For the old behavior, usually:\n",
            "    np.array(value).astype(dtype)\n",
            "will give the desired result (the cast overflows).\n",
            "  segmentation[y:y + height, x:x + width] = label\n",
            "<ipython-input-423-72c3c6abeb3a>:18: DeprecationWarning: NumPy will stop allowing conversion of out-of-bound Python integers to integer arrays.  The conversion of 283 to uint8 will fail in the future.\n",
            "For the old behavior, usually:\n",
            "    np.array(value).astype(dtype)\n",
            "will give the desired result (the cast overflows).\n",
            "  segmentation[y:y + height, x:x + width] = label\n",
            "<ipython-input-423-72c3c6abeb3a>:18: DeprecationWarning: NumPy will stop allowing conversion of out-of-bound Python integers to integer arrays.  The conversion of 284 to uint8 will fail in the future.\n",
            "For the old behavior, usually:\n",
            "    np.array(value).astype(dtype)\n",
            "will give the desired result (the cast overflows).\n",
            "  segmentation[y:y + height, x:x + width] = label\n",
            "<ipython-input-423-72c3c6abeb3a>:18: DeprecationWarning: NumPy will stop allowing conversion of out-of-bound Python integers to integer arrays.  The conversion of 285 to uint8 will fail in the future.\n",
            "For the old behavior, usually:\n",
            "    np.array(value).astype(dtype)\n",
            "will give the desired result (the cast overflows).\n",
            "  segmentation[y:y + height, x:x + width] = label\n",
            "<ipython-input-423-72c3c6abeb3a>:18: DeprecationWarning: NumPy will stop allowing conversion of out-of-bound Python integers to integer arrays.  The conversion of 286 to uint8 will fail in the future.\n",
            "For the old behavior, usually:\n",
            "    np.array(value).astype(dtype)\n",
            "will give the desired result (the cast overflows).\n",
            "  segmentation[y:y + height, x:x + width] = label\n",
            "<ipython-input-423-72c3c6abeb3a>:18: DeprecationWarning: NumPy will stop allowing conversion of out-of-bound Python integers to integer arrays.  The conversion of 287 to uint8 will fail in the future.\n",
            "For the old behavior, usually:\n",
            "    np.array(value).astype(dtype)\n",
            "will give the desired result (the cast overflows).\n",
            "  segmentation[y:y + height, x:x + width] = label\n",
            "<ipython-input-423-72c3c6abeb3a>:18: DeprecationWarning: NumPy will stop allowing conversion of out-of-bound Python integers to integer arrays.  The conversion of 288 to uint8 will fail in the future.\n",
            "For the old behavior, usually:\n",
            "    np.array(value).astype(dtype)\n",
            "will give the desired result (the cast overflows).\n",
            "  segmentation[y:y + height, x:x + width] = label\n",
            "<ipython-input-423-72c3c6abeb3a>:18: DeprecationWarning: NumPy will stop allowing conversion of out-of-bound Python integers to integer arrays.  The conversion of 289 to uint8 will fail in the future.\n",
            "For the old behavior, usually:\n",
            "    np.array(value).astype(dtype)\n",
            "will give the desired result (the cast overflows).\n",
            "  segmentation[y:y + height, x:x + width] = label\n",
            "<ipython-input-423-72c3c6abeb3a>:18: DeprecationWarning: NumPy will stop allowing conversion of out-of-bound Python integers to integer arrays.  The conversion of 290 to uint8 will fail in the future.\n",
            "For the old behavior, usually:\n",
            "    np.array(value).astype(dtype)\n",
            "will give the desired result (the cast overflows).\n",
            "  segmentation[y:y + height, x:x + width] = label\n",
            "<ipython-input-423-72c3c6abeb3a>:18: DeprecationWarning: NumPy will stop allowing conversion of out-of-bound Python integers to integer arrays.  The conversion of 291 to uint8 will fail in the future.\n",
            "For the old behavior, usually:\n",
            "    np.array(value).astype(dtype)\n",
            "will give the desired result (the cast overflows).\n",
            "  segmentation[y:y + height, x:x + width] = label\n",
            "<ipython-input-423-72c3c6abeb3a>:18: DeprecationWarning: NumPy will stop allowing conversion of out-of-bound Python integers to integer arrays.  The conversion of 292 to uint8 will fail in the future.\n",
            "For the old behavior, usually:\n",
            "    np.array(value).astype(dtype)\n",
            "will give the desired result (the cast overflows).\n",
            "  segmentation[y:y + height, x:x + width] = label\n",
            "<ipython-input-423-72c3c6abeb3a>:18: DeprecationWarning: NumPy will stop allowing conversion of out-of-bound Python integers to integer arrays.  The conversion of 293 to uint8 will fail in the future.\n",
            "For the old behavior, usually:\n",
            "    np.array(value).astype(dtype)\n",
            "will give the desired result (the cast overflows).\n",
            "  segmentation[y:y + height, x:x + width] = label\n",
            "<ipython-input-423-72c3c6abeb3a>:18: DeprecationWarning: NumPy will stop allowing conversion of out-of-bound Python integers to integer arrays.  The conversion of 294 to uint8 will fail in the future.\n",
            "For the old behavior, usually:\n",
            "    np.array(value).astype(dtype)\n",
            "will give the desired result (the cast overflows).\n",
            "  segmentation[y:y + height, x:x + width] = label\n",
            "<ipython-input-423-72c3c6abeb3a>:18: DeprecationWarning: NumPy will stop allowing conversion of out-of-bound Python integers to integer arrays.  The conversion of 295 to uint8 will fail in the future.\n",
            "For the old behavior, usually:\n",
            "    np.array(value).astype(dtype)\n",
            "will give the desired result (the cast overflows).\n",
            "  segmentation[y:y + height, x:x + width] = label\n",
            "<ipython-input-423-72c3c6abeb3a>:18: DeprecationWarning: NumPy will stop allowing conversion of out-of-bound Python integers to integer arrays.  The conversion of 296 to uint8 will fail in the future.\n",
            "For the old behavior, usually:\n",
            "    np.array(value).astype(dtype)\n",
            "will give the desired result (the cast overflows).\n",
            "  segmentation[y:y + height, x:x + width] = label\n",
            "<ipython-input-423-72c3c6abeb3a>:18: DeprecationWarning: NumPy will stop allowing conversion of out-of-bound Python integers to integer arrays.  The conversion of 297 to uint8 will fail in the future.\n",
            "For the old behavior, usually:\n",
            "    np.array(value).astype(dtype)\n",
            "will give the desired result (the cast overflows).\n",
            "  segmentation[y:y + height, x:x + width] = label\n",
            "<ipython-input-423-72c3c6abeb3a>:18: DeprecationWarning: NumPy will stop allowing conversion of out-of-bound Python integers to integer arrays.  The conversion of 298 to uint8 will fail in the future.\n",
            "For the old behavior, usually:\n",
            "    np.array(value).astype(dtype)\n",
            "will give the desired result (the cast overflows).\n",
            "  segmentation[y:y + height, x:x + width] = label\n",
            "<ipython-input-423-72c3c6abeb3a>:18: DeprecationWarning: NumPy will stop allowing conversion of out-of-bound Python integers to integer arrays.  The conversion of 299 to uint8 will fail in the future.\n",
            "For the old behavior, usually:\n",
            "    np.array(value).astype(dtype)\n",
            "will give the desired result (the cast overflows).\n",
            "  segmentation[y:y + height, x:x + width] = label\n",
            "<ipython-input-423-72c3c6abeb3a>:18: DeprecationWarning: NumPy will stop allowing conversion of out-of-bound Python integers to integer arrays.  The conversion of 300 to uint8 will fail in the future.\n",
            "For the old behavior, usually:\n",
            "    np.array(value).astype(dtype)\n",
            "will give the desired result (the cast overflows).\n",
            "  segmentation[y:y + height, x:x + width] = label\n",
            "<ipython-input-423-72c3c6abeb3a>:18: DeprecationWarning: NumPy will stop allowing conversion of out-of-bound Python integers to integer arrays.  The conversion of 301 to uint8 will fail in the future.\n",
            "For the old behavior, usually:\n",
            "    np.array(value).astype(dtype)\n",
            "will give the desired result (the cast overflows).\n",
            "  segmentation[y:y + height, x:x + width] = label\n",
            "<ipython-input-423-72c3c6abeb3a>:18: DeprecationWarning: NumPy will stop allowing conversion of out-of-bound Python integers to integer arrays.  The conversion of 302 to uint8 will fail in the future.\n",
            "For the old behavior, usually:\n",
            "    np.array(value).astype(dtype)\n",
            "will give the desired result (the cast overflows).\n",
            "  segmentation[y:y + height, x:x + width] = label\n",
            "<ipython-input-423-72c3c6abeb3a>:18: DeprecationWarning: NumPy will stop allowing conversion of out-of-bound Python integers to integer arrays.  The conversion of 303 to uint8 will fail in the future.\n",
            "For the old behavior, usually:\n",
            "    np.array(value).astype(dtype)\n",
            "will give the desired result (the cast overflows).\n",
            "  segmentation[y:y + height, x:x + width] = label\n",
            "<ipython-input-423-72c3c6abeb3a>:18: DeprecationWarning: NumPy will stop allowing conversion of out-of-bound Python integers to integer arrays.  The conversion of 304 to uint8 will fail in the future.\n",
            "For the old behavior, usually:\n",
            "    np.array(value).astype(dtype)\n",
            "will give the desired result (the cast overflows).\n",
            "  segmentation[y:y + height, x:x + width] = label\n",
            "<ipython-input-423-72c3c6abeb3a>:18: DeprecationWarning: NumPy will stop allowing conversion of out-of-bound Python integers to integer arrays.  The conversion of 305 to uint8 will fail in the future.\n",
            "For the old behavior, usually:\n",
            "    np.array(value).astype(dtype)\n",
            "will give the desired result (the cast overflows).\n",
            "  segmentation[y:y + height, x:x + width] = label\n",
            "<ipython-input-423-72c3c6abeb3a>:18: DeprecationWarning: NumPy will stop allowing conversion of out-of-bound Python integers to integer arrays.  The conversion of 306 to uint8 will fail in the future.\n",
            "For the old behavior, usually:\n",
            "    np.array(value).astype(dtype)\n",
            "will give the desired result (the cast overflows).\n",
            "  segmentation[y:y + height, x:x + width] = label\n",
            "<ipython-input-423-72c3c6abeb3a>:18: DeprecationWarning: NumPy will stop allowing conversion of out-of-bound Python integers to integer arrays.  The conversion of 307 to uint8 will fail in the future.\n",
            "For the old behavior, usually:\n",
            "    np.array(value).astype(dtype)\n",
            "will give the desired result (the cast overflows).\n",
            "  segmentation[y:y + height, x:x + width] = label\n",
            "<ipython-input-423-72c3c6abeb3a>:18: DeprecationWarning: NumPy will stop allowing conversion of out-of-bound Python integers to integer arrays.  The conversion of 308 to uint8 will fail in the future.\n",
            "For the old behavior, usually:\n",
            "    np.array(value).astype(dtype)\n",
            "will give the desired result (the cast overflows).\n",
            "  segmentation[y:y + height, x:x + width] = label\n",
            "<ipython-input-423-72c3c6abeb3a>:18: DeprecationWarning: NumPy will stop allowing conversion of out-of-bound Python integers to integer arrays.  The conversion of 309 to uint8 will fail in the future.\n",
            "For the old behavior, usually:\n",
            "    np.array(value).astype(dtype)\n",
            "will give the desired result (the cast overflows).\n",
            "  segmentation[y:y + height, x:x + width] = label\n",
            "<ipython-input-423-72c3c6abeb3a>:18: DeprecationWarning: NumPy will stop allowing conversion of out-of-bound Python integers to integer arrays.  The conversion of 310 to uint8 will fail in the future.\n",
            "For the old behavior, usually:\n",
            "    np.array(value).astype(dtype)\n",
            "will give the desired result (the cast overflows).\n",
            "  segmentation[y:y + height, x:x + width] = label\n",
            "<ipython-input-423-72c3c6abeb3a>:18: DeprecationWarning: NumPy will stop allowing conversion of out-of-bound Python integers to integer arrays.  The conversion of 311 to uint8 will fail in the future.\n",
            "For the old behavior, usually:\n",
            "    np.array(value).astype(dtype)\n",
            "will give the desired result (the cast overflows).\n",
            "  segmentation[y:y + height, x:x + width] = label\n",
            "<ipython-input-423-72c3c6abeb3a>:18: DeprecationWarning: NumPy will stop allowing conversion of out-of-bound Python integers to integer arrays.  The conversion of 312 to uint8 will fail in the future.\n",
            "For the old behavior, usually:\n",
            "    np.array(value).astype(dtype)\n",
            "will give the desired result (the cast overflows).\n",
            "  segmentation[y:y + height, x:x + width] = label\n",
            "<ipython-input-423-72c3c6abeb3a>:18: DeprecationWarning: NumPy will stop allowing conversion of out-of-bound Python integers to integer arrays.  The conversion of 313 to uint8 will fail in the future.\n",
            "For the old behavior, usually:\n",
            "    np.array(value).astype(dtype)\n",
            "will give the desired result (the cast overflows).\n",
            "  segmentation[y:y + height, x:x + width] = label\n",
            "<ipython-input-423-72c3c6abeb3a>:18: DeprecationWarning: NumPy will stop allowing conversion of out-of-bound Python integers to integer arrays.  The conversion of 314 to uint8 will fail in the future.\n",
            "For the old behavior, usually:\n",
            "    np.array(value).astype(dtype)\n",
            "will give the desired result (the cast overflows).\n",
            "  segmentation[y:y + height, x:x + width] = label\n",
            "<ipython-input-423-72c3c6abeb3a>:18: DeprecationWarning: NumPy will stop allowing conversion of out-of-bound Python integers to integer arrays.  The conversion of 315 to uint8 will fail in the future.\n",
            "For the old behavior, usually:\n",
            "    np.array(value).astype(dtype)\n",
            "will give the desired result (the cast overflows).\n",
            "  segmentation[y:y + height, x:x + width] = label\n",
            "<ipython-input-423-72c3c6abeb3a>:18: DeprecationWarning: NumPy will stop allowing conversion of out-of-bound Python integers to integer arrays.  The conversion of 316 to uint8 will fail in the future.\n",
            "For the old behavior, usually:\n",
            "    np.array(value).astype(dtype)\n",
            "will give the desired result (the cast overflows).\n",
            "  segmentation[y:y + height, x:x + width] = label\n",
            "<ipython-input-423-72c3c6abeb3a>:18: DeprecationWarning: NumPy will stop allowing conversion of out-of-bound Python integers to integer arrays.  The conversion of 317 to uint8 will fail in the future.\n",
            "For the old behavior, usually:\n",
            "    np.array(value).astype(dtype)\n",
            "will give the desired result (the cast overflows).\n",
            "  segmentation[y:y + height, x:x + width] = label\n",
            "<ipython-input-423-72c3c6abeb3a>:18: DeprecationWarning: NumPy will stop allowing conversion of out-of-bound Python integers to integer arrays.  The conversion of 318 to uint8 will fail in the future.\n",
            "For the old behavior, usually:\n",
            "    np.array(value).astype(dtype)\n",
            "will give the desired result (the cast overflows).\n",
            "  segmentation[y:y + height, x:x + width] = label\n",
            "<ipython-input-423-72c3c6abeb3a>:18: DeprecationWarning: NumPy will stop allowing conversion of out-of-bound Python integers to integer arrays.  The conversion of 319 to uint8 will fail in the future.\n",
            "For the old behavior, usually:\n",
            "    np.array(value).astype(dtype)\n",
            "will give the desired result (the cast overflows).\n",
            "  segmentation[y:y + height, x:x + width] = label\n",
            "<ipython-input-423-72c3c6abeb3a>:18: DeprecationWarning: NumPy will stop allowing conversion of out-of-bound Python integers to integer arrays.  The conversion of 320 to uint8 will fail in the future.\n",
            "For the old behavior, usually:\n",
            "    np.array(value).astype(dtype)\n",
            "will give the desired result (the cast overflows).\n",
            "  segmentation[y:y + height, x:x + width] = label\n",
            "<ipython-input-423-72c3c6abeb3a>:18: DeprecationWarning: NumPy will stop allowing conversion of out-of-bound Python integers to integer arrays.  The conversion of 321 to uint8 will fail in the future.\n",
            "For the old behavior, usually:\n",
            "    np.array(value).astype(dtype)\n",
            "will give the desired result (the cast overflows).\n",
            "  segmentation[y:y + height, x:x + width] = label\n",
            "<ipython-input-423-72c3c6abeb3a>:18: DeprecationWarning: NumPy will stop allowing conversion of out-of-bound Python integers to integer arrays.  The conversion of 322 to uint8 will fail in the future.\n",
            "For the old behavior, usually:\n",
            "    np.array(value).astype(dtype)\n",
            "will give the desired result (the cast overflows).\n",
            "  segmentation[y:y + height, x:x + width] = label\n",
            "<ipython-input-423-72c3c6abeb3a>:18: DeprecationWarning: NumPy will stop allowing conversion of out-of-bound Python integers to integer arrays.  The conversion of 323 to uint8 will fail in the future.\n",
            "For the old behavior, usually:\n",
            "    np.array(value).astype(dtype)\n",
            "will give the desired result (the cast overflows).\n",
            "  segmentation[y:y + height, x:x + width] = label\n",
            "<ipython-input-423-72c3c6abeb3a>:18: DeprecationWarning: NumPy will stop allowing conversion of out-of-bound Python integers to integer arrays.  The conversion of 324 to uint8 will fail in the future.\n",
            "For the old behavior, usually:\n",
            "    np.array(value).astype(dtype)\n",
            "will give the desired result (the cast overflows).\n",
            "  segmentation[y:y + height, x:x + width] = label\n",
            "<ipython-input-423-72c3c6abeb3a>:18: DeprecationWarning: NumPy will stop allowing conversion of out-of-bound Python integers to integer arrays.  The conversion of 325 to uint8 will fail in the future.\n",
            "For the old behavior, usually:\n",
            "    np.array(value).astype(dtype)\n",
            "will give the desired result (the cast overflows).\n",
            "  segmentation[y:y + height, x:x + width] = label\n",
            "<ipython-input-423-72c3c6abeb3a>:18: DeprecationWarning: NumPy will stop allowing conversion of out-of-bound Python integers to integer arrays.  The conversion of 326 to uint8 will fail in the future.\n",
            "For the old behavior, usually:\n",
            "    np.array(value).astype(dtype)\n",
            "will give the desired result (the cast overflows).\n",
            "  segmentation[y:y + height, x:x + width] = label\n",
            "<ipython-input-423-72c3c6abeb3a>:18: DeprecationWarning: NumPy will stop allowing conversion of out-of-bound Python integers to integer arrays.  The conversion of 327 to uint8 will fail in the future.\n",
            "For the old behavior, usually:\n",
            "    np.array(value).astype(dtype)\n",
            "will give the desired result (the cast overflows).\n",
            "  segmentation[y:y + height, x:x + width] = label\n",
            "<ipython-input-423-72c3c6abeb3a>:18: DeprecationWarning: NumPy will stop allowing conversion of out-of-bound Python integers to integer arrays.  The conversion of 328 to uint8 will fail in the future.\n",
            "For the old behavior, usually:\n",
            "    np.array(value).astype(dtype)\n",
            "will give the desired result (the cast overflows).\n",
            "  segmentation[y:y + height, x:x + width] = label\n",
            "<ipython-input-423-72c3c6abeb3a>:18: DeprecationWarning: NumPy will stop allowing conversion of out-of-bound Python integers to integer arrays.  The conversion of 329 to uint8 will fail in the future.\n",
            "For the old behavior, usually:\n",
            "    np.array(value).astype(dtype)\n",
            "will give the desired result (the cast overflows).\n",
            "  segmentation[y:y + height, x:x + width] = label\n",
            "<ipython-input-423-72c3c6abeb3a>:18: DeprecationWarning: NumPy will stop allowing conversion of out-of-bound Python integers to integer arrays.  The conversion of 330 to uint8 will fail in the future.\n",
            "For the old behavior, usually:\n",
            "    np.array(value).astype(dtype)\n",
            "will give the desired result (the cast overflows).\n",
            "  segmentation[y:y + height, x:x + width] = label\n",
            "<ipython-input-423-72c3c6abeb3a>:18: DeprecationWarning: NumPy will stop allowing conversion of out-of-bound Python integers to integer arrays.  The conversion of 331 to uint8 will fail in the future.\n",
            "For the old behavior, usually:\n",
            "    np.array(value).astype(dtype)\n",
            "will give the desired result (the cast overflows).\n",
            "  segmentation[y:y + height, x:x + width] = label\n",
            "<ipython-input-423-72c3c6abeb3a>:18: DeprecationWarning: NumPy will stop allowing conversion of out-of-bound Python integers to integer arrays.  The conversion of 332 to uint8 will fail in the future.\n",
            "For the old behavior, usually:\n",
            "    np.array(value).astype(dtype)\n",
            "will give the desired result (the cast overflows).\n",
            "  segmentation[y:y + height, x:x + width] = label\n",
            "<ipython-input-423-72c3c6abeb3a>:18: DeprecationWarning: NumPy will stop allowing conversion of out-of-bound Python integers to integer arrays.  The conversion of 333 to uint8 will fail in the future.\n",
            "For the old behavior, usually:\n",
            "    np.array(value).astype(dtype)\n",
            "will give the desired result (the cast overflows).\n",
            "  segmentation[y:y + height, x:x + width] = label\n",
            "<ipython-input-423-72c3c6abeb3a>:18: DeprecationWarning: NumPy will stop allowing conversion of out-of-bound Python integers to integer arrays.  The conversion of 334 to uint8 will fail in the future.\n",
            "For the old behavior, usually:\n",
            "    np.array(value).astype(dtype)\n",
            "will give the desired result (the cast overflows).\n",
            "  segmentation[y:y + height, x:x + width] = label\n",
            "<ipython-input-423-72c3c6abeb3a>:18: DeprecationWarning: NumPy will stop allowing conversion of out-of-bound Python integers to integer arrays.  The conversion of 335 to uint8 will fail in the future.\n",
            "For the old behavior, usually:\n",
            "    np.array(value).astype(dtype)\n",
            "will give the desired result (the cast overflows).\n",
            "  segmentation[y:y + height, x:x + width] = label\n",
            "<ipython-input-423-72c3c6abeb3a>:18: DeprecationWarning: NumPy will stop allowing conversion of out-of-bound Python integers to integer arrays.  The conversion of 336 to uint8 will fail in the future.\n",
            "For the old behavior, usually:\n",
            "    np.array(value).astype(dtype)\n",
            "will give the desired result (the cast overflows).\n",
            "  segmentation[y:y + height, x:x + width] = label\n",
            "<ipython-input-423-72c3c6abeb3a>:18: DeprecationWarning: NumPy will stop allowing conversion of out-of-bound Python integers to integer arrays.  The conversion of 337 to uint8 will fail in the future.\n",
            "For the old behavior, usually:\n",
            "    np.array(value).astype(dtype)\n",
            "will give the desired result (the cast overflows).\n",
            "  segmentation[y:y + height, x:x + width] = label\n",
            "<ipython-input-423-72c3c6abeb3a>:18: DeprecationWarning: NumPy will stop allowing conversion of out-of-bound Python integers to integer arrays.  The conversion of 338 to uint8 will fail in the future.\n",
            "For the old behavior, usually:\n",
            "    np.array(value).astype(dtype)\n",
            "will give the desired result (the cast overflows).\n",
            "  segmentation[y:y + height, x:x + width] = label\n",
            "<ipython-input-423-72c3c6abeb3a>:18: DeprecationWarning: NumPy will stop allowing conversion of out-of-bound Python integers to integer arrays.  The conversion of 339 to uint8 will fail in the future.\n",
            "For the old behavior, usually:\n",
            "    np.array(value).astype(dtype)\n",
            "will give the desired result (the cast overflows).\n",
            "  segmentation[y:y + height, x:x + width] = label\n",
            "<ipython-input-423-72c3c6abeb3a>:18: DeprecationWarning: NumPy will stop allowing conversion of out-of-bound Python integers to integer arrays.  The conversion of 340 to uint8 will fail in the future.\n",
            "For the old behavior, usually:\n",
            "    np.array(value).astype(dtype)\n",
            "will give the desired result (the cast overflows).\n",
            "  segmentation[y:y + height, x:x + width] = label\n",
            "<ipython-input-423-72c3c6abeb3a>:18: DeprecationWarning: NumPy will stop allowing conversion of out-of-bound Python integers to integer arrays.  The conversion of 341 to uint8 will fail in the future.\n",
            "For the old behavior, usually:\n",
            "    np.array(value).astype(dtype)\n",
            "will give the desired result (the cast overflows).\n",
            "  segmentation[y:y + height, x:x + width] = label\n",
            "<ipython-input-423-72c3c6abeb3a>:18: DeprecationWarning: NumPy will stop allowing conversion of out-of-bound Python integers to integer arrays.  The conversion of 342 to uint8 will fail in the future.\n",
            "For the old behavior, usually:\n",
            "    np.array(value).astype(dtype)\n",
            "will give the desired result (the cast overflows).\n",
            "  segmentation[y:y + height, x:x + width] = label\n",
            "<ipython-input-423-72c3c6abeb3a>:18: DeprecationWarning: NumPy will stop allowing conversion of out-of-bound Python integers to integer arrays.  The conversion of 343 to uint8 will fail in the future.\n",
            "For the old behavior, usually:\n",
            "    np.array(value).astype(dtype)\n",
            "will give the desired result (the cast overflows).\n",
            "  segmentation[y:y + height, x:x + width] = label\n",
            "<ipython-input-423-72c3c6abeb3a>:18: DeprecationWarning: NumPy will stop allowing conversion of out-of-bound Python integers to integer arrays.  The conversion of 344 to uint8 will fail in the future.\n",
            "For the old behavior, usually:\n",
            "    np.array(value).astype(dtype)\n",
            "will give the desired result (the cast overflows).\n",
            "  segmentation[y:y + height, x:x + width] = label\n",
            "<ipython-input-423-72c3c6abeb3a>:18: DeprecationWarning: NumPy will stop allowing conversion of out-of-bound Python integers to integer arrays.  The conversion of 345 to uint8 will fail in the future.\n",
            "For the old behavior, usually:\n",
            "    np.array(value).astype(dtype)\n",
            "will give the desired result (the cast overflows).\n",
            "  segmentation[y:y + height, x:x + width] = label\n",
            "<ipython-input-423-72c3c6abeb3a>:18: DeprecationWarning: NumPy will stop allowing conversion of out-of-bound Python integers to integer arrays.  The conversion of 346 to uint8 will fail in the future.\n",
            "For the old behavior, usually:\n",
            "    np.array(value).astype(dtype)\n",
            "will give the desired result (the cast overflows).\n",
            "  segmentation[y:y + height, x:x + width] = label\n",
            "<ipython-input-423-72c3c6abeb3a>:18: DeprecationWarning: NumPy will stop allowing conversion of out-of-bound Python integers to integer arrays.  The conversion of 347 to uint8 will fail in the future.\n",
            "For the old behavior, usually:\n",
            "    np.array(value).astype(dtype)\n",
            "will give the desired result (the cast overflows).\n",
            "  segmentation[y:y + height, x:x + width] = label\n",
            "<ipython-input-423-72c3c6abeb3a>:18: DeprecationWarning: NumPy will stop allowing conversion of out-of-bound Python integers to integer arrays.  The conversion of 348 to uint8 will fail in the future.\n",
            "For the old behavior, usually:\n",
            "    np.array(value).astype(dtype)\n",
            "will give the desired result (the cast overflows).\n",
            "  segmentation[y:y + height, x:x + width] = label\n",
            "<ipython-input-423-72c3c6abeb3a>:18: DeprecationWarning: NumPy will stop allowing conversion of out-of-bound Python integers to integer arrays.  The conversion of 349 to uint8 will fail in the future.\n",
            "For the old behavior, usually:\n",
            "    np.array(value).astype(dtype)\n",
            "will give the desired result (the cast overflows).\n",
            "  segmentation[y:y + height, x:x + width] = label\n",
            "<ipython-input-423-72c3c6abeb3a>:18: DeprecationWarning: NumPy will stop allowing conversion of out-of-bound Python integers to integer arrays.  The conversion of 350 to uint8 will fail in the future.\n",
            "For the old behavior, usually:\n",
            "    np.array(value).astype(dtype)\n",
            "will give the desired result (the cast overflows).\n",
            "  segmentation[y:y + height, x:x + width] = label\n",
            "<ipython-input-423-72c3c6abeb3a>:18: DeprecationWarning: NumPy will stop allowing conversion of out-of-bound Python integers to integer arrays.  The conversion of 351 to uint8 will fail in the future.\n",
            "For the old behavior, usually:\n",
            "    np.array(value).astype(dtype)\n",
            "will give the desired result (the cast overflows).\n",
            "  segmentation[y:y + height, x:x + width] = label\n",
            "<ipython-input-423-72c3c6abeb3a>:18: DeprecationWarning: NumPy will stop allowing conversion of out-of-bound Python integers to integer arrays.  The conversion of 352 to uint8 will fail in the future.\n",
            "For the old behavior, usually:\n",
            "    np.array(value).astype(dtype)\n",
            "will give the desired result (the cast overflows).\n",
            "  segmentation[y:y + height, x:x + width] = label\n",
            "<ipython-input-423-72c3c6abeb3a>:18: DeprecationWarning: NumPy will stop allowing conversion of out-of-bound Python integers to integer arrays.  The conversion of 353 to uint8 will fail in the future.\n",
            "For the old behavior, usually:\n",
            "    np.array(value).astype(dtype)\n",
            "will give the desired result (the cast overflows).\n",
            "  segmentation[y:y + height, x:x + width] = label\n",
            "<ipython-input-423-72c3c6abeb3a>:18: DeprecationWarning: NumPy will stop allowing conversion of out-of-bound Python integers to integer arrays.  The conversion of 354 to uint8 will fail in the future.\n",
            "For the old behavior, usually:\n",
            "    np.array(value).astype(dtype)\n",
            "will give the desired result (the cast overflows).\n",
            "  segmentation[y:y + height, x:x + width] = label\n",
            "<ipython-input-423-72c3c6abeb3a>:18: DeprecationWarning: NumPy will stop allowing conversion of out-of-bound Python integers to integer arrays.  The conversion of 355 to uint8 will fail in the future.\n",
            "For the old behavior, usually:\n",
            "    np.array(value).astype(dtype)\n",
            "will give the desired result (the cast overflows).\n",
            "  segmentation[y:y + height, x:x + width] = label\n",
            "<ipython-input-423-72c3c6abeb3a>:18: DeprecationWarning: NumPy will stop allowing conversion of out-of-bound Python integers to integer arrays.  The conversion of 356 to uint8 will fail in the future.\n",
            "For the old behavior, usually:\n",
            "    np.array(value).astype(dtype)\n",
            "will give the desired result (the cast overflows).\n",
            "  segmentation[y:y + height, x:x + width] = label\n",
            "<ipython-input-423-72c3c6abeb3a>:18: DeprecationWarning: NumPy will stop allowing conversion of out-of-bound Python integers to integer arrays.  The conversion of 357 to uint8 will fail in the future.\n",
            "For the old behavior, usually:\n",
            "    np.array(value).astype(dtype)\n",
            "will give the desired result (the cast overflows).\n",
            "  segmentation[y:y + height, x:x + width] = label\n",
            "<ipython-input-423-72c3c6abeb3a>:18: DeprecationWarning: NumPy will stop allowing conversion of out-of-bound Python integers to integer arrays.  The conversion of 358 to uint8 will fail in the future.\n",
            "For the old behavior, usually:\n",
            "    np.array(value).astype(dtype)\n",
            "will give the desired result (the cast overflows).\n",
            "  segmentation[y:y + height, x:x + width] = label\n",
            "<ipython-input-423-72c3c6abeb3a>:18: DeprecationWarning: NumPy will stop allowing conversion of out-of-bound Python integers to integer arrays.  The conversion of 359 to uint8 will fail in the future.\n",
            "For the old behavior, usually:\n",
            "    np.array(value).astype(dtype)\n",
            "will give the desired result (the cast overflows).\n",
            "  segmentation[y:y + height, x:x + width] = label\n",
            "<ipython-input-423-72c3c6abeb3a>:18: DeprecationWarning: NumPy will stop allowing conversion of out-of-bound Python integers to integer arrays.  The conversion of 360 to uint8 will fail in the future.\n",
            "For the old behavior, usually:\n",
            "    np.array(value).astype(dtype)\n",
            "will give the desired result (the cast overflows).\n",
            "  segmentation[y:y + height, x:x + width] = label\n",
            "<ipython-input-423-72c3c6abeb3a>:18: DeprecationWarning: NumPy will stop allowing conversion of out-of-bound Python integers to integer arrays.  The conversion of 361 to uint8 will fail in the future.\n",
            "For the old behavior, usually:\n",
            "    np.array(value).astype(dtype)\n",
            "will give the desired result (the cast overflows).\n",
            "  segmentation[y:y + height, x:x + width] = label\n",
            "<ipython-input-423-72c3c6abeb3a>:18: DeprecationWarning: NumPy will stop allowing conversion of out-of-bound Python integers to integer arrays.  The conversion of 362 to uint8 will fail in the future.\n",
            "For the old behavior, usually:\n",
            "    np.array(value).astype(dtype)\n",
            "will give the desired result (the cast overflows).\n",
            "  segmentation[y:y + height, x:x + width] = label\n",
            "<ipython-input-423-72c3c6abeb3a>:18: DeprecationWarning: NumPy will stop allowing conversion of out-of-bound Python integers to integer arrays.  The conversion of 363 to uint8 will fail in the future.\n",
            "For the old behavior, usually:\n",
            "    np.array(value).astype(dtype)\n",
            "will give the desired result (the cast overflows).\n",
            "  segmentation[y:y + height, x:x + width] = label\n",
            "<ipython-input-423-72c3c6abeb3a>:18: DeprecationWarning: NumPy will stop allowing conversion of out-of-bound Python integers to integer arrays.  The conversion of 364 to uint8 will fail in the future.\n",
            "For the old behavior, usually:\n",
            "    np.array(value).astype(dtype)\n",
            "will give the desired result (the cast overflows).\n",
            "  segmentation[y:y + height, x:x + width] = label\n",
            "<ipython-input-423-72c3c6abeb3a>:18: DeprecationWarning: NumPy will stop allowing conversion of out-of-bound Python integers to integer arrays.  The conversion of 365 to uint8 will fail in the future.\n",
            "For the old behavior, usually:\n",
            "    np.array(value).astype(dtype)\n",
            "will give the desired result (the cast overflows).\n",
            "  segmentation[y:y + height, x:x + width] = label\n",
            "<ipython-input-423-72c3c6abeb3a>:18: DeprecationWarning: NumPy will stop allowing conversion of out-of-bound Python integers to integer arrays.  The conversion of 366 to uint8 will fail in the future.\n",
            "For the old behavior, usually:\n",
            "    np.array(value).astype(dtype)\n",
            "will give the desired result (the cast overflows).\n",
            "  segmentation[y:y + height, x:x + width] = label\n",
            "<ipython-input-423-72c3c6abeb3a>:18: DeprecationWarning: NumPy will stop allowing conversion of out-of-bound Python integers to integer arrays.  The conversion of 367 to uint8 will fail in the future.\n",
            "For the old behavior, usually:\n",
            "    np.array(value).astype(dtype)\n",
            "will give the desired result (the cast overflows).\n",
            "  segmentation[y:y + height, x:x + width] = label\n",
            "<ipython-input-423-72c3c6abeb3a>:18: DeprecationWarning: NumPy will stop allowing conversion of out-of-bound Python integers to integer arrays.  The conversion of 368 to uint8 will fail in the future.\n",
            "For the old behavior, usually:\n",
            "    np.array(value).astype(dtype)\n",
            "will give the desired result (the cast overflows).\n",
            "  segmentation[y:y + height, x:x + width] = label\n",
            "<ipython-input-423-72c3c6abeb3a>:18: DeprecationWarning: NumPy will stop allowing conversion of out-of-bound Python integers to integer arrays.  The conversion of 369 to uint8 will fail in the future.\n",
            "For the old behavior, usually:\n",
            "    np.array(value).astype(dtype)\n",
            "will give the desired result (the cast overflows).\n",
            "  segmentation[y:y + height, x:x + width] = label\n",
            "<ipython-input-423-72c3c6abeb3a>:18: DeprecationWarning: NumPy will stop allowing conversion of out-of-bound Python integers to integer arrays.  The conversion of 370 to uint8 will fail in the future.\n",
            "For the old behavior, usually:\n",
            "    np.array(value).astype(dtype)\n",
            "will give the desired result (the cast overflows).\n",
            "  segmentation[y:y + height, x:x + width] = label\n",
            "<ipython-input-423-72c3c6abeb3a>:18: DeprecationWarning: NumPy will stop allowing conversion of out-of-bound Python integers to integer arrays.  The conversion of 371 to uint8 will fail in the future.\n",
            "For the old behavior, usually:\n",
            "    np.array(value).astype(dtype)\n",
            "will give the desired result (the cast overflows).\n",
            "  segmentation[y:y + height, x:x + width] = label\n",
            "<ipython-input-423-72c3c6abeb3a>:18: DeprecationWarning: NumPy will stop allowing conversion of out-of-bound Python integers to integer arrays.  The conversion of 372 to uint8 will fail in the future.\n",
            "For the old behavior, usually:\n",
            "    np.array(value).astype(dtype)\n",
            "will give the desired result (the cast overflows).\n",
            "  segmentation[y:y + height, x:x + width] = label\n",
            "<ipython-input-423-72c3c6abeb3a>:18: DeprecationWarning: NumPy will stop allowing conversion of out-of-bound Python integers to integer arrays.  The conversion of 373 to uint8 will fail in the future.\n",
            "For the old behavior, usually:\n",
            "    np.array(value).astype(dtype)\n",
            "will give the desired result (the cast overflows).\n",
            "  segmentation[y:y + height, x:x + width] = label\n",
            "<ipython-input-423-72c3c6abeb3a>:18: DeprecationWarning: NumPy will stop allowing conversion of out-of-bound Python integers to integer arrays.  The conversion of 374 to uint8 will fail in the future.\n",
            "For the old behavior, usually:\n",
            "    np.array(value).astype(dtype)\n",
            "will give the desired result (the cast overflows).\n",
            "  segmentation[y:y + height, x:x + width] = label\n",
            "<ipython-input-423-72c3c6abeb3a>:18: DeprecationWarning: NumPy will stop allowing conversion of out-of-bound Python integers to integer arrays.  The conversion of 375 to uint8 will fail in the future.\n",
            "For the old behavior, usually:\n",
            "    np.array(value).astype(dtype)\n",
            "will give the desired result (the cast overflows).\n",
            "  segmentation[y:y + height, x:x + width] = label\n",
            "<ipython-input-423-72c3c6abeb3a>:18: DeprecationWarning: NumPy will stop allowing conversion of out-of-bound Python integers to integer arrays.  The conversion of 376 to uint8 will fail in the future.\n",
            "For the old behavior, usually:\n",
            "    np.array(value).astype(dtype)\n",
            "will give the desired result (the cast overflows).\n",
            "  segmentation[y:y + height, x:x + width] = label\n",
            "<ipython-input-423-72c3c6abeb3a>:18: DeprecationWarning: NumPy will stop allowing conversion of out-of-bound Python integers to integer arrays.  The conversion of 377 to uint8 will fail in the future.\n",
            "For the old behavior, usually:\n",
            "    np.array(value).astype(dtype)\n",
            "will give the desired result (the cast overflows).\n",
            "  segmentation[y:y + height, x:x + width] = label\n",
            "<ipython-input-423-72c3c6abeb3a>:18: DeprecationWarning: NumPy will stop allowing conversion of out-of-bound Python integers to integer arrays.  The conversion of 378 to uint8 will fail in the future.\n",
            "For the old behavior, usually:\n",
            "    np.array(value).astype(dtype)\n",
            "will give the desired result (the cast overflows).\n",
            "  segmentation[y:y + height, x:x + width] = label\n",
            "<ipython-input-423-72c3c6abeb3a>:18: DeprecationWarning: NumPy will stop allowing conversion of out-of-bound Python integers to integer arrays.  The conversion of 379 to uint8 will fail in the future.\n",
            "For the old behavior, usually:\n",
            "    np.array(value).astype(dtype)\n",
            "will give the desired result (the cast overflows).\n",
            "  segmentation[y:y + height, x:x + width] = label\n",
            "<ipython-input-423-72c3c6abeb3a>:18: DeprecationWarning: NumPy will stop allowing conversion of out-of-bound Python integers to integer arrays.  The conversion of 380 to uint8 will fail in the future.\n",
            "For the old behavior, usually:\n",
            "    np.array(value).astype(dtype)\n",
            "will give the desired result (the cast overflows).\n",
            "  segmentation[y:y + height, x:x + width] = label\n",
            "<ipython-input-423-72c3c6abeb3a>:18: DeprecationWarning: NumPy will stop allowing conversion of out-of-bound Python integers to integer arrays.  The conversion of 381 to uint8 will fail in the future.\n",
            "For the old behavior, usually:\n",
            "    np.array(value).astype(dtype)\n",
            "will give the desired result (the cast overflows).\n",
            "  segmentation[y:y + height, x:x + width] = label\n",
            "<ipython-input-423-72c3c6abeb3a>:18: DeprecationWarning: NumPy will stop allowing conversion of out-of-bound Python integers to integer arrays.  The conversion of 382 to uint8 will fail in the future.\n",
            "For the old behavior, usually:\n",
            "    np.array(value).astype(dtype)\n",
            "will give the desired result (the cast overflows).\n",
            "  segmentation[y:y + height, x:x + width] = label\n",
            "<ipython-input-423-72c3c6abeb3a>:18: DeprecationWarning: NumPy will stop allowing conversion of out-of-bound Python integers to integer arrays.  The conversion of 383 to uint8 will fail in the future.\n",
            "For the old behavior, usually:\n",
            "    np.array(value).astype(dtype)\n",
            "will give the desired result (the cast overflows).\n",
            "  segmentation[y:y + height, x:x + width] = label\n",
            "<ipython-input-423-72c3c6abeb3a>:18: DeprecationWarning: NumPy will stop allowing conversion of out-of-bound Python integers to integer arrays.  The conversion of 384 to uint8 will fail in the future.\n",
            "For the old behavior, usually:\n",
            "    np.array(value).astype(dtype)\n",
            "will give the desired result (the cast overflows).\n",
            "  segmentation[y:y + height, x:x + width] = label\n",
            "<ipython-input-423-72c3c6abeb3a>:18: DeprecationWarning: NumPy will stop allowing conversion of out-of-bound Python integers to integer arrays.  The conversion of 385 to uint8 will fail in the future.\n",
            "For the old behavior, usually:\n",
            "    np.array(value).astype(dtype)\n",
            "will give the desired result (the cast overflows).\n",
            "  segmentation[y:y + height, x:x + width] = label\n",
            "<ipython-input-423-72c3c6abeb3a>:18: DeprecationWarning: NumPy will stop allowing conversion of out-of-bound Python integers to integer arrays.  The conversion of 386 to uint8 will fail in the future.\n",
            "For the old behavior, usually:\n",
            "    np.array(value).astype(dtype)\n",
            "will give the desired result (the cast overflows).\n",
            "  segmentation[y:y + height, x:x + width] = label\n",
            "<ipython-input-423-72c3c6abeb3a>:18: DeprecationWarning: NumPy will stop allowing conversion of out-of-bound Python integers to integer arrays.  The conversion of 387 to uint8 will fail in the future.\n",
            "For the old behavior, usually:\n",
            "    np.array(value).astype(dtype)\n",
            "will give the desired result (the cast overflows).\n",
            "  segmentation[y:y + height, x:x + width] = label\n",
            "<ipython-input-423-72c3c6abeb3a>:18: DeprecationWarning: NumPy will stop allowing conversion of out-of-bound Python integers to integer arrays.  The conversion of 388 to uint8 will fail in the future.\n",
            "For the old behavior, usually:\n",
            "    np.array(value).astype(dtype)\n",
            "will give the desired result (the cast overflows).\n",
            "  segmentation[y:y + height, x:x + width] = label\n",
            "<ipython-input-423-72c3c6abeb3a>:18: DeprecationWarning: NumPy will stop allowing conversion of out-of-bound Python integers to integer arrays.  The conversion of 389 to uint8 will fail in the future.\n",
            "For the old behavior, usually:\n",
            "    np.array(value).astype(dtype)\n",
            "will give the desired result (the cast overflows).\n",
            "  segmentation[y:y + height, x:x + width] = label\n",
            "<ipython-input-423-72c3c6abeb3a>:18: DeprecationWarning: NumPy will stop allowing conversion of out-of-bound Python integers to integer arrays.  The conversion of 390 to uint8 will fail in the future.\n",
            "For the old behavior, usually:\n",
            "    np.array(value).astype(dtype)\n",
            "will give the desired result (the cast overflows).\n",
            "  segmentation[y:y + height, x:x + width] = label\n",
            "<ipython-input-423-72c3c6abeb3a>:18: DeprecationWarning: NumPy will stop allowing conversion of out-of-bound Python integers to integer arrays.  The conversion of 391 to uint8 will fail in the future.\n",
            "For the old behavior, usually:\n",
            "    np.array(value).astype(dtype)\n",
            "will give the desired result (the cast overflows).\n",
            "  segmentation[y:y + height, x:x + width] = label\n",
            "<ipython-input-423-72c3c6abeb3a>:18: DeprecationWarning: NumPy will stop allowing conversion of out-of-bound Python integers to integer arrays.  The conversion of 392 to uint8 will fail in the future.\n",
            "For the old behavior, usually:\n",
            "    np.array(value).astype(dtype)\n",
            "will give the desired result (the cast overflows).\n",
            "  segmentation[y:y + height, x:x + width] = label\n",
            "<ipython-input-423-72c3c6abeb3a>:18: DeprecationWarning: NumPy will stop allowing conversion of out-of-bound Python integers to integer arrays.  The conversion of 393 to uint8 will fail in the future.\n",
            "For the old behavior, usually:\n",
            "    np.array(value).astype(dtype)\n",
            "will give the desired result (the cast overflows).\n",
            "  segmentation[y:y + height, x:x + width] = label\n",
            "<ipython-input-423-72c3c6abeb3a>:18: DeprecationWarning: NumPy will stop allowing conversion of out-of-bound Python integers to integer arrays.  The conversion of 394 to uint8 will fail in the future.\n",
            "For the old behavior, usually:\n",
            "    np.array(value).astype(dtype)\n",
            "will give the desired result (the cast overflows).\n",
            "  segmentation[y:y + height, x:x + width] = label\n",
            "<ipython-input-423-72c3c6abeb3a>:18: DeprecationWarning: NumPy will stop allowing conversion of out-of-bound Python integers to integer arrays.  The conversion of 395 to uint8 will fail in the future.\n",
            "For the old behavior, usually:\n",
            "    np.array(value).astype(dtype)\n",
            "will give the desired result (the cast overflows).\n",
            "  segmentation[y:y + height, x:x + width] = label\n",
            "<ipython-input-423-72c3c6abeb3a>:18: DeprecationWarning: NumPy will stop allowing conversion of out-of-bound Python integers to integer arrays.  The conversion of 396 to uint8 will fail in the future.\n",
            "For the old behavior, usually:\n",
            "    np.array(value).astype(dtype)\n",
            "will give the desired result (the cast overflows).\n",
            "  segmentation[y:y + height, x:x + width] = label\n",
            "<ipython-input-423-72c3c6abeb3a>:18: DeprecationWarning: NumPy will stop allowing conversion of out-of-bound Python integers to integer arrays.  The conversion of 397 to uint8 will fail in the future.\n",
            "For the old behavior, usually:\n",
            "    np.array(value).astype(dtype)\n",
            "will give the desired result (the cast overflows).\n",
            "  segmentation[y:y + height, x:x + width] = label\n",
            "<ipython-input-423-72c3c6abeb3a>:18: DeprecationWarning: NumPy will stop allowing conversion of out-of-bound Python integers to integer arrays.  The conversion of 398 to uint8 will fail in the future.\n",
            "For the old behavior, usually:\n",
            "    np.array(value).astype(dtype)\n",
            "will give the desired result (the cast overflows).\n",
            "  segmentation[y:y + height, x:x + width] = label\n",
            "<ipython-input-423-72c3c6abeb3a>:18: DeprecationWarning: NumPy will stop allowing conversion of out-of-bound Python integers to integer arrays.  The conversion of 399 to uint8 will fail in the future.\n",
            "For the old behavior, usually:\n",
            "    np.array(value).astype(dtype)\n",
            "will give the desired result (the cast overflows).\n",
            "  segmentation[y:y + height, x:x + width] = label\n",
            "<ipython-input-423-72c3c6abeb3a>:18: DeprecationWarning: NumPy will stop allowing conversion of out-of-bound Python integers to integer arrays.  The conversion of 400 to uint8 will fail in the future.\n",
            "For the old behavior, usually:\n",
            "    np.array(value).astype(dtype)\n",
            "will give the desired result (the cast overflows).\n",
            "  segmentation[y:y + height, x:x + width] = label\n",
            "<ipython-input-423-72c3c6abeb3a>:18: DeprecationWarning: NumPy will stop allowing conversion of out-of-bound Python integers to integer arrays.  The conversion of 401 to uint8 will fail in the future.\n",
            "For the old behavior, usually:\n",
            "    np.array(value).astype(dtype)\n",
            "will give the desired result (the cast overflows).\n",
            "  segmentation[y:y + height, x:x + width] = label\n",
            "<ipython-input-423-72c3c6abeb3a>:18: DeprecationWarning: NumPy will stop allowing conversion of out-of-bound Python integers to integer arrays.  The conversion of 402 to uint8 will fail in the future.\n",
            "For the old behavior, usually:\n",
            "    np.array(value).astype(dtype)\n",
            "will give the desired result (the cast overflows).\n",
            "  segmentation[y:y + height, x:x + width] = label\n",
            "<ipython-input-423-72c3c6abeb3a>:18: DeprecationWarning: NumPy will stop allowing conversion of out-of-bound Python integers to integer arrays.  The conversion of 403 to uint8 will fail in the future.\n",
            "For the old behavior, usually:\n",
            "    np.array(value).astype(dtype)\n",
            "will give the desired result (the cast overflows).\n",
            "  segmentation[y:y + height, x:x + width] = label\n",
            "<ipython-input-423-72c3c6abeb3a>:18: DeprecationWarning: NumPy will stop allowing conversion of out-of-bound Python integers to integer arrays.  The conversion of 404 to uint8 will fail in the future.\n",
            "For the old behavior, usually:\n",
            "    np.array(value).astype(dtype)\n",
            "will give the desired result (the cast overflows).\n",
            "  segmentation[y:y + height, x:x + width] = label\n",
            "<ipython-input-423-72c3c6abeb3a>:18: DeprecationWarning: NumPy will stop allowing conversion of out-of-bound Python integers to integer arrays.  The conversion of 405 to uint8 will fail in the future.\n",
            "For the old behavior, usually:\n",
            "    np.array(value).astype(dtype)\n",
            "will give the desired result (the cast overflows).\n",
            "  segmentation[y:y + height, x:x + width] = label\n",
            "<ipython-input-423-72c3c6abeb3a>:18: DeprecationWarning: NumPy will stop allowing conversion of out-of-bound Python integers to integer arrays.  The conversion of 406 to uint8 will fail in the future.\n",
            "For the old behavior, usually:\n",
            "    np.array(value).astype(dtype)\n",
            "will give the desired result (the cast overflows).\n",
            "  segmentation[y:y + height, x:x + width] = label\n",
            "<ipython-input-423-72c3c6abeb3a>:18: DeprecationWarning: NumPy will stop allowing conversion of out-of-bound Python integers to integer arrays.  The conversion of 407 to uint8 will fail in the future.\n",
            "For the old behavior, usually:\n",
            "    np.array(value).astype(dtype)\n",
            "will give the desired result (the cast overflows).\n",
            "  segmentation[y:y + height, x:x + width] = label\n",
            "<ipython-input-423-72c3c6abeb3a>:18: DeprecationWarning: NumPy will stop allowing conversion of out-of-bound Python integers to integer arrays.  The conversion of 408 to uint8 will fail in the future.\n",
            "For the old behavior, usually:\n",
            "    np.array(value).astype(dtype)\n",
            "will give the desired result (the cast overflows).\n",
            "  segmentation[y:y + height, x:x + width] = label\n",
            "<ipython-input-423-72c3c6abeb3a>:18: DeprecationWarning: NumPy will stop allowing conversion of out-of-bound Python integers to integer arrays.  The conversion of 409 to uint8 will fail in the future.\n",
            "For the old behavior, usually:\n",
            "    np.array(value).astype(dtype)\n",
            "will give the desired result (the cast overflows).\n",
            "  segmentation[y:y + height, x:x + width] = label\n",
            "<ipython-input-423-72c3c6abeb3a>:18: DeprecationWarning: NumPy will stop allowing conversion of out-of-bound Python integers to integer arrays.  The conversion of 410 to uint8 will fail in the future.\n",
            "For the old behavior, usually:\n",
            "    np.array(value).astype(dtype)\n",
            "will give the desired result (the cast overflows).\n",
            "  segmentation[y:y + height, x:x + width] = label\n",
            "<ipython-input-423-72c3c6abeb3a>:18: DeprecationWarning: NumPy will stop allowing conversion of out-of-bound Python integers to integer arrays.  The conversion of 411 to uint8 will fail in the future.\n",
            "For the old behavior, usually:\n",
            "    np.array(value).astype(dtype)\n",
            "will give the desired result (the cast overflows).\n",
            "  segmentation[y:y + height, x:x + width] = label\n",
            "<ipython-input-423-72c3c6abeb3a>:18: DeprecationWarning: NumPy will stop allowing conversion of out-of-bound Python integers to integer arrays.  The conversion of 412 to uint8 will fail in the future.\n",
            "For the old behavior, usually:\n",
            "    np.array(value).astype(dtype)\n",
            "will give the desired result (the cast overflows).\n",
            "  segmentation[y:y + height, x:x + width] = label\n",
            "<ipython-input-423-72c3c6abeb3a>:18: DeprecationWarning: NumPy will stop allowing conversion of out-of-bound Python integers to integer arrays.  The conversion of 413 to uint8 will fail in the future.\n",
            "For the old behavior, usually:\n",
            "    np.array(value).astype(dtype)\n",
            "will give the desired result (the cast overflows).\n",
            "  segmentation[y:y + height, x:x + width] = label\n",
            "<ipython-input-423-72c3c6abeb3a>:18: DeprecationWarning: NumPy will stop allowing conversion of out-of-bound Python integers to integer arrays.  The conversion of 414 to uint8 will fail in the future.\n",
            "For the old behavior, usually:\n",
            "    np.array(value).astype(dtype)\n",
            "will give the desired result (the cast overflows).\n",
            "  segmentation[y:y + height, x:x + width] = label\n",
            "<ipython-input-423-72c3c6abeb3a>:18: DeprecationWarning: NumPy will stop allowing conversion of out-of-bound Python integers to integer arrays.  The conversion of 415 to uint8 will fail in the future.\n",
            "For the old behavior, usually:\n",
            "    np.array(value).astype(dtype)\n",
            "will give the desired result (the cast overflows).\n",
            "  segmentation[y:y + height, x:x + width] = label\n",
            "<ipython-input-423-72c3c6abeb3a>:18: DeprecationWarning: NumPy will stop allowing conversion of out-of-bound Python integers to integer arrays.  The conversion of 416 to uint8 will fail in the future.\n",
            "For the old behavior, usually:\n",
            "    np.array(value).astype(dtype)\n",
            "will give the desired result (the cast overflows).\n",
            "  segmentation[y:y + height, x:x + width] = label\n",
            "<ipython-input-423-72c3c6abeb3a>:18: DeprecationWarning: NumPy will stop allowing conversion of out-of-bound Python integers to integer arrays.  The conversion of 417 to uint8 will fail in the future.\n",
            "For the old behavior, usually:\n",
            "    np.array(value).astype(dtype)\n",
            "will give the desired result (the cast overflows).\n",
            "  segmentation[y:y + height, x:x + width] = label\n",
            "<ipython-input-423-72c3c6abeb3a>:18: DeprecationWarning: NumPy will stop allowing conversion of out-of-bound Python integers to integer arrays.  The conversion of 418 to uint8 will fail in the future.\n",
            "For the old behavior, usually:\n",
            "    np.array(value).astype(dtype)\n",
            "will give the desired result (the cast overflows).\n",
            "  segmentation[y:y + height, x:x + width] = label\n",
            "<ipython-input-423-72c3c6abeb3a>:18: DeprecationWarning: NumPy will stop allowing conversion of out-of-bound Python integers to integer arrays.  The conversion of 419 to uint8 will fail in the future.\n",
            "For the old behavior, usually:\n",
            "    np.array(value).astype(dtype)\n",
            "will give the desired result (the cast overflows).\n",
            "  segmentation[y:y + height, x:x + width] = label\n",
            "<ipython-input-423-72c3c6abeb3a>:18: DeprecationWarning: NumPy will stop allowing conversion of out-of-bound Python integers to integer arrays.  The conversion of 420 to uint8 will fail in the future.\n",
            "For the old behavior, usually:\n",
            "    np.array(value).astype(dtype)\n",
            "will give the desired result (the cast overflows).\n",
            "  segmentation[y:y + height, x:x + width] = label\n",
            "<ipython-input-423-72c3c6abeb3a>:18: DeprecationWarning: NumPy will stop allowing conversion of out-of-bound Python integers to integer arrays.  The conversion of 421 to uint8 will fail in the future.\n",
            "For the old behavior, usually:\n",
            "    np.array(value).astype(dtype)\n",
            "will give the desired result (the cast overflows).\n",
            "  segmentation[y:y + height, x:x + width] = label\n",
            "<ipython-input-423-72c3c6abeb3a>:18: DeprecationWarning: NumPy will stop allowing conversion of out-of-bound Python integers to integer arrays.  The conversion of 422 to uint8 will fail in the future.\n",
            "For the old behavior, usually:\n",
            "    np.array(value).astype(dtype)\n",
            "will give the desired result (the cast overflows).\n",
            "  segmentation[y:y + height, x:x + width] = label\n",
            "<ipython-input-423-72c3c6abeb3a>:18: DeprecationWarning: NumPy will stop allowing conversion of out-of-bound Python integers to integer arrays.  The conversion of 423 to uint8 will fail in the future.\n",
            "For the old behavior, usually:\n",
            "    np.array(value).astype(dtype)\n",
            "will give the desired result (the cast overflows).\n",
            "  segmentation[y:y + height, x:x + width] = label\n",
            "<ipython-input-423-72c3c6abeb3a>:18: DeprecationWarning: NumPy will stop allowing conversion of out-of-bound Python integers to integer arrays.  The conversion of 424 to uint8 will fail in the future.\n",
            "For the old behavior, usually:\n",
            "    np.array(value).astype(dtype)\n",
            "will give the desired result (the cast overflows).\n",
            "  segmentation[y:y + height, x:x + width] = label\n",
            "<ipython-input-423-72c3c6abeb3a>:18: DeprecationWarning: NumPy will stop allowing conversion of out-of-bound Python integers to integer arrays.  The conversion of 425 to uint8 will fail in the future.\n",
            "For the old behavior, usually:\n",
            "    np.array(value).astype(dtype)\n",
            "will give the desired result (the cast overflows).\n",
            "  segmentation[y:y + height, x:x + width] = label\n",
            "<ipython-input-423-72c3c6abeb3a>:18: DeprecationWarning: NumPy will stop allowing conversion of out-of-bound Python integers to integer arrays.  The conversion of 426 to uint8 will fail in the future.\n",
            "For the old behavior, usually:\n",
            "    np.array(value).astype(dtype)\n",
            "will give the desired result (the cast overflows).\n",
            "  segmentation[y:y + height, x:x + width] = label\n",
            "<ipython-input-423-72c3c6abeb3a>:18: DeprecationWarning: NumPy will stop allowing conversion of out-of-bound Python integers to integer arrays.  The conversion of 427 to uint8 will fail in the future.\n",
            "For the old behavior, usually:\n",
            "    np.array(value).astype(dtype)\n",
            "will give the desired result (the cast overflows).\n",
            "  segmentation[y:y + height, x:x + width] = label\n",
            "<ipython-input-423-72c3c6abeb3a>:18: DeprecationWarning: NumPy will stop allowing conversion of out-of-bound Python integers to integer arrays.  The conversion of 428 to uint8 will fail in the future.\n",
            "For the old behavior, usually:\n",
            "    np.array(value).astype(dtype)\n",
            "will give the desired result (the cast overflows).\n",
            "  segmentation[y:y + height, x:x + width] = label\n",
            "<ipython-input-423-72c3c6abeb3a>:18: DeprecationWarning: NumPy will stop allowing conversion of out-of-bound Python integers to integer arrays.  The conversion of 429 to uint8 will fail in the future.\n",
            "For the old behavior, usually:\n",
            "    np.array(value).astype(dtype)\n",
            "will give the desired result (the cast overflows).\n",
            "  segmentation[y:y + height, x:x + width] = label\n",
            "<ipython-input-423-72c3c6abeb3a>:18: DeprecationWarning: NumPy will stop allowing conversion of out-of-bound Python integers to integer arrays.  The conversion of 430 to uint8 will fail in the future.\n",
            "For the old behavior, usually:\n",
            "    np.array(value).astype(dtype)\n",
            "will give the desired result (the cast overflows).\n",
            "  segmentation[y:y + height, x:x + width] = label\n",
            "<ipython-input-423-72c3c6abeb3a>:18: DeprecationWarning: NumPy will stop allowing conversion of out-of-bound Python integers to integer arrays.  The conversion of 431 to uint8 will fail in the future.\n",
            "For the old behavior, usually:\n",
            "    np.array(value).astype(dtype)\n",
            "will give the desired result (the cast overflows).\n",
            "  segmentation[y:y + height, x:x + width] = label\n",
            "<ipython-input-423-72c3c6abeb3a>:18: DeprecationWarning: NumPy will stop allowing conversion of out-of-bound Python integers to integer arrays.  The conversion of 432 to uint8 will fail in the future.\n",
            "For the old behavior, usually:\n",
            "    np.array(value).astype(dtype)\n",
            "will give the desired result (the cast overflows).\n",
            "  segmentation[y:y + height, x:x + width] = label\n",
            "<ipython-input-423-72c3c6abeb3a>:18: DeprecationWarning: NumPy will stop allowing conversion of out-of-bound Python integers to integer arrays.  The conversion of 433 to uint8 will fail in the future.\n",
            "For the old behavior, usually:\n",
            "    np.array(value).astype(dtype)\n",
            "will give the desired result (the cast overflows).\n",
            "  segmentation[y:y + height, x:x + width] = label\n",
            "<ipython-input-423-72c3c6abeb3a>:18: DeprecationWarning: NumPy will stop allowing conversion of out-of-bound Python integers to integer arrays.  The conversion of 434 to uint8 will fail in the future.\n",
            "For the old behavior, usually:\n",
            "    np.array(value).astype(dtype)\n",
            "will give the desired result (the cast overflows).\n",
            "  segmentation[y:y + height, x:x + width] = label\n",
            "<ipython-input-423-72c3c6abeb3a>:18: DeprecationWarning: NumPy will stop allowing conversion of out-of-bound Python integers to integer arrays.  The conversion of 435 to uint8 will fail in the future.\n",
            "For the old behavior, usually:\n",
            "    np.array(value).astype(dtype)\n",
            "will give the desired result (the cast overflows).\n",
            "  segmentation[y:y + height, x:x + width] = label\n",
            "<ipython-input-423-72c3c6abeb3a>:18: DeprecationWarning: NumPy will stop allowing conversion of out-of-bound Python integers to integer arrays.  The conversion of 436 to uint8 will fail in the future.\n",
            "For the old behavior, usually:\n",
            "    np.array(value).astype(dtype)\n",
            "will give the desired result (the cast overflows).\n",
            "  segmentation[y:y + height, x:x + width] = label\n",
            "<ipython-input-423-72c3c6abeb3a>:18: DeprecationWarning: NumPy will stop allowing conversion of out-of-bound Python integers to integer arrays.  The conversion of 437 to uint8 will fail in the future.\n",
            "For the old behavior, usually:\n",
            "    np.array(value).astype(dtype)\n",
            "will give the desired result (the cast overflows).\n",
            "  segmentation[y:y + height, x:x + width] = label\n",
            "<ipython-input-423-72c3c6abeb3a>:18: DeprecationWarning: NumPy will stop allowing conversion of out-of-bound Python integers to integer arrays.  The conversion of 438 to uint8 will fail in the future.\n",
            "For the old behavior, usually:\n",
            "    np.array(value).astype(dtype)\n",
            "will give the desired result (the cast overflows).\n",
            "  segmentation[y:y + height, x:x + width] = label\n",
            "<ipython-input-423-72c3c6abeb3a>:18: DeprecationWarning: NumPy will stop allowing conversion of out-of-bound Python integers to integer arrays.  The conversion of 439 to uint8 will fail in the future.\n",
            "For the old behavior, usually:\n",
            "    np.array(value).astype(dtype)\n",
            "will give the desired result (the cast overflows).\n",
            "  segmentation[y:y + height, x:x + width] = label\n",
            "<ipython-input-423-72c3c6abeb3a>:18: DeprecationWarning: NumPy will stop allowing conversion of out-of-bound Python integers to integer arrays.  The conversion of 440 to uint8 will fail in the future.\n",
            "For the old behavior, usually:\n",
            "    np.array(value).astype(dtype)\n",
            "will give the desired result (the cast overflows).\n",
            "  segmentation[y:y + height, x:x + width] = label\n",
            "<ipython-input-423-72c3c6abeb3a>:18: DeprecationWarning: NumPy will stop allowing conversion of out-of-bound Python integers to integer arrays.  The conversion of 441 to uint8 will fail in the future.\n",
            "For the old behavior, usually:\n",
            "    np.array(value).astype(dtype)\n",
            "will give the desired result (the cast overflows).\n",
            "  segmentation[y:y + height, x:x + width] = label\n",
            "<ipython-input-423-72c3c6abeb3a>:18: DeprecationWarning: NumPy will stop allowing conversion of out-of-bound Python integers to integer arrays.  The conversion of 442 to uint8 will fail in the future.\n",
            "For the old behavior, usually:\n",
            "    np.array(value).astype(dtype)\n",
            "will give the desired result (the cast overflows).\n",
            "  segmentation[y:y + height, x:x + width] = label\n",
            "<ipython-input-423-72c3c6abeb3a>:18: DeprecationWarning: NumPy will stop allowing conversion of out-of-bound Python integers to integer arrays.  The conversion of 443 to uint8 will fail in the future.\n",
            "For the old behavior, usually:\n",
            "    np.array(value).astype(dtype)\n",
            "will give the desired result (the cast overflows).\n",
            "  segmentation[y:y + height, x:x + width] = label\n",
            "<ipython-input-423-72c3c6abeb3a>:18: DeprecationWarning: NumPy will stop allowing conversion of out-of-bound Python integers to integer arrays.  The conversion of 444 to uint8 will fail in the future.\n",
            "For the old behavior, usually:\n",
            "    np.array(value).astype(dtype)\n",
            "will give the desired result (the cast overflows).\n",
            "  segmentation[y:y + height, x:x + width] = label\n",
            "<ipython-input-423-72c3c6abeb3a>:18: DeprecationWarning: NumPy will stop allowing conversion of out-of-bound Python integers to integer arrays.  The conversion of 445 to uint8 will fail in the future.\n",
            "For the old behavior, usually:\n",
            "    np.array(value).astype(dtype)\n",
            "will give the desired result (the cast overflows).\n",
            "  segmentation[y:y + height, x:x + width] = label\n",
            "<ipython-input-423-72c3c6abeb3a>:18: DeprecationWarning: NumPy will stop allowing conversion of out-of-bound Python integers to integer arrays.  The conversion of 446 to uint8 will fail in the future.\n",
            "For the old behavior, usually:\n",
            "    np.array(value).astype(dtype)\n",
            "will give the desired result (the cast overflows).\n",
            "  segmentation[y:y + height, x:x + width] = label\n",
            "<ipython-input-423-72c3c6abeb3a>:18: DeprecationWarning: NumPy will stop allowing conversion of out-of-bound Python integers to integer arrays.  The conversion of 447 to uint8 will fail in the future.\n",
            "For the old behavior, usually:\n",
            "    np.array(value).astype(dtype)\n",
            "will give the desired result (the cast overflows).\n",
            "  segmentation[y:y + height, x:x + width] = label\n",
            "<ipython-input-423-72c3c6abeb3a>:18: DeprecationWarning: NumPy will stop allowing conversion of out-of-bound Python integers to integer arrays.  The conversion of 448 to uint8 will fail in the future.\n",
            "For the old behavior, usually:\n",
            "    np.array(value).astype(dtype)\n",
            "will give the desired result (the cast overflows).\n",
            "  segmentation[y:y + height, x:x + width] = label\n",
            "<ipython-input-423-72c3c6abeb3a>:18: DeprecationWarning: NumPy will stop allowing conversion of out-of-bound Python integers to integer arrays.  The conversion of 449 to uint8 will fail in the future.\n",
            "For the old behavior, usually:\n",
            "    np.array(value).astype(dtype)\n",
            "will give the desired result (the cast overflows).\n",
            "  segmentation[y:y + height, x:x + width] = label\n",
            "<ipython-input-423-72c3c6abeb3a>:18: DeprecationWarning: NumPy will stop allowing conversion of out-of-bound Python integers to integer arrays.  The conversion of 450 to uint8 will fail in the future.\n",
            "For the old behavior, usually:\n",
            "    np.array(value).astype(dtype)\n",
            "will give the desired result (the cast overflows).\n",
            "  segmentation[y:y + height, x:x + width] = label\n",
            "<ipython-input-423-72c3c6abeb3a>:18: DeprecationWarning: NumPy will stop allowing conversion of out-of-bound Python integers to integer arrays.  The conversion of 451 to uint8 will fail in the future.\n",
            "For the old behavior, usually:\n",
            "    np.array(value).astype(dtype)\n",
            "will give the desired result (the cast overflows).\n",
            "  segmentation[y:y + height, x:x + width] = label\n",
            "<ipython-input-423-72c3c6abeb3a>:18: DeprecationWarning: NumPy will stop allowing conversion of out-of-bound Python integers to integer arrays.  The conversion of 452 to uint8 will fail in the future.\n",
            "For the old behavior, usually:\n",
            "    np.array(value).astype(dtype)\n",
            "will give the desired result (the cast overflows).\n",
            "  segmentation[y:y + height, x:x + width] = label\n",
            "<ipython-input-423-72c3c6abeb3a>:18: DeprecationWarning: NumPy will stop allowing conversion of out-of-bound Python integers to integer arrays.  The conversion of 453 to uint8 will fail in the future.\n",
            "For the old behavior, usually:\n",
            "    np.array(value).astype(dtype)\n",
            "will give the desired result (the cast overflows).\n",
            "  segmentation[y:y + height, x:x + width] = label\n",
            "<ipython-input-423-72c3c6abeb3a>:18: DeprecationWarning: NumPy will stop allowing conversion of out-of-bound Python integers to integer arrays.  The conversion of 454 to uint8 will fail in the future.\n",
            "For the old behavior, usually:\n",
            "    np.array(value).astype(dtype)\n",
            "will give the desired result (the cast overflows).\n",
            "  segmentation[y:y + height, x:x + width] = label\n",
            "<ipython-input-423-72c3c6abeb3a>:18: DeprecationWarning: NumPy will stop allowing conversion of out-of-bound Python integers to integer arrays.  The conversion of 455 to uint8 will fail in the future.\n",
            "For the old behavior, usually:\n",
            "    np.array(value).astype(dtype)\n",
            "will give the desired result (the cast overflows).\n",
            "  segmentation[y:y + height, x:x + width] = label\n",
            "<ipython-input-423-72c3c6abeb3a>:18: DeprecationWarning: NumPy will stop allowing conversion of out-of-bound Python integers to integer arrays.  The conversion of 456 to uint8 will fail in the future.\n",
            "For the old behavior, usually:\n",
            "    np.array(value).astype(dtype)\n",
            "will give the desired result (the cast overflows).\n",
            "  segmentation[y:y + height, x:x + width] = label\n",
            "<ipython-input-423-72c3c6abeb3a>:18: DeprecationWarning: NumPy will stop allowing conversion of out-of-bound Python integers to integer arrays.  The conversion of 457 to uint8 will fail in the future.\n",
            "For the old behavior, usually:\n",
            "    np.array(value).astype(dtype)\n",
            "will give the desired result (the cast overflows).\n",
            "  segmentation[y:y + height, x:x + width] = label\n",
            "<ipython-input-423-72c3c6abeb3a>:18: DeprecationWarning: NumPy will stop allowing conversion of out-of-bound Python integers to integer arrays.  The conversion of 458 to uint8 will fail in the future.\n",
            "For the old behavior, usually:\n",
            "    np.array(value).astype(dtype)\n",
            "will give the desired result (the cast overflows).\n",
            "  segmentation[y:y + height, x:x + width] = label\n",
            "<ipython-input-423-72c3c6abeb3a>:18: DeprecationWarning: NumPy will stop allowing conversion of out-of-bound Python integers to integer arrays.  The conversion of 459 to uint8 will fail in the future.\n",
            "For the old behavior, usually:\n",
            "    np.array(value).astype(dtype)\n",
            "will give the desired result (the cast overflows).\n",
            "  segmentation[y:y + height, x:x + width] = label\n",
            "<ipython-input-423-72c3c6abeb3a>:18: DeprecationWarning: NumPy will stop allowing conversion of out-of-bound Python integers to integer arrays.  The conversion of 460 to uint8 will fail in the future.\n",
            "For the old behavior, usually:\n",
            "    np.array(value).astype(dtype)\n",
            "will give the desired result (the cast overflows).\n",
            "  segmentation[y:y + height, x:x + width] = label\n",
            "<ipython-input-423-72c3c6abeb3a>:18: DeprecationWarning: NumPy will stop allowing conversion of out-of-bound Python integers to integer arrays.  The conversion of 461 to uint8 will fail in the future.\n",
            "For the old behavior, usually:\n",
            "    np.array(value).astype(dtype)\n",
            "will give the desired result (the cast overflows).\n",
            "  segmentation[y:y + height, x:x + width] = label\n",
            "<ipython-input-423-72c3c6abeb3a>:18: DeprecationWarning: NumPy will stop allowing conversion of out-of-bound Python integers to integer arrays.  The conversion of 462 to uint8 will fail in the future.\n",
            "For the old behavior, usually:\n",
            "    np.array(value).astype(dtype)\n",
            "will give the desired result (the cast overflows).\n",
            "  segmentation[y:y + height, x:x + width] = label\n",
            "<ipython-input-423-72c3c6abeb3a>:18: DeprecationWarning: NumPy will stop allowing conversion of out-of-bound Python integers to integer arrays.  The conversion of 463 to uint8 will fail in the future.\n",
            "For the old behavior, usually:\n",
            "    np.array(value).astype(dtype)\n",
            "will give the desired result (the cast overflows).\n",
            "  segmentation[y:y + height, x:x + width] = label\n",
            "<ipython-input-423-72c3c6abeb3a>:18: DeprecationWarning: NumPy will stop allowing conversion of out-of-bound Python integers to integer arrays.  The conversion of 464 to uint8 will fail in the future.\n",
            "For the old behavior, usually:\n",
            "    np.array(value).astype(dtype)\n",
            "will give the desired result (the cast overflows).\n",
            "  segmentation[y:y + height, x:x + width] = label\n",
            "<ipython-input-423-72c3c6abeb3a>:18: DeprecationWarning: NumPy will stop allowing conversion of out-of-bound Python integers to integer arrays.  The conversion of 465 to uint8 will fail in the future.\n",
            "For the old behavior, usually:\n",
            "    np.array(value).astype(dtype)\n",
            "will give the desired result (the cast overflows).\n",
            "  segmentation[y:y + height, x:x + width] = label\n",
            "<ipython-input-423-72c3c6abeb3a>:18: DeprecationWarning: NumPy will stop allowing conversion of out-of-bound Python integers to integer arrays.  The conversion of 466 to uint8 will fail in the future.\n",
            "For the old behavior, usually:\n",
            "    np.array(value).astype(dtype)\n",
            "will give the desired result (the cast overflows).\n",
            "  segmentation[y:y + height, x:x + width] = label\n",
            "<ipython-input-423-72c3c6abeb3a>:18: DeprecationWarning: NumPy will stop allowing conversion of out-of-bound Python integers to integer arrays.  The conversion of 467 to uint8 will fail in the future.\n",
            "For the old behavior, usually:\n",
            "    np.array(value).astype(dtype)\n",
            "will give the desired result (the cast overflows).\n",
            "  segmentation[y:y + height, x:x + width] = label\n",
            "<ipython-input-423-72c3c6abeb3a>:18: DeprecationWarning: NumPy will stop allowing conversion of out-of-bound Python integers to integer arrays.  The conversion of 468 to uint8 will fail in the future.\n",
            "For the old behavior, usually:\n",
            "    np.array(value).astype(dtype)\n",
            "will give the desired result (the cast overflows).\n",
            "  segmentation[y:y + height, x:x + width] = label\n",
            "<ipython-input-423-72c3c6abeb3a>:18: DeprecationWarning: NumPy will stop allowing conversion of out-of-bound Python integers to integer arrays.  The conversion of 469 to uint8 will fail in the future.\n",
            "For the old behavior, usually:\n",
            "    np.array(value).astype(dtype)\n",
            "will give the desired result (the cast overflows).\n",
            "  segmentation[y:y + height, x:x + width] = label\n",
            "<ipython-input-423-72c3c6abeb3a>:18: DeprecationWarning: NumPy will stop allowing conversion of out-of-bound Python integers to integer arrays.  The conversion of 470 to uint8 will fail in the future.\n",
            "For the old behavior, usually:\n",
            "    np.array(value).astype(dtype)\n",
            "will give the desired result (the cast overflows).\n",
            "  segmentation[y:y + height, x:x + width] = label\n",
            "<ipython-input-423-72c3c6abeb3a>:18: DeprecationWarning: NumPy will stop allowing conversion of out-of-bound Python integers to integer arrays.  The conversion of 471 to uint8 will fail in the future.\n",
            "For the old behavior, usually:\n",
            "    np.array(value).astype(dtype)\n",
            "will give the desired result (the cast overflows).\n",
            "  segmentation[y:y + height, x:x + width] = label\n",
            "<ipython-input-423-72c3c6abeb3a>:18: DeprecationWarning: NumPy will stop allowing conversion of out-of-bound Python integers to integer arrays.  The conversion of 472 to uint8 will fail in the future.\n",
            "For the old behavior, usually:\n",
            "    np.array(value).astype(dtype)\n",
            "will give the desired result (the cast overflows).\n",
            "  segmentation[y:y + height, x:x + width] = label\n",
            "<ipython-input-423-72c3c6abeb3a>:18: DeprecationWarning: NumPy will stop allowing conversion of out-of-bound Python integers to integer arrays.  The conversion of 473 to uint8 will fail in the future.\n",
            "For the old behavior, usually:\n",
            "    np.array(value).astype(dtype)\n",
            "will give the desired result (the cast overflows).\n",
            "  segmentation[y:y + height, x:x + width] = label\n",
            "<ipython-input-423-72c3c6abeb3a>:18: DeprecationWarning: NumPy will stop allowing conversion of out-of-bound Python integers to integer arrays.  The conversion of 474 to uint8 will fail in the future.\n",
            "For the old behavior, usually:\n",
            "    np.array(value).astype(dtype)\n",
            "will give the desired result (the cast overflows).\n",
            "  segmentation[y:y + height, x:x + width] = label\n",
            "<ipython-input-423-72c3c6abeb3a>:18: DeprecationWarning: NumPy will stop allowing conversion of out-of-bound Python integers to integer arrays.  The conversion of 475 to uint8 will fail in the future.\n",
            "For the old behavior, usually:\n",
            "    np.array(value).astype(dtype)\n",
            "will give the desired result (the cast overflows).\n",
            "  segmentation[y:y + height, x:x + width] = label\n",
            "<ipython-input-423-72c3c6abeb3a>:18: DeprecationWarning: NumPy will stop allowing conversion of out-of-bound Python integers to integer arrays.  The conversion of 476 to uint8 will fail in the future.\n",
            "For the old behavior, usually:\n",
            "    np.array(value).astype(dtype)\n",
            "will give the desired result (the cast overflows).\n",
            "  segmentation[y:y + height, x:x + width] = label\n",
            "<ipython-input-423-72c3c6abeb3a>:18: DeprecationWarning: NumPy will stop allowing conversion of out-of-bound Python integers to integer arrays.  The conversion of 477 to uint8 will fail in the future.\n",
            "For the old behavior, usually:\n",
            "    np.array(value).astype(dtype)\n",
            "will give the desired result (the cast overflows).\n",
            "  segmentation[y:y + height, x:x + width] = label\n",
            "<ipython-input-423-72c3c6abeb3a>:18: DeprecationWarning: NumPy will stop allowing conversion of out-of-bound Python integers to integer arrays.  The conversion of 478 to uint8 will fail in the future.\n",
            "For the old behavior, usually:\n",
            "    np.array(value).astype(dtype)\n",
            "will give the desired result (the cast overflows).\n",
            "  segmentation[y:y + height, x:x + width] = label\n",
            "<ipython-input-423-72c3c6abeb3a>:18: DeprecationWarning: NumPy will stop allowing conversion of out-of-bound Python integers to integer arrays.  The conversion of 479 to uint8 will fail in the future.\n",
            "For the old behavior, usually:\n",
            "    np.array(value).astype(dtype)\n",
            "will give the desired result (the cast overflows).\n",
            "  segmentation[y:y + height, x:x + width] = label\n",
            "<ipython-input-423-72c3c6abeb3a>:18: DeprecationWarning: NumPy will stop allowing conversion of out-of-bound Python integers to integer arrays.  The conversion of 480 to uint8 will fail in the future.\n",
            "For the old behavior, usually:\n",
            "    np.array(value).astype(dtype)\n",
            "will give the desired result (the cast overflows).\n",
            "  segmentation[y:y + height, x:x + width] = label\n",
            "<ipython-input-423-72c3c6abeb3a>:18: DeprecationWarning: NumPy will stop allowing conversion of out-of-bound Python integers to integer arrays.  The conversion of 481 to uint8 will fail in the future.\n",
            "For the old behavior, usually:\n",
            "    np.array(value).astype(dtype)\n",
            "will give the desired result (the cast overflows).\n",
            "  segmentation[y:y + height, x:x + width] = label\n",
            "<ipython-input-423-72c3c6abeb3a>:18: DeprecationWarning: NumPy will stop allowing conversion of out-of-bound Python integers to integer arrays.  The conversion of 482 to uint8 will fail in the future.\n",
            "For the old behavior, usually:\n",
            "    np.array(value).astype(dtype)\n",
            "will give the desired result (the cast overflows).\n",
            "  segmentation[y:y + height, x:x + width] = label\n",
            "<ipython-input-423-72c3c6abeb3a>:18: DeprecationWarning: NumPy will stop allowing conversion of out-of-bound Python integers to integer arrays.  The conversion of 483 to uint8 will fail in the future.\n",
            "For the old behavior, usually:\n",
            "    np.array(value).astype(dtype)\n",
            "will give the desired result (the cast overflows).\n",
            "  segmentation[y:y + height, x:x + width] = label\n",
            "<ipython-input-423-72c3c6abeb3a>:18: DeprecationWarning: NumPy will stop allowing conversion of out-of-bound Python integers to integer arrays.  The conversion of 484 to uint8 will fail in the future.\n",
            "For the old behavior, usually:\n",
            "    np.array(value).astype(dtype)\n",
            "will give the desired result (the cast overflows).\n",
            "  segmentation[y:y + height, x:x + width] = label\n",
            "<ipython-input-423-72c3c6abeb3a>:18: DeprecationWarning: NumPy will stop allowing conversion of out-of-bound Python integers to integer arrays.  The conversion of 485 to uint8 will fail in the future.\n",
            "For the old behavior, usually:\n",
            "    np.array(value).astype(dtype)\n",
            "will give the desired result (the cast overflows).\n",
            "  segmentation[y:y + height, x:x + width] = label\n",
            "<ipython-input-423-72c3c6abeb3a>:18: DeprecationWarning: NumPy will stop allowing conversion of out-of-bound Python integers to integer arrays.  The conversion of 486 to uint8 will fail in the future.\n",
            "For the old behavior, usually:\n",
            "    np.array(value).astype(dtype)\n",
            "will give the desired result (the cast overflows).\n",
            "  segmentation[y:y + height, x:x + width] = label\n",
            "<ipython-input-423-72c3c6abeb3a>:18: DeprecationWarning: NumPy will stop allowing conversion of out-of-bound Python integers to integer arrays.  The conversion of 487 to uint8 will fail in the future.\n",
            "For the old behavior, usually:\n",
            "    np.array(value).astype(dtype)\n",
            "will give the desired result (the cast overflows).\n",
            "  segmentation[y:y + height, x:x + width] = label\n",
            "<ipython-input-423-72c3c6abeb3a>:18: DeprecationWarning: NumPy will stop allowing conversion of out-of-bound Python integers to integer arrays.  The conversion of 488 to uint8 will fail in the future.\n",
            "For the old behavior, usually:\n",
            "    np.array(value).astype(dtype)\n",
            "will give the desired result (the cast overflows).\n",
            "  segmentation[y:y + height, x:x + width] = label\n",
            "<ipython-input-423-72c3c6abeb3a>:18: DeprecationWarning: NumPy will stop allowing conversion of out-of-bound Python integers to integer arrays.  The conversion of 489 to uint8 will fail in the future.\n",
            "For the old behavior, usually:\n",
            "    np.array(value).astype(dtype)\n",
            "will give the desired result (the cast overflows).\n",
            "  segmentation[y:y + height, x:x + width] = label\n",
            "<ipython-input-423-72c3c6abeb3a>:18: DeprecationWarning: NumPy will stop allowing conversion of out-of-bound Python integers to integer arrays.  The conversion of 490 to uint8 will fail in the future.\n",
            "For the old behavior, usually:\n",
            "    np.array(value).astype(dtype)\n",
            "will give the desired result (the cast overflows).\n",
            "  segmentation[y:y + height, x:x + width] = label\n",
            "<ipython-input-423-72c3c6abeb3a>:18: DeprecationWarning: NumPy will stop allowing conversion of out-of-bound Python integers to integer arrays.  The conversion of 491 to uint8 will fail in the future.\n",
            "For the old behavior, usually:\n",
            "    np.array(value).astype(dtype)\n",
            "will give the desired result (the cast overflows).\n",
            "  segmentation[y:y + height, x:x + width] = label\n",
            "<ipython-input-423-72c3c6abeb3a>:18: DeprecationWarning: NumPy will stop allowing conversion of out-of-bound Python integers to integer arrays.  The conversion of 492 to uint8 will fail in the future.\n",
            "For the old behavior, usually:\n",
            "    np.array(value).astype(dtype)\n",
            "will give the desired result (the cast overflows).\n",
            "  segmentation[y:y + height, x:x + width] = label\n",
            "<ipython-input-423-72c3c6abeb3a>:18: DeprecationWarning: NumPy will stop allowing conversion of out-of-bound Python integers to integer arrays.  The conversion of 493 to uint8 will fail in the future.\n",
            "For the old behavior, usually:\n",
            "    np.array(value).astype(dtype)\n",
            "will give the desired result (the cast overflows).\n",
            "  segmentation[y:y + height, x:x + width] = label\n",
            "<ipython-input-423-72c3c6abeb3a>:18: DeprecationWarning: NumPy will stop allowing conversion of out-of-bound Python integers to integer arrays.  The conversion of 494 to uint8 will fail in the future.\n",
            "For the old behavior, usually:\n",
            "    np.array(value).astype(dtype)\n",
            "will give the desired result (the cast overflows).\n",
            "  segmentation[y:y + height, x:x + width] = label\n",
            "<ipython-input-423-72c3c6abeb3a>:18: DeprecationWarning: NumPy will stop allowing conversion of out-of-bound Python integers to integer arrays.  The conversion of 495 to uint8 will fail in the future.\n",
            "For the old behavior, usually:\n",
            "    np.array(value).astype(dtype)\n",
            "will give the desired result (the cast overflows).\n",
            "  segmentation[y:y + height, x:x + width] = label\n",
            "<ipython-input-423-72c3c6abeb3a>:18: DeprecationWarning: NumPy will stop allowing conversion of out-of-bound Python integers to integer arrays.  The conversion of 496 to uint8 will fail in the future.\n",
            "For the old behavior, usually:\n",
            "    np.array(value).astype(dtype)\n",
            "will give the desired result (the cast overflows).\n",
            "  segmentation[y:y + height, x:x + width] = label\n",
            "<ipython-input-423-72c3c6abeb3a>:18: DeprecationWarning: NumPy will stop allowing conversion of out-of-bound Python integers to integer arrays.  The conversion of 497 to uint8 will fail in the future.\n",
            "For the old behavior, usually:\n",
            "    np.array(value).astype(dtype)\n",
            "will give the desired result (the cast overflows).\n",
            "  segmentation[y:y + height, x:x + width] = label\n",
            "<ipython-input-423-72c3c6abeb3a>:18: DeprecationWarning: NumPy will stop allowing conversion of out-of-bound Python integers to integer arrays.  The conversion of 498 to uint8 will fail in the future.\n",
            "For the old behavior, usually:\n",
            "    np.array(value).astype(dtype)\n",
            "will give the desired result (the cast overflows).\n",
            "  segmentation[y:y + height, x:x + width] = label\n",
            "<ipython-input-423-72c3c6abeb3a>:18: DeprecationWarning: NumPy will stop allowing conversion of out-of-bound Python integers to integer arrays.  The conversion of 499 to uint8 will fail in the future.\n",
            "For the old behavior, usually:\n",
            "    np.array(value).astype(dtype)\n",
            "will give the desired result (the cast overflows).\n",
            "  segmentation[y:y + height, x:x + width] = label\n",
            "<ipython-input-423-72c3c6abeb3a>:18: DeprecationWarning: NumPy will stop allowing conversion of out-of-bound Python integers to integer arrays.  The conversion of 500 to uint8 will fail in the future.\n",
            "For the old behavior, usually:\n",
            "    np.array(value).astype(dtype)\n",
            "will give the desired result (the cast overflows).\n",
            "  segmentation[y:y + height, x:x + width] = label\n",
            "<ipython-input-423-72c3c6abeb3a>:18: DeprecationWarning: NumPy will stop allowing conversion of out-of-bound Python integers to integer arrays.  The conversion of 501 to uint8 will fail in the future.\n",
            "For the old behavior, usually:\n",
            "    np.array(value).astype(dtype)\n",
            "will give the desired result (the cast overflows).\n",
            "  segmentation[y:y + height, x:x + width] = label\n",
            "<ipython-input-423-72c3c6abeb3a>:18: DeprecationWarning: NumPy will stop allowing conversion of out-of-bound Python integers to integer arrays.  The conversion of 502 to uint8 will fail in the future.\n",
            "For the old behavior, usually:\n",
            "    np.array(value).astype(dtype)\n",
            "will give the desired result (the cast overflows).\n",
            "  segmentation[y:y + height, x:x + width] = label\n",
            "<ipython-input-423-72c3c6abeb3a>:18: DeprecationWarning: NumPy will stop allowing conversion of out-of-bound Python integers to integer arrays.  The conversion of 503 to uint8 will fail in the future.\n",
            "For the old behavior, usually:\n",
            "    np.array(value).astype(dtype)\n",
            "will give the desired result (the cast overflows).\n",
            "  segmentation[y:y + height, x:x + width] = label\n",
            "<ipython-input-423-72c3c6abeb3a>:18: DeprecationWarning: NumPy will stop allowing conversion of out-of-bound Python integers to integer arrays.  The conversion of 504 to uint8 will fail in the future.\n",
            "For the old behavior, usually:\n",
            "    np.array(value).astype(dtype)\n",
            "will give the desired result (the cast overflows).\n",
            "  segmentation[y:y + height, x:x + width] = label\n",
            "<ipython-input-423-72c3c6abeb3a>:18: DeprecationWarning: NumPy will stop allowing conversion of out-of-bound Python integers to integer arrays.  The conversion of 505 to uint8 will fail in the future.\n",
            "For the old behavior, usually:\n",
            "    np.array(value).astype(dtype)\n",
            "will give the desired result (the cast overflows).\n",
            "  segmentation[y:y + height, x:x + width] = label\n",
            "<ipython-input-423-72c3c6abeb3a>:18: DeprecationWarning: NumPy will stop allowing conversion of out-of-bound Python integers to integer arrays.  The conversion of 506 to uint8 will fail in the future.\n",
            "For the old behavior, usually:\n",
            "    np.array(value).astype(dtype)\n",
            "will give the desired result (the cast overflows).\n",
            "  segmentation[y:y + height, x:x + width] = label\n",
            "<ipython-input-423-72c3c6abeb3a>:18: DeprecationWarning: NumPy will stop allowing conversion of out-of-bound Python integers to integer arrays.  The conversion of 507 to uint8 will fail in the future.\n",
            "For the old behavior, usually:\n",
            "    np.array(value).astype(dtype)\n",
            "will give the desired result (the cast overflows).\n",
            "  segmentation[y:y + height, x:x + width] = label\n",
            "<ipython-input-423-72c3c6abeb3a>:18: DeprecationWarning: NumPy will stop allowing conversion of out-of-bound Python integers to integer arrays.  The conversion of 508 to uint8 will fail in the future.\n",
            "For the old behavior, usually:\n",
            "    np.array(value).astype(dtype)\n",
            "will give the desired result (the cast overflows).\n",
            "  segmentation[y:y + height, x:x + width] = label\n",
            "<ipython-input-423-72c3c6abeb3a>:18: DeprecationWarning: NumPy will stop allowing conversion of out-of-bound Python integers to integer arrays.  The conversion of 509 to uint8 will fail in the future.\n",
            "For the old behavior, usually:\n",
            "    np.array(value).astype(dtype)\n",
            "will give the desired result (the cast overflows).\n",
            "  segmentation[y:y + height, x:x + width] = label\n",
            "<ipython-input-423-72c3c6abeb3a>:18: DeprecationWarning: NumPy will stop allowing conversion of out-of-bound Python integers to integer arrays.  The conversion of 510 to uint8 will fail in the future.\n",
            "For the old behavior, usually:\n",
            "    np.array(value).astype(dtype)\n",
            "will give the desired result (the cast overflows).\n",
            "  segmentation[y:y + height, x:x + width] = label\n",
            "<ipython-input-423-72c3c6abeb3a>:18: DeprecationWarning: NumPy will stop allowing conversion of out-of-bound Python integers to integer arrays.  The conversion of 511 to uint8 will fail in the future.\n",
            "For the old behavior, usually:\n",
            "    np.array(value).astype(dtype)\n",
            "will give the desired result (the cast overflows).\n",
            "  segmentation[y:y + height, x:x + width] = label\n",
            "<ipython-input-423-72c3c6abeb3a>:18: DeprecationWarning: NumPy will stop allowing conversion of out-of-bound Python integers to integer arrays.  The conversion of 512 to uint8 will fail in the future.\n",
            "For the old behavior, usually:\n",
            "    np.array(value).astype(dtype)\n",
            "will give the desired result (the cast overflows).\n",
            "  segmentation[y:y + height, x:x + width] = label\n",
            "<ipython-input-423-72c3c6abeb3a>:18: DeprecationWarning: NumPy will stop allowing conversion of out-of-bound Python integers to integer arrays.  The conversion of 513 to uint8 will fail in the future.\n",
            "For the old behavior, usually:\n",
            "    np.array(value).astype(dtype)\n",
            "will give the desired result (the cast overflows).\n",
            "  segmentation[y:y + height, x:x + width] = label\n",
            "<ipython-input-423-72c3c6abeb3a>:18: DeprecationWarning: NumPy will stop allowing conversion of out-of-bound Python integers to integer arrays.  The conversion of 514 to uint8 will fail in the future.\n",
            "For the old behavior, usually:\n",
            "    np.array(value).astype(dtype)\n",
            "will give the desired result (the cast overflows).\n",
            "  segmentation[y:y + height, x:x + width] = label\n",
            "<ipython-input-423-72c3c6abeb3a>:18: DeprecationWarning: NumPy will stop allowing conversion of out-of-bound Python integers to integer arrays.  The conversion of 515 to uint8 will fail in the future.\n",
            "For the old behavior, usually:\n",
            "    np.array(value).astype(dtype)\n",
            "will give the desired result (the cast overflows).\n",
            "  segmentation[y:y + height, x:x + width] = label\n",
            "<ipython-input-423-72c3c6abeb3a>:18: DeprecationWarning: NumPy will stop allowing conversion of out-of-bound Python integers to integer arrays.  The conversion of 516 to uint8 will fail in the future.\n",
            "For the old behavior, usually:\n",
            "    np.array(value).astype(dtype)\n",
            "will give the desired result (the cast overflows).\n",
            "  segmentation[y:y + height, x:x + width] = label\n",
            "<ipython-input-423-72c3c6abeb3a>:18: DeprecationWarning: NumPy will stop allowing conversion of out-of-bound Python integers to integer arrays.  The conversion of 517 to uint8 will fail in the future.\n",
            "For the old behavior, usually:\n",
            "    np.array(value).astype(dtype)\n",
            "will give the desired result (the cast overflows).\n",
            "  segmentation[y:y + height, x:x + width] = label\n",
            "<ipython-input-423-72c3c6abeb3a>:18: DeprecationWarning: NumPy will stop allowing conversion of out-of-bound Python integers to integer arrays.  The conversion of 518 to uint8 will fail in the future.\n",
            "For the old behavior, usually:\n",
            "    np.array(value).astype(dtype)\n",
            "will give the desired result (the cast overflows).\n",
            "  segmentation[y:y + height, x:x + width] = label\n",
            "<ipython-input-423-72c3c6abeb3a>:18: DeprecationWarning: NumPy will stop allowing conversion of out-of-bound Python integers to integer arrays.  The conversion of 519 to uint8 will fail in the future.\n",
            "For the old behavior, usually:\n",
            "    np.array(value).astype(dtype)\n",
            "will give the desired result (the cast overflows).\n",
            "  segmentation[y:y + height, x:x + width] = label\n",
            "<ipython-input-423-72c3c6abeb3a>:18: DeprecationWarning: NumPy will stop allowing conversion of out-of-bound Python integers to integer arrays.  The conversion of 520 to uint8 will fail in the future.\n",
            "For the old behavior, usually:\n",
            "    np.array(value).astype(dtype)\n",
            "will give the desired result (the cast overflows).\n",
            "  segmentation[y:y + height, x:x + width] = label\n",
            "<ipython-input-423-72c3c6abeb3a>:18: DeprecationWarning: NumPy will stop allowing conversion of out-of-bound Python integers to integer arrays.  The conversion of 521 to uint8 will fail in the future.\n",
            "For the old behavior, usually:\n",
            "    np.array(value).astype(dtype)\n",
            "will give the desired result (the cast overflows).\n",
            "  segmentation[y:y + height, x:x + width] = label\n",
            "<ipython-input-423-72c3c6abeb3a>:18: DeprecationWarning: NumPy will stop allowing conversion of out-of-bound Python integers to integer arrays.  The conversion of 522 to uint8 will fail in the future.\n",
            "For the old behavior, usually:\n",
            "    np.array(value).astype(dtype)\n",
            "will give the desired result (the cast overflows).\n",
            "  segmentation[y:y + height, x:x + width] = label\n",
            "<ipython-input-423-72c3c6abeb3a>:18: DeprecationWarning: NumPy will stop allowing conversion of out-of-bound Python integers to integer arrays.  The conversion of 523 to uint8 will fail in the future.\n",
            "For the old behavior, usually:\n",
            "    np.array(value).astype(dtype)\n",
            "will give the desired result (the cast overflows).\n",
            "  segmentation[y:y + height, x:x + width] = label\n",
            "<ipython-input-423-72c3c6abeb3a>:18: DeprecationWarning: NumPy will stop allowing conversion of out-of-bound Python integers to integer arrays.  The conversion of 524 to uint8 will fail in the future.\n",
            "For the old behavior, usually:\n",
            "    np.array(value).astype(dtype)\n",
            "will give the desired result (the cast overflows).\n",
            "  segmentation[y:y + height, x:x + width] = label\n",
            "<ipython-input-423-72c3c6abeb3a>:18: DeprecationWarning: NumPy will stop allowing conversion of out-of-bound Python integers to integer arrays.  The conversion of 525 to uint8 will fail in the future.\n",
            "For the old behavior, usually:\n",
            "    np.array(value).astype(dtype)\n",
            "will give the desired result (the cast overflows).\n",
            "  segmentation[y:y + height, x:x + width] = label\n",
            "<ipython-input-423-72c3c6abeb3a>:18: DeprecationWarning: NumPy will stop allowing conversion of out-of-bound Python integers to integer arrays.  The conversion of 526 to uint8 will fail in the future.\n",
            "For the old behavior, usually:\n",
            "    np.array(value).astype(dtype)\n",
            "will give the desired result (the cast overflows).\n",
            "  segmentation[y:y + height, x:x + width] = label\n",
            "<ipython-input-423-72c3c6abeb3a>:18: DeprecationWarning: NumPy will stop allowing conversion of out-of-bound Python integers to integer arrays.  The conversion of 527 to uint8 will fail in the future.\n",
            "For the old behavior, usually:\n",
            "    np.array(value).astype(dtype)\n",
            "will give the desired result (the cast overflows).\n",
            "  segmentation[y:y + height, x:x + width] = label\n",
            "<ipython-input-423-72c3c6abeb3a>:18: DeprecationWarning: NumPy will stop allowing conversion of out-of-bound Python integers to integer arrays.  The conversion of 528 to uint8 will fail in the future.\n",
            "For the old behavior, usually:\n",
            "    np.array(value).astype(dtype)\n",
            "will give the desired result (the cast overflows).\n",
            "  segmentation[y:y + height, x:x + width] = label\n",
            "<ipython-input-423-72c3c6abeb3a>:18: DeprecationWarning: NumPy will stop allowing conversion of out-of-bound Python integers to integer arrays.  The conversion of 529 to uint8 will fail in the future.\n",
            "For the old behavior, usually:\n",
            "    np.array(value).astype(dtype)\n",
            "will give the desired result (the cast overflows).\n",
            "  segmentation[y:y + height, x:x + width] = label\n"
          ]
        },
        {
          "output_type": "error",
          "ename": "ValueError",
          "evalue": "The truth value of an array with more than one element is ambiguous. Use a.any() or a.all()",
          "traceback": [
            "\u001b[0;31m---------------------------------------------------------------------------\u001b[0m",
            "\u001b[0;31mValueError\u001b[0m                                Traceback (most recent call last)",
            "\u001b[0;32m<ipython-input-425-87acbff28dda>\u001b[0m in \u001b[0;36m<cell line: 1>\u001b[0;34m()\u001b[0m\n\u001b[0;32m----> 1\u001b[0;31m \u001b[0mimg1\u001b[0m\u001b[0;34m,\u001b[0m\u001b[0mquadtree_split_merge\u001b[0m\u001b[0;34m(\u001b[0m\u001b[0mimg1\u001b[0m\u001b[0;34m,\u001b[0m\u001b[0;36m10\u001b[0m\u001b[0;34m)\u001b[0m\u001b[0;34m\u001b[0m\u001b[0;34m\u001b[0m\u001b[0m\n\u001b[0m",
            "\u001b[0;32m<ipython-input-423-72c3c6abeb3a>\u001b[0m in \u001b[0;36mquadtree_split_merge\u001b[0;34m(img, threshold)\u001b[0m\n\u001b[1;32m     45\u001b[0m                     \u001b[0msegmentation\u001b[0m\u001b[0;34m[\u001b[0m\u001b[0msegmentation\u001b[0m \u001b[0;34m==\u001b[0m \u001b[0mcurrent_label\u001b[0m\u001b[0;34m]\u001b[0m \u001b[0;34m=\u001b[0m \u001b[0mnp\u001b[0m\u001b[0;34m.\u001b[0m\u001b[0mmean\u001b[0m\u001b[0;34m(\u001b[0m\u001b[0mneighbors\u001b[0m\u001b[0;34m)\u001b[0m\u001b[0;34m\u001b[0m\u001b[0;34m\u001b[0m\u001b[0m\n\u001b[1;32m     46\u001b[0m \u001b[0;34m\u001b[0m\u001b[0m\n\u001b[0;32m---> 47\u001b[0;31m     \u001b[0mmerge\u001b[0m\u001b[0;34m(\u001b[0m\u001b[0;34m)\u001b[0m\u001b[0;34m\u001b[0m\u001b[0;34m\u001b[0m\u001b[0m\n\u001b[0m\u001b[1;32m     48\u001b[0m     \u001b[0;32mreturn\u001b[0m \u001b[0msegmentation\u001b[0m\u001b[0;34m\u001b[0m\u001b[0;34m\u001b[0m\u001b[0m\n",
            "\u001b[0;32m<ipython-input-423-72c3c6abeb3a>\u001b[0m in \u001b[0;36mmerge\u001b[0;34m()\u001b[0m\n\u001b[1;32m     42\u001b[0m                 \u001b[0mcurrent_label\u001b[0m \u001b[0;34m=\u001b[0m \u001b[0msegmentation\u001b[0m\u001b[0;34m[\u001b[0m\u001b[0my\u001b[0m\u001b[0;34m,\u001b[0m \u001b[0mx\u001b[0m\u001b[0;34m]\u001b[0m\u001b[0;34m\u001b[0m\u001b[0;34m\u001b[0m\u001b[0m\n\u001b[1;32m     43\u001b[0m                 \u001b[0mmean_neighbors\u001b[0m \u001b[0;34m=\u001b[0m \u001b[0mnp\u001b[0m\u001b[0;34m.\u001b[0m\u001b[0mmean\u001b[0m\u001b[0;34m(\u001b[0m\u001b[0;34m[\u001b[0m\u001b[0mimg\u001b[0m\u001b[0;34m[\u001b[0m\u001b[0msegmentation\u001b[0m \u001b[0;34m==\u001b[0m \u001b[0mn\u001b[0m\u001b[0;34m]\u001b[0m \u001b[0;32mfor\u001b[0m \u001b[0mn\u001b[0m \u001b[0;32min\u001b[0m \u001b[0mneighbors\u001b[0m \u001b[0;32mif\u001b[0m \u001b[0mn\u001b[0m \u001b[0;34m!=\u001b[0m \u001b[0mcurrent_label\u001b[0m\u001b[0;34m]\u001b[0m\u001b[0;34m)\u001b[0m\u001b[0;34m\u001b[0m\u001b[0;34m\u001b[0m\u001b[0m\n\u001b[0;32m---> 44\u001b[0;31m                 \u001b[0;32mif\u001b[0m \u001b[0mnp\u001b[0m\u001b[0;34m.\u001b[0m\u001b[0mabs\u001b[0m\u001b[0;34m(\u001b[0m\u001b[0mimg\u001b[0m\u001b[0;34m[\u001b[0m\u001b[0msegmentation\u001b[0m \u001b[0;34m==\u001b[0m \u001b[0mcurrent_label\u001b[0m\u001b[0;34m]\u001b[0m \u001b[0;34m-\u001b[0m \u001b[0mmean_neighbors\u001b[0m\u001b[0;34m)\u001b[0m \u001b[0;34m<\u001b[0m \u001b[0mthreshold\u001b[0m\u001b[0;34m:\u001b[0m\u001b[0;34m\u001b[0m\u001b[0;34m\u001b[0m\u001b[0m\n\u001b[0m\u001b[1;32m     45\u001b[0m                     \u001b[0msegmentation\u001b[0m\u001b[0;34m[\u001b[0m\u001b[0msegmentation\u001b[0m \u001b[0;34m==\u001b[0m \u001b[0mcurrent_label\u001b[0m\u001b[0;34m]\u001b[0m \u001b[0;34m=\u001b[0m \u001b[0mnp\u001b[0m\u001b[0;34m.\u001b[0m\u001b[0mmean\u001b[0m\u001b[0;34m(\u001b[0m\u001b[0mneighbors\u001b[0m\u001b[0;34m)\u001b[0m\u001b[0;34m\u001b[0m\u001b[0;34m\u001b[0m\u001b[0m\n\u001b[1;32m     46\u001b[0m \u001b[0;34m\u001b[0m\u001b[0m\n",
            "\u001b[0;31mValueError\u001b[0m: The truth value of an array with more than one element is ambiguous. Use a.any() or a.all()"
          ]
        }
      ]
    },
    {
      "cell_type": "code",
      "source": [
        "import numpy as np\n",
        "import matplotlib.pyplot as plt\n",
        "from PIL import Image\n",
        "\n",
        "def butterworth_filter(shape, cutoff, order, filter_type='low'):\n",
        "    \"\"\"\n",
        "    Generate a Butterworth filter.\n",
        "\n",
        "    :param shape: Tuple (height, width) of the filter\n",
        "    :param cutoff: Cutoff frequency (D0)\n",
        "    :param order: Order of the filter (n)\n",
        "    :param filter_type: Type of filter ('low' or 'high')\n",
        "    :return: Butterworth filter as a 2D array\n",
        "    \"\"\"\n",
        "    rows, cols = shape\n",
        "    center_row, center_col = rows // 2, cols // 2\n",
        "\n",
        "    # Create a grid of distances\n",
        "    x = np.arange(cols)\n",
        "    y = np.arange(rows)\n",
        "    X, Y = np.meshgrid(x - center_col, y - center_row)\n",
        "    distance = np.sqrt(X**2 + Y**2)\n",
        "\n",
        "    # Butterworth filter equation\n",
        "    if filter_type == 'low':\n",
        "        filter_array = 1 / (1 + (distance / cutoff)**(2 * order))\n",
        "    elif filter_type == 'high':\n",
        "        filter_array = 1 / (1 + (cutoff / distance)**(2 * order))\n",
        "        filter_array[center_row, center_col] = 0  # Avoid division by zero at the center\n",
        "    else:\n",
        "        raise ValueError(\"filter_type must be 'low' or 'high'\")\n",
        "\n",
        "    return filter_array\n",
        "\n",
        "def apply_filter(img, filter_array):\n",
        "    \"\"\"\n",
        "    Apply a filter to an image in the frequency domain.\n",
        "\n",
        "    :param img: Input image as a 2D array\n",
        "    :param filter_array: Filter in the frequency domain\n",
        "    :return: Filtered image\n",
        "    \"\"\"\n",
        "    # Perform Fourier Transform\n",
        "    fft_img = np.fft.fft2(img)\n",
        "    fft_img_shifted = np.fft.fftshift(fft_img)\n",
        "\n",
        "    # Apply the filter\n",
        "    filtered_fft = fft_img_shifted * filter_array\n",
        "\n",
        "    # Perform Inverse Fourier Transform\n",
        "    filtered_fft_shifted = np.fft.ifftshift(filtered_fft)\n",
        "    filtered_img = np.fft.ifft2(filtered_fft_shifted)\n",
        "\n",
        "    # Take the real part of the inverse FFT\n",
        "    filtered_img = np.abs(filtered_img)\n",
        "    return filtered_img\n",
        "\n",
        "# Example usage\n",
        "if __name__ == \"__main__\":\n",
        "    # Load an image as grayscale using PIL\n",
        "    img = Image.open('your_image.jpg').convert('L')\n",
        "    img_array = np.array(img)\n",
        "\n",
        "    # Generate a Butterworth low-pass filter\n",
        "    shape = img_array.shape\n",
        "    cutoff = 30  # Adjust the cutoff frequency\n",
        "    order = 2    # Adjust the order\n",
        "    butterworth_low = butterworth_filter(shape, cutoff, order, 'low')\n",
        "\n",
        "    # Apply the Butterworth filter\n",
        "    filtered_img = apply_filter(img_array, butterworth_low)\n",
        "\n",
        "    # Display results\n",
        "    fig, axs = plt.subplots(1, 3, figsize=(15, 5))\n",
        "    axs[0].imshow(img_array, cmap='gray')\n",
        "    axs[0].set_title('Original Image')\n",
        "    axs[0].axis('off')\n",
        "\n",
        "    axs[1].imshow(butterworth_low, cmap='gray')\n",
        "    axs[1].set_title('Butterworth Low-Pass Filter')\n",
        "    axs[1].axis('off')\n",
        "\n",
        "    axs[2].imshow(filtered_img, cmap='gray')\n",
        "    axs[2].set_title('Filtered Image')\n",
        "    axs[2].axis('off')\n",
        "\n",
        "    plt.show()\n"
      ],
      "metadata": {
        "id": "z2e8gGSdTU4L"
      },
      "execution_count": null,
      "outputs": []
    },
    {
      "cell_type": "code",
      "source": [
        "# import numpy as np\n",
        "# import matplotlib.pyplot as plt\n",
        "# from tensorflow.keras.datasets import fashion_mnist\n",
        "# from scipy.ndimage import binary_erosion, binary_dilation\n",
        "\n",
        "# # Binary Addition\n",
        "# def binary_addition(img, img1):\n",
        "#     \"\"\"Performs binary addition with carry handled.\"\"\"\n",
        "#     result = img + img1  # Add images\n",
        "#     result[result > 1] = 1  # Ensure binary values (clipping to 1)\n",
        "#     return result\n",
        "\n",
        "# # Binary Erosion\n",
        "# def binary_erosion_operation(binary_img, structure=None):\n",
        "#     \"\"\"\n",
        "#     Performs erosion on a binary image.\n",
        "#     :param binary_img: Input binary image\n",
        "#     :param structure: Structuring element (default: 3x3 square)\n",
        "#     \"\"\"\n",
        "#     if structure is None:\n",
        "#         structure = np.ones((3, 3))  # Default 3x3 square structuring element\n",
        "#     eroded = binary_erosion(binary_img, structure=structure)\n",
        "#     return eroded\n",
        "\n",
        "# # Binary Dilation\n",
        "# def binary_dilation_operation(binary_img, structure=None):\n",
        "#     \"\"\"\n",
        "#     Performs dilation on a binary image.\n",
        "#     :param binary_img: Input binary image\n",
        "#     :param structure: Structuring element (default: 3x3 square)\n",
        "#     \"\"\"\n",
        "#     if structure is None:\n",
        "#         structure = np.ones((3, 3))  # Default 3x3 square structuring element\n",
        "#     dilated = binary_dilation(binary_img, structure=structure)\n",
        "#     return dilated\n",
        "\n",
        "# # Load Fashion MNIST Dataset\n",
        "# def load_and_preprocess_data():\n",
        "#     (x_train, y_train), (_, _) = fashion_mnist.load_data()\n",
        "#     # Select two images from the dataset\n",
        "#     img = x_train[0]  # Image 1 (grayscale)\n",
        "#     img1 = x_train[1]  # Image 2 (grayscale)\n",
        "\n",
        "#     # Binarize the images (thresholding)\n",
        "#     img = (img > 128).astype(int)  # Convert to binary\n",
        "#     img1 = (img1 > 128).astype(int)  # Convert to binary\n",
        "\n",
        "#     return img, img1\n",
        "\n",
        "# # Main execution\n",
        "# if __name__ == \"__main__\":\n",
        "#     # Load and preprocess images\n",
        "#     img, img1 = load_and_preprocess_data()\n",
        "\n",
        "#     # Perform binary addition\n",
        "#     added_image = binary_addition(img, img1)\n",
        "\n",
        "#     # Perform erosion and dilation on the added image\n",
        "#     eroded_image = binary_erosion_operation(added_image)\n",
        "#     dilated_image = binary_dilation_operation(added_image)\n",
        "\n",
        "#     # Display results\n",
        "#     fig, axs = plt.subplots(1, 4, figsize=(15, 5))\n",
        "#     axs[0].imshow(img, cmap='gray')\n",
        "#     axs[0].set_title('Image 1')\n",
        "#     axs[0].axis('off')\n",
        "\n",
        "#     axs[1].imshow(img1, cmap='gray')\n",
        "#     axs[1].set_title('Image 2')\n",
        "#     axs[1].axis('off')\n",
        "\n",
        "#     axs[2].imshow(eroded_image, cmap='gray')\n",
        "#     axs[2].set_title('Eroded (After Addition)')\n",
        "#     axs[2].axis('off')\n",
        "\n",
        "#     axs[3].imshow(dilated_image, cmap='gray')\n",
        "#     axs[3].set_title('Dilated (After Addition)')\n",
        "#     axs[3].axis('off')\n",
        "\n",
        "#     plt.show()\n"
      ],
      "metadata": {
        "id": "a6-55ZvfTTn_"
      },
      "execution_count": null,
      "outputs": []
    },
    {
      "cell_type": "markdown",
      "source": [
        "# Experiment 10"
      ],
      "metadata": {
        "id": "0Jwh7j3ZKr2P"
      }
    },
    {
      "cell_type": "code",
      "source": [],
      "metadata": {
        "id": "rc6s4I_nKqBc"
      },
      "execution_count": null,
      "outputs": []
    }
  ]
}