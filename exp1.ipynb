{
 "cells": [
  {
   "cell_type": "code",
   "execution_count": 3,
   "metadata": {},
   "outputs": [
    {
     "name": "stdout",
     "output_type": "stream",
     "text": [
      "Automatic calling is: Smart\n"
     ]
    }
   ],
   "source": [
    "%autocall 1"
   ]
  },
  {
   "cell_type": "code",
   "execution_count": 5,
   "metadata": {},
   "outputs": [],
   "source": [
    "import tensorflow as tf\n",
    "from PIL import Image\n",
    "import numpy as np\n",
    "import matplotlib.pyplot as plt\n",
    "import pandas as pd"
   ]
  },
  {
   "cell_type": "markdown",
   "metadata": {},
   "source": [
    "---"
   ]
  },
  {
   "cell_type": "code",
   "execution_count": 8,
   "metadata": {},
   "outputs": [
    {
     "name": "stdout",
     "output_type": "stream",
     "text": [
      "(60000, 785)\n"
     ]
    }
   ],
   "source": [
    "train = pd.read_csv('images/mnist_train.csv')\n",
    "\n",
    "print(train.shape)"
   ]
  },
  {
   "cell_type": "code",
   "execution_count": 15,
   "metadata": {},
   "outputs": [],
   "source": [
    "row_num = 59999\n",
    "\n",
    "if row_num >= 0 and row_num < train.shape[0]:\n",
    "    pixels = train.iloc[row_num][1:].values.reshape(28, 28)\n",
    "    array = np.array(pixels, dtype=np.uint8)\n",
    "    image = Image.fromarray(array)\n",
    "    image = Image.save\n",
    "else:\n",
    "    print(\"Row index out of bounds\")"
   ]
  },
  {
   "cell_type": "markdown",
   "metadata": {},
   "source": [
    "### Image Cropping"
   ]
  },
  {
   "cell_type": "code",
   "execution_count": 16,
   "metadata": {},
   "outputs": [
    {
     "data": {
      "image/png": "[encoded data removed]",
      "text/plain": [
       "<Figure size 640x480 with 1 Axes>"
      ]
     },
     "metadata": {},
     "output_type": "display_data"
    }
   ],
   "source": [
    "x_start, y_start = 10, 10\n",
    "x_end, y_end = 20, 20\n",
    "\n",
    "image = np.array(image)\n",
    "\n",
    "cropped_image = image[y_start:y_end, x_start:x_end]\n",
    "\n",
    "cropped_image = Image.fromarray(np.uint8(cropped_image))\n",
    "\n",
    "plt.imshow(cropped_image, cmap='gray')\n",
    "plt.show()"
   ]
  },
  {
   "cell_type": "markdown",
   "metadata": {},
   "source": [
    "---"
   ]
  },
  {
   "cell_type": "code",
   "execution_count": 26,
   "metadata": {},
   "outputs": [
    {
     "name": "stdout",
     "output_type": "stream",
     "text": [
      "29569\n",
      "49919\n"
     ]
    }
   ],
   "source": [
    "row_num1 = np.random.randint(60000)\n",
    "row_num2 = np.random.randint(60000)\n",
    "\n",
    "if row_num >= 0 and row_num < train.shape[0]:\n",
    "    pixels = train.iloc[row_num1][1:].values.reshape(28, 28)\n",
    "    array1 = np.array(pixels, dtype=np.uint8)\n",
    "    image1 = Image.fromarray(array1)\n",
    "    pixels = train.iloc[row_num2][1:].values.reshape(28, 28)\n",
    "    array2 = np.array(pixels, dtype=np.uint8)\n",
    "    image2 = Image.fromarray(array2)\n",
    "else:\n",
    "    print(\"Row index out of bounds\")\n",
    "\n",
    "print(row_num1)\n",
    "print(row_num2)"
   ]
  },
  {
   "cell_type": "markdown",
   "metadata": {},
   "source": [
    "### Addition Method"
   ]
  },
  {
   "cell_type": "code",
   "execution_count": 27,
   "metadata": {},
   "outputs": [
    {
     "data": {
      "image/png": "[encoded data removed]",
      "text/plain": [
       "<Figure size 640x480 with 3 Axes>"
      ]
     },
     "metadata": {},
     "output_type": "display_data"
    }
   ],
   "source": [
    "image1 = Image.fromarray(np.uint8(image1))\n",
    "image2 = Image.fromarray(np.uint8(image2))\n",
    "\n",
    "add_img = np.uint8(image1) + np.uint8(image2)\n",
    "\n",
    "plt.subplot(1, 3, 1)\n",
    "plt.imshow(image1, cmap='gray')\n",
    "plt.subplot(1, 3, 2)\n",
    "plt.imshow(image2, cmap='gray')\n",
    "plt.subplot(1, 3, 3)\n",
    "plt.imshow(add_img, cmap='gray')\n",
    "\n",
    "plt.show()"
   ]
  },
  {
   "cell_type": "markdown",
   "metadata": {},
   "source": [
    "---"
   ]
  },
  {
   "cell_type": "markdown",
   "metadata": {},
   "source": [
    "### Subtraction Method"
   ]
  },
  {
   "cell_type": "code",
   "execution_count": 28,
   "metadata": {},
   "outputs": [
    {
     "data": {
      "image/png": "[encoded data removed]",
      "text/plain": [
       "<Figure size 640x480 with 3 Axes>"
      ]
     },
     "metadata": {},
     "output_type": "display_data"
    }
   ],
   "source": [
    "sub_img = np.uint8(image1) - np.uint8(image2)\n",
    "\n",
    "plt.subplot(1, 3, 1)\n",
    "plt.imshow(image1, cmap='gray')\n",
    "plt.subplot(1, 3, 2)\n",
    "plt.imshow(image2, cmap='gray')\n",
    "plt.subplot(1, 3, 3)\n",
    "plt.imshow(sub_img, cmap='gray')\n",
    "\n",
    "plt.show()"
   ]
  },
  {
   "cell_type": "markdown",
   "metadata": {},
   "source": [
    "---"
   ]
  },
  {
   "cell_type": "markdown",
   "metadata": {},
   "source": [
    "### Multiplication Operation"
   ]
  },
  {
   "cell_type": "code",
   "execution_count": 29,
   "metadata": {},
   "outputs": [
    {
     "data": {
      "image/png": "[encoded data removed]",
      "text/plain": [
       "<Figure size 640x480 with 3 Axes>"
      ]
     },
     "metadata": {},
     "output_type": "display_data"
    }
   ],
   "source": [
    "mul_img = np.uint8(image1) * np.uint8(image2)\n",
    "\n",
    "plt.subplot(1, 3, 1)\n",
    "plt.imshow(image1, cmap='gray')\n",
    "plt.subplot(1, 3, 2)\n",
    "plt.imshow(image2, cmap='gray')\n",
    "plt.subplot(1, 3, 3)\n",
    "plt.imshow(mul_img, cmap='gray')\n",
    "\n",
    "plt.show()"
   ]
  },
  {
   "cell_type": "markdown",
   "metadata": {},
   "source": [
    "---"
   ]
  },
  {
   "cell_type": "markdown",
   "metadata": {},
   "source": [
    "### Division Operation"
   ]
  },
  {
   "cell_type": "code",
   "execution_count": 30,
   "metadata": {},
   "outputs": [
    {
     "data": {
      "image/png": "[encoded data removed]",
      "text/plain": [
       "<Figure size 640x480 with 3 Axes>"
      ]
     },
     "metadata": {},
     "output_type": "display_data"
    }
   ],
   "source": [
    "# Add a small constant to avoid division by zero\n",
    "epsilon = 1e-10  # Small constant to prevent division by zero\n",
    "div_img = np.float32(image1) / (np.float32(image2) + epsilon)\n",
    "\n",
    "# Clip the results to a reasonable range if needed\n",
    "div_img = np.clip(div_img, 0, 255)\n",
    "div_img = np.uint8(div_img)\n",
    "\n",
    "plt.subplot(1, 3, 1)\n",
    "plt.imshow(image1, cmap='gray')\n",
    "plt.title('Image 1')\n",
    "plt.subplot(1, 3, 2)\n",
    "plt.imshow(image2, cmap='gray')\n",
    "plt.title('Image 2')\n",
    "plt.subplot(1, 3, 3)\n",
    "plt.imshow(div_img, cmap='gray')\n",
    "plt.title('Division Result')\n",
    "\n",
    "plt.show()"
   ]
  },
  {
   "cell_type": "markdown",
   "metadata": {},
   "source": [
    "---"
   ]
  },
  {
   "cell_type": "markdown",
   "metadata": {},
   "source": [
    "### AND Operation"
   ]
  },
  {
   "cell_type": "code",
   "execution_count": 31,
   "metadata": {},
   "outputs": [
    {
     "data": {
      "image/png": "[encoded data removed]",
      "text/plain": [
       "<Figure size 640x480 with 3 Axes>"
      ]
     },
     "metadata": {},
     "output_type": "display_data"
    }
   ],
   "source": [
    "and_img = np.bitwise_and(image1, image2)\n",
    "\n",
    "plt.subplot(1, 3, 1)\n",
    "plt.imshow(image1, cmap='gray')\n",
    "plt.subplot(1, 3, 2)\n",
    "plt.imshow(image2, cmap='gray')\n",
    "plt.subplot(1, 3, 3)\n",
    "plt.imshow(and_img, cmap='gray')\n",
    "\n",
    "plt.show()"
   ]
  },
  {
   "cell_type": "markdown",
   "metadata": {},
   "source": [
    "---"
   ]
  },
  {
   "cell_type": "markdown",
   "metadata": {},
   "source": [
    "### OR Operation"
   ]
  },
  {
   "cell_type": "code",
   "execution_count": 32,
   "metadata": {},
   "outputs": [
    {
     "data": {
      "image/png": "[encoded data removed]",
      "text/plain": [
       "<Figure size 640x480 with 3 Axes>"
      ]
     },
     "metadata": {},
     "output_type": "display_data"
    }
   ],
   "source": [
    "or_img = np.bitwise_or(image1, image2)\n",
    "\n",
    "plt.subplot(1, 3, 1)\n",
    "plt.imshow(image1, cmap='gray')\n",
    "plt.subplot(1, 3, 2)\n",
    "plt.imshow(image2, cmap='gray')\n",
    "plt.subplot(1, 3, 3)\n",
    "plt.imshow(or_img, cmap='gray')\n",
    "\n",
    "plt.show()"
   ]
  },
  {
   "cell_type": "markdown",
   "metadata": {},
   "source": [
    "---"
   ]
  },
  {
   "cell_type": "markdown",
   "metadata": {},
   "source": [
    "### NOT Operation"
   ]
  },
  {
   "cell_type": "code",
   "execution_count": 35,
   "metadata": {},
   "outputs": [
    {
     "data": {
      "image/png": "[encoded data removed]",
      "text/plain": [
       "<Figure size 640x480 with 2 Axes>"
      ]
     },
     "metadata": {},
     "output_type": "display_data"
    }
   ],
   "source": [
    "not_img = np.bitwise_not(image)\n",
    "\n",
    "plt.subplot(1, 2, 1)\n",
    "plt.imshow(image, cmap='gray')\n",
    "plt.subplot(1, 2, 2)\n",
    "plt.imshow(not_img, cmap='gray')\n",
    "\n",
    "plt.show()"
   ]
  },
  {
   "cell_type": "markdown",
   "metadata": {},
   "source": [
    "---"
   ]
  },
  {
   "cell_type": "markdown",
   "metadata": {},
   "source": [
    "### XOR Operation"
   ]
  },
  {
   "cell_type": "code",
   "execution_count": 36,
   "metadata": {},
   "outputs": [
    {
     "data": {
      "image/png": "[encoded data removed]",
      "text/plain": [
       "<Figure size 640x480 with 3 Axes>"
      ]
     },
     "metadata": {},
     "output_type": "display_data"
    }
   ],
   "source": [
    "xor_img = np.bitwise_xor(image1, image2)\n",
    "\n",
    "plt.subplot(1, 3, 1)\n",
    "plt.imshow(image1, cmap='gray')\n",
    "plt.subplot(1, 3, 2)\n",
    "plt.imshow(image2, cmap='gray')\n",
    "plt.subplot(1, 3, 3)\n",
    "plt.imshow(xor_img, cmap='gray')\n",
    "\n",
    "plt.show()"
   ]
  },
  {
   "cell_type": "markdown",
   "metadata": {},
   "source": [
    "---"
   ]
  },
  {
   "cell_type": "markdown",
   "metadata": {},
   "source": [
    "### Leftshift Operation"
   ]
  },
  {
   "cell_type": "code",
   "execution_count": 37,
   "metadata": {},
   "outputs": [
    {
     "data": {
      "image/png": "[encoded data removed]",
      "text/plain": [
       "<Figure size 640x480 with 2 Axes>"
      ]
     },
     "metadata": {},
     "output_type": "display_data"
    }
   ],
   "source": [
    "leftshift_img = (image << 2)\n",
    "\n",
    "plt.subplot(1, 2, 1)\n",
    "plt.imshow(image, cmap='gray')\n",
    "plt.subplot(1, 2 ,2)\n",
    "plt.imshow(leftshift_img, cmap='gray')\n",
    "\n",
    "plt.show()"
   ]
  },
  {
   "cell_type": "markdown",
   "metadata": {},
   "source": [
    "---"
   ]
  },
  {
   "cell_type": "markdown",
   "metadata": {},
   "source": [
    "### Rightshift Operation"
   ]
  },
  {
   "cell_type": "code",
   "execution_count": 38,
   "metadata": {},
   "outputs": [
    {
     "data": {
      "image/png": "[encoded data removed]",
      "text/plain": [
       "<Figure size 640x480 with 2 Axes>"
      ]
     },
     "metadata": {},
     "output_type": "display_data"
    }
   ],
   "source": [
    "rightshift_img = (image >> 2)\n",
    "\n",
    "plt.subplot(1, 2, 1)\n",
    "plt.imshow(image, cmap='gray')\n",
    "plt.subplot(1, 2 ,2)\n",
    "plt.imshow(rightshift_img, cmap='gray')\n",
    "\n",
    "plt.show()"
   ]
  },
  {
   "cell_type": "markdown",
   "metadata": {},
   "source": [
    "---"
   ]
  }
 ],
 "metadata": {
  "kernelspec": {
   "display_name": "Python 3 (ipykernel)",
   "language": "python",
   "name": "python3"
  },
  "language_info": {
   "codemirror_mode": {
    "name": "ipython",
    "version": 3
   },
   "file_extension": ".py",
   "mimetype": "text/x-python",
   "name": "python",
   "nbconvert_exporter": "python",
   "pygments_lexer": "ipython3",
   "version": "3.12.7"
  }
 },
 "nbformat": 4,
 "nbformat_minor": 4
}
